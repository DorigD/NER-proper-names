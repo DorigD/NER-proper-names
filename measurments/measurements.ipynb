{
 "cells": [
  {
   "cell_type": "code",
   "execution_count": null,
   "metadata": {},
   "outputs": [],
   "source": []
  },
  {
   "cell_type": "code",
   "execution_count": 1,
   "metadata": {},
   "outputs": [
    {
     "name": "stdout",
     "output_type": "stream",
     "text": [
      "After converting a.conll, result.json contains 1000 entries\n",
      "Converted c:\\users\\administrator\\desktop\\ner-proper-names\\data\\used\\APW_19980314 to c:\\users\\administrator\\desktop\\ner-proper-names\\data\\json\\result.json\n",
      "After converting APW_19980314, result.json contains 23 entries\n",
      "Converted c:\\users\\administrator\\desktop\\ner-proper-names\\data\\used\\APW_19980424 to c:\\users\\administrator\\desktop\\ner-proper-names\\data\\json\\result.json\n",
      "After converting APW_19980424, result.json contains 17 entries\n",
      "Converted c:\\users\\administrator\\desktop\\ner-proper-names\\data\\used\\APW_19980429 to c:\\users\\administrator\\desktop\\ner-proper-names\\data\\json\\result.json\n",
      "After converting APW_19980429, result.json contains 3 entries\n",
      "After converting b.conll, result.json contains 2000 entries\n",
      "After converting e.conll, result.json contains 200 entries\n",
      "After converting f.conll, result.json contains 2000 entries\n",
      "After converting g.conll, result.json contains 2138 entries\n",
      "After converting h.conll, result.json contains 2001 entries\n",
      "After converting KAGGLE.csv, result.json contains 47959 entries\n",
      "Converted c:\\users\\administrator\\desktop\\ner-proper-names\\data\\used\\NYT_19980315 to c:\\users\\administrator\\desktop\\ner-proper-names\\data\\json\\result.json\n",
      "After converting NYT_19980315, result.json contains 13 entries\n",
      "Converted c:\\users\\administrator\\desktop\\ner-proper-names\\data\\used\\NYT_19980403 to c:\\users\\administrator\\desktop\\ner-proper-names\\data\\json\\result.json\n",
      "After converting NYT_19980403, result.json contains 23 entries\n",
      "Converted c:\\users\\administrator\\desktop\\ner-proper-names\\data\\used\\NYT_19980407 to c:\\users\\administrator\\desktop\\ner-proper-names\\data\\json\\result.json\n",
      "After converting NYT_19980407, result.json contains 15 entries\n",
      "After converting ritter.txt, result.json contains 2394 entries\n",
      "After converting WNUT.conll, result.json contains 5688 entries\n"
     ]
    }
   ],
   "source": [
    "from main import NER\n",
    "from utils.config import DATA_DIR\n",
    "from scripts.converters.Converter import convert_file\n",
    "import os\n",
    "import json  # Added json import\n",
    "\n",
    "json_dir = os.path.join(DATA_DIR, \"json\")\n",
    "result_json_path = os.path.join(json_dir, \"result.json\")\n",
    "\n",
    "for file in os.listdir(os.path.join(DATA_DIR, \"used\")):\n",
    "    convert_file(input_file_path=os.path.join(DATA_DIR, \"used\", file), cleanup=False, replace=True)\n",
    "    # Read and count entries in result.json after each conversion\n",
    "    with open(result_json_path, 'r', encoding='utf-8') as f:\n",
    "        data = json.load(f)\n",
    "        print(f\"After converting {file}, result.json contains {len(data)} entries\")"
   ]
  },
  {
   "cell_type": "code",
   "execution_count": null,
   "metadata": {},
   "outputs": [
    {
     "name": "stdout",
     "output_type": "stream",
     "text": [
      "Converted c:\\users\\administrator\\desktop\\ner-proper-names\\data\\raw\\NYT_19980407 to c:\\users\\administrator\\desktop\\ner-proper-names\\data\\tmp.json\n"
     ]
    },
    {
     "data": {
      "text/plain": [
       "True"
      ]
     },
     "execution_count": 8,
     "metadata": {},
     "output_type": "execute_result"
    }
   ],
   "source": [
    "from main import NER\n",
    "import os\n",
    "from utils.config import DATA_DIR\n",
    "from scripts.converters.converter_txt import convert_txt_to_json\n",
    "convert_txt_to_json(\n",
    "    txt_file_path=os.path.join(DATA_DIR, \"conllpp_train.txt\"), \n",
    "    json_file_path=os.path.join(DATA_DIR, \"conllpp_train.json\"),  # Specify full filename\n",
    "    replace=True\n",
    ")\n",
    "ner = NER()\n",
    "ner.load_model()\n",
    "from scripts.preprocess import preprocess\n",
    "preprocess(\n",
    "    json_path=os.path.join(DATA_DIR, \"conllpp_train.json\"),\n",
    "    save_path=os.path.join(DATA_DIR, \"tokenized_test\"),\n",
    "    is_testing=True\n",
    ")\n",
    "ner.evaluate_transformers(test_dataset=os.path.join(DATA_DIR, \"tokenized_test\"))"
   ]
  }
 ],
 "metadata": {
  "kernelspec": {
   "display_name": "NER",
   "language": "python",
   "name": "python3"
  },
  "language_info": {
   "codemirror_mode": {
    "name": "ipython",
    "version": 3
   },
   "file_extension": ".py",
   "mimetype": "text/x-python",
   "name": "python",
   "nbconvert_exporter": "python",
   "pygments_lexer": "ipython3",
   "version": "3.13.2"
  }
 },
 "nbformat": 4,
 "nbformat_minor": 2
}
