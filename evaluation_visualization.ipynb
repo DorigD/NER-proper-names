{
 "cells": [
  {
   "cell_type": "markdown",
   "id": "f1ddc972",
   "metadata": {},
   "source": [
    "# NER Model Evaluation Results Visualization\n",
    "\n",
    "This notebook provides comprehensive visualizations for the NER model evaluation results, comparing TITLE and NO-TITLE models across different datasets.\n",
    "\n",
    "## Visualizations Included:\n",
    "1. **Performance Comparison Charts** - F1, Precision, Recall comparisons\n",
    "2. **Model Efficiency Analysis** - Inference time and model size comparisons\n",
    "3. **Dataset-specific Performance** - Detailed breakdown by dataset\n",
    "4. **Aggregated Statistics** - Summary statistics and trends\n",
    "5. **Radar Charts** - Multi-dimensional performance comparison\n",
    "6. **Statistical Analysis** - Confidence intervals and significance tests"
   ]
  },
  {
   "cell_type": "code",
   "execution_count": 15,
   "id": "caf50b94",
   "metadata": {},
   "outputs": [
    {
     "name": "stdout",
     "output_type": "stream",
     "text": [
      "✅ Libraries imported successfully!\n",
      "📊 Charts will be saved to: /home/daniel-dorigo/Desktop/NER-proper-names/charts\n"
     ]
    }
   ],
   "source": [
    "# Import Required Libraries\n",
    "import pandas as pd\n",
    "import numpy as np\n",
    "import matplotlib.pyplot as plt\n",
    "import seaborn as sns\n",
    "import plotly.express as px\n",
    "import plotly.graph_objects as go\n",
    "from plotly.subplots import make_subplots\n",
    "import plotly.figure_factory as ff\n",
    "from pathlib import Path\n",
    "import warnings\n",
    "from datetime import datetime\n",
    "import os\n",
    "\n",
    "# Configure plotting\n",
    "plt.style.use('seaborn-v0_8')\n",
    "sns.set_palette(\"husl\")\n",
    "warnings.filterwarnings('ignore')\n",
    "\n",
    "# Set up paths\n",
    "RESULTS_PATH = Path('/home/daniel-dorigo/Desktop/NER-proper-names/evaluation_results')\n",
    "CHARTS_PATH = Path('/home/daniel-dorigo/Desktop/NER-proper-names/charts')\n",
    "CHARTS_PATH.mkdir(exist_ok=True)\n",
    "\n",
    "print(\"✅ Libraries imported successfully!\")\n",
    "print(f\"📊 Charts will be saved to: {CHARTS_PATH}\")"
   ]
  },
  {
   "cell_type": "code",
   "execution_count": 16,
   "id": "c90cdfb1",
   "metadata": {},
   "outputs": [
    {
     "name": "stdout",
     "output_type": "stream",
     "text": [
      "📂 Loading results from: detailed_evaluation_results_20250611_004238.csv\n",
      "📊 Loaded 8 evaluation records\n",
      "📈 Models: ['TITLE' 'NO-TITLE']\n",
      "📋 Datasets: ['conllpp_train' 'KAGGLE' 'ritter' 'WNUT']\n",
      "\n",
      "🔍 Data Overview:\n",
      "  Shape: (8, 12)\n",
      "  Columns: ['dataset', 'model_type', 'num_samples', 'inference_time_seconds', 'inference_time_per_sample', 'person_precision', 'person_recall', 'person_f1', 'entity_f1_macro', 'token_accuracy', 'timestamp', 'model_size_mb']\n",
      "\n",
      "📊 Sample Data:\n"
     ]
    },
    {
     "data": {
      "text/html": [
       "<div>\n",
       "<style scoped>\n",
       "    .dataframe tbody tr th:only-of-type {\n",
       "        vertical-align: middle;\n",
       "    }\n",
       "\n",
       "    .dataframe tbody tr th {\n",
       "        vertical-align: top;\n",
       "    }\n",
       "\n",
       "    .dataframe thead th {\n",
       "        text-align: right;\n",
       "    }\n",
       "</style>\n",
       "<table border=\"1\" class=\"dataframe\">\n",
       "  <thead>\n",
       "    <tr style=\"text-align: right;\">\n",
       "      <th></th>\n",
       "      <th>dataset</th>\n",
       "      <th>model_type</th>\n",
       "      <th>person_f1</th>\n",
       "      <th>person_precision</th>\n",
       "      <th>person_recall</th>\n",
       "      <th>token_accuracy</th>\n",
       "    </tr>\n",
       "  </thead>\n",
       "  <tbody>\n",
       "    <tr>\n",
       "      <th>0</th>\n",
       "      <td>conllpp_train</td>\n",
       "      <td>TITLE</td>\n",
       "      <td>0.883776</td>\n",
       "      <td>0.838224</td>\n",
       "      <td>0.934564</td>\n",
       "      <td>0.988447</td>\n",
       "    </tr>\n",
       "    <tr>\n",
       "      <th>1</th>\n",
       "      <td>KAGGLE</td>\n",
       "      <td>TITLE</td>\n",
       "      <td>0.719136</td>\n",
       "      <td>0.647808</td>\n",
       "      <td>0.808116</td>\n",
       "      <td>0.964158</td>\n",
       "    </tr>\n",
       "    <tr>\n",
       "      <th>2</th>\n",
       "      <td>ritter</td>\n",
       "      <td>TITLE</td>\n",
       "      <td>0.245322</td>\n",
       "      <td>0.144608</td>\n",
       "      <td>0.808219</td>\n",
       "      <td>0.930461</td>\n",
       "    </tr>\n",
       "    <tr>\n",
       "      <th>3</th>\n",
       "      <td>WNUT</td>\n",
       "      <td>TITLE</td>\n",
       "      <td>0.377111</td>\n",
       "      <td>0.266578</td>\n",
       "      <td>0.644231</td>\n",
       "      <td>0.947684</td>\n",
       "    </tr>\n",
       "    <tr>\n",
       "      <th>4</th>\n",
       "      <td>conllpp_train</td>\n",
       "      <td>NO-TITLE</td>\n",
       "      <td>0.894456</td>\n",
       "      <td>0.876106</td>\n",
       "      <td>0.913591</td>\n",
       "      <td>0.991795</td>\n",
       "    </tr>\n",
       "  </tbody>\n",
       "</table>\n",
       "</div>"
      ],
      "text/plain": [
       "         dataset model_type  person_f1  person_precision  person_recall  \\\n",
       "0  conllpp_train      TITLE   0.883776          0.838224       0.934564   \n",
       "1         KAGGLE      TITLE   0.719136          0.647808       0.808116   \n",
       "2         ritter      TITLE   0.245322          0.144608       0.808219   \n",
       "3           WNUT      TITLE   0.377111          0.266578       0.644231   \n",
       "4  conllpp_train   NO-TITLE   0.894456          0.876106       0.913591   \n",
       "\n",
       "   token_accuracy  \n",
       "0        0.988447  \n",
       "1        0.964158  \n",
       "2        0.930461  \n",
       "3        0.947684  \n",
       "4        0.991795  "
      ]
     },
     "execution_count": 16,
     "metadata": {},
     "output_type": "execute_result"
    }
   ],
   "source": [
    "# Load the Latest Evaluation Results\n",
    "def load_latest_results():\n",
    "    \"\"\"Load the most recent evaluation results.\"\"\"\n",
    "    csv_files = list(RESULTS_PATH.glob(\"detailed_evaluation_results_*.csv\"))\n",
    "    \n",
    "    if not csv_files:\n",
    "        raise FileNotFoundError(\"No evaluation results found!\")\n",
    "    \n",
    "    # Get the most recent file\n",
    "    latest_file = max(csv_files, key=lambda x: x.stat().st_mtime)\n",
    "    print(f\"📂 Loading results from: {latest_file.name}\")\n",
    "    \n",
    "    df = pd.read_csv(latest_file)\n",
    "    print(f\"📊 Loaded {len(df)} evaluation records\")\n",
    "    print(f\"📈 Models: {df['model_type'].unique()}\")\n",
    "    print(f\"📋 Datasets: {df['dataset'].unique()}\")\n",
    "    \n",
    "    return df, latest_file.stem\n",
    "\n",
    "# Load data\n",
    "df_results, results_timestamp = load_latest_results()\n",
    "\n",
    "# Display basic info\n",
    "print(\"\\n🔍 Data Overview:\")\n",
    "print(f\"  Shape: {df_results.shape}\")\n",
    "print(f\"  Columns: {list(df_results.columns)}\")\n",
    "print(\"\\n📊 Sample Data:\")\n",
    "display_cols = ['dataset', 'model_type', 'person_f1', 'person_precision', 'person_recall', 'token_accuracy']\n",
    "df_results[display_cols].head()"
   ]
  },
  {
   "cell_type": "code",
   "execution_count": 17,
   "id": "8828f9f3",
   "metadata": {},
   "outputs": [
    {
     "name": "stdout",
     "output_type": "stream",
     "text": [
      "📈 Aggregated Statistics:\n"
     ]
    },
    {
     "data": {
      "text/html": [
       "<div>\n",
       "<style scoped>\n",
       "    .dataframe tbody tr th:only-of-type {\n",
       "        vertical-align: middle;\n",
       "    }\n",
       "\n",
       "    .dataframe tbody tr th {\n",
       "        vertical-align: top;\n",
       "    }\n",
       "\n",
       "    .dataframe thead th {\n",
       "        text-align: right;\n",
       "    }\n",
       "</style>\n",
       "<table border=\"1\" class=\"dataframe\">\n",
       "  <thead>\n",
       "    <tr style=\"text-align: right;\">\n",
       "      <th></th>\n",
       "      <th>model_type</th>\n",
       "      <th>num_datasets</th>\n",
       "      <th>total_samples</th>\n",
       "      <th>person_f1_mean</th>\n",
       "      <th>person_f1_std</th>\n",
       "      <th>person_f1_min</th>\n",
       "      <th>person_f1_max</th>\n",
       "      <th>person_precision_mean</th>\n",
       "      <th>person_precision_std</th>\n",
       "      <th>person_recall_mean</th>\n",
       "      <th>person_recall_std</th>\n",
       "      <th>token_accuracy_mean</th>\n",
       "      <th>token_accuracy_std</th>\n",
       "      <th>avg_inference_time_per_sample</th>\n",
       "      <th>model_size_mb</th>\n",
       "    </tr>\n",
       "  </thead>\n",
       "  <tbody>\n",
       "    <tr>\n",
       "      <th>0</th>\n",
       "      <td>TITLE</td>\n",
       "      <td>4</td>\n",
       "      <td>7104</td>\n",
       "      <td>0.556336</td>\n",
       "      <td>0.295845</td>\n",
       "      <td>0.245322</td>\n",
       "      <td>0.883776</td>\n",
       "      <td>0.474304</td>\n",
       "      <td>0.323724</td>\n",
       "      <td>0.798783</td>\n",
       "      <td>0.119022</td>\n",
       "      <td>0.957687</td>\n",
       "      <td>0.024694</td>\n",
       "      <td>44.530326</td>\n",
       "      <td>484.540474</td>\n",
       "    </tr>\n",
       "    <tr>\n",
       "      <th>1</th>\n",
       "      <td>NO-TITLE</td>\n",
       "      <td>4</td>\n",
       "      <td>7104</td>\n",
       "      <td>0.584320</td>\n",
       "      <td>0.284219</td>\n",
       "      <td>0.283619</td>\n",
       "      <td>0.894456</td>\n",
       "      <td>0.512445</td>\n",
       "      <td>0.325427</td>\n",
       "      <td>0.781903</td>\n",
       "      <td>0.130244</td>\n",
       "      <td>0.968749</td>\n",
       "      <td>0.021517</td>\n",
       "      <td>46.470687</td>\n",
       "      <td>484.528656</td>\n",
       "    </tr>\n",
       "  </tbody>\n",
       "</table>\n",
       "</div>"
      ],
      "text/plain": [
       "  model_type  num_datasets  total_samples  person_f1_mean  person_f1_std  \\\n",
       "0      TITLE             4           7104        0.556336       0.295845   \n",
       "1   NO-TITLE             4           7104        0.584320       0.284219   \n",
       "\n",
       "   person_f1_min  person_f1_max  person_precision_mean  person_precision_std  \\\n",
       "0       0.245322       0.883776               0.474304              0.323724   \n",
       "1       0.283619       0.894456               0.512445              0.325427   \n",
       "\n",
       "   person_recall_mean  person_recall_std  token_accuracy_mean  \\\n",
       "0            0.798783           0.119022             0.957687   \n",
       "1            0.781903           0.130244             0.968749   \n",
       "\n",
       "   token_accuracy_std  avg_inference_time_per_sample  model_size_mb  \n",
       "0            0.024694                      44.530326     484.540474  \n",
       "1            0.021517                      46.470687     484.528656  "
      ]
     },
     "execution_count": 17,
     "metadata": {},
     "output_type": "execute_result"
    }
   ],
   "source": [
    "# Calculate Aggregated Statistics\n",
    "def calculate_aggregated_stats(df):\n",
    "    \"\"\"Calculate aggregated statistics by model type.\"\"\"\n",
    "    agg_stats = []\n",
    "    \n",
    "    for model_type in df['model_type'].unique():\n",
    "        model_data = df[df['model_type'] == model_type]\n",
    "        \n",
    "        stats = {\n",
    "            'model_type': model_type,\n",
    "            'num_datasets': len(model_data),\n",
    "            'total_samples': model_data['num_samples'].sum(),\n",
    "            'person_f1_mean': model_data['person_f1'].mean(),\n",
    "            'person_f1_std': model_data['person_f1'].std(),\n",
    "            'person_f1_min': model_data['person_f1'].min(),\n",
    "            'person_f1_max': model_data['person_f1'].max(),\n",
    "            'person_precision_mean': model_data['person_precision'].mean(),\n",
    "            'person_precision_std': model_data['person_precision'].std(),\n",
    "            'person_recall_mean': model_data['person_recall'].mean(),\n",
    "            'person_recall_std': model_data['person_recall'].std(),\n",
    "            'token_accuracy_mean': model_data['token_accuracy'].mean(),\n",
    "            'token_accuracy_std': model_data['token_accuracy'].std(),\n",
    "            'avg_inference_time_per_sample': model_data['inference_time_per_sample'].mean() * 1000,  # Convert to ms\n",
    "            'model_size_mb': model_data['model_size_mb'].iloc[0]\n",
    "        }\n",
    "        agg_stats.append(stats)\n",
    "    \n",
    "    return pd.DataFrame(agg_stats)\n",
    "\n",
    "df_aggregated = calculate_aggregated_stats(df_results)\n",
    "print(\"📈 Aggregated Statistics:\")\n",
    "df_aggregated"
   ]
  },
  {
   "cell_type": "code",
   "execution_count": 18,
   "id": "be50e072",
   "metadata": {},
   "outputs": [
    {
     "data": {
      "application/vnd.plotly.v1+json": {
       "config": {
        "plotlyServerURL": "https://plot.ly"
       },
       "data": [
        {
         "marker": {
          "color": "#1f77b4"
         },
         "name": "TITLE Model",
         "showlegend": true,
         "type": "bar",
         "x": [
          "conllpp_train",
          "KAGGLE",
          "ritter",
          "WNUT"
         ],
         "xaxis": "x",
         "y": {
          "bdata": "hhUMMeVH7D8ilVhbKgPnP2v2USa4Zs8/rHWf5JQi2D8=",
          "dtype": "f8"
         },
         "yaxis": "y"
        },
        {
         "marker": {
          "color": "#ff7f0e"
         },
         "name": "NO-TITLE Model",
         "showlegend": true,
         "type": "bar",
         "x": [
          "conllpp_train",
          "KAGGLE",
          "ritter",
          "WNUT"
         ],
         "xaxis": "x",
         "y": {
          "bdata": "CDwX4WGf7D8MP63BG+PnP+MLdY3OJtI/XDeVwzhq2j8=",
          "dtype": "f8"
         },
         "yaxis": "y"
        },
        {
         "marker": {
          "color": "#1f77b4"
         },
         "name": "TITLE Model",
         "showlegend": false,
         "type": "bar",
         "x": [
          "conllpp_train",
          "KAGGLE",
          "ritter",
          "WNUT"
         ],
         "xaxis": "x2",
         "y": {
          "bdata": "lF4lnrvS6j/ZDl0V17rkP4KCgoKCgsI/vIOuN54P0T8=",
          "dtype": "f8"
         },
         "yaxis": "y2"
        },
        {
         "marker": {
          "color": "#ff7f0e"
         },
         "name": "NO-TITLE Model",
         "showlegend": false,
         "type": "bar",
         "x": [
          "conllpp_train",
          "KAGGLE",
          "ritter",
          "WNUT"
         ],
         "xaxis": "x2",
         "y": {
          "bdata": "/pDA2w8J7D/P7uK9h/3lP4VhGIZhGMY/9tnORDkW1D8=",
          "dtype": "f8"
         },
         "yaxis": "y2"
        },
        {
         "marker": {
          "color": "#1f77b4"
         },
         "name": "TITLE Model",
         "showlegend": false,
         "type": "bar",
         "x": [
          "conllpp_train",
          "KAGGLE",
          "ritter",
          "WNUT"
         ],
         "xaxis": "x3",
         "y": {
          "bdata": "E+FJQfLn7T/Ya18JF9zpP8+dO3fu3Ok/2Ymd2Imd5D8=",
          "dtype": "f8"
         },
         "yaxis": "y3"
        },
        {
         "marker": {
          "color": "#ff7f0e"
         },
         "name": "NO-TITLE Model",
         "showlegend": false,
         "type": "bar",
         "x": [
          "conllpp_train",
          "KAGGLE",
          "ritter",
          "WNUT"
         ],
         "xaxis": "x3",
         "y": {
          "bdata": "UE3HXCI87T/6LiCZXCTqP8uWLVu2bOk/gzRIgzRI4z8=",
          "dtype": "f8"
         },
         "yaxis": "y3"
        },
        {
         "marker": {
          "color": "#1f77b4"
         },
         "name": "TITLE Model",
         "showlegend": false,
         "type": "bar",
         "x": [
          "conllpp_train",
          "KAGGLE",
          "ritter",
          "WNUT"
         ],
         "xaxis": "x4",
         "y": {
          "bdata": "cF0golqh7z/cycSNYtruPxtKA01Wxu0/ZlpoPG1T7j8=",
          "dtype": "f8"
         },
         "yaxis": "y4"
        },
        {
         "marker": {
          "color": "#ff7f0e"
         },
         "name": "NO-TITLE Model",
         "showlegend": false,
         "type": "bar",
         "x": [
          "conllpp_train",
          "KAGGLE",
          "ritter",
          "WNUT"
         ],
         "xaxis": "x4",
         "y": {
          "bdata": "ZLkThci87z9gBjAuyWHvPzeaKfvKNe4/zjdQw5ir7j8=",
          "dtype": "f8"
         },
         "yaxis": "y4"
        }
       ],
       "layout": {
        "annotations": [
         {
          "font": {
           "size": 16
          },
          "showarrow": false,
          "text": "F1 Score by Dataset",
          "x": 0.225,
          "xanchor": "center",
          "xref": "paper",
          "y": 1,
          "yanchor": "bottom",
          "yref": "paper"
         },
         {
          "font": {
           "size": 16
          },
          "showarrow": false,
          "text": "Precision by Dataset",
          "x": 0.775,
          "xanchor": "center",
          "xref": "paper",
          "y": 1,
          "yanchor": "bottom",
          "yref": "paper"
         },
         {
          "font": {
           "size": 16
          },
          "showarrow": false,
          "text": "Recall by Dataset",
          "x": 0.225,
          "xanchor": "center",
          "xref": "paper",
          "y": 0.375,
          "yanchor": "bottom",
          "yref": "paper"
         },
         {
          "font": {
           "size": 16
          },
          "showarrow": false,
          "text": "Token Accuracy by Dataset",
          "x": 0.775,
          "xanchor": "center",
          "xref": "paper",
          "y": 0.375,
          "yanchor": "bottom",
          "yref": "paper"
         }
        ],
        "height": 800,
        "showlegend": true,
        "template": {
         "data": {
          "bar": [
           {
            "error_x": {
             "color": "#2a3f5f"
            },
            "error_y": {
             "color": "#2a3f5f"
            },
            "marker": {
             "line": {
              "color": "white",
              "width": 0.5
             },
             "pattern": {
              "fillmode": "overlay",
              "size": 10,
              "solidity": 0.2
             }
            },
            "type": "bar"
           }
          ],
          "barpolar": [
           {
            "marker": {
             "line": {
              "color": "white",
              "width": 0.5
             },
             "pattern": {
              "fillmode": "overlay",
              "size": 10,
              "solidity": 0.2
             }
            },
            "type": "barpolar"
           }
          ],
          "carpet": [
           {
            "aaxis": {
             "endlinecolor": "#2a3f5f",
             "gridcolor": "#C8D4E3",
             "linecolor": "#C8D4E3",
             "minorgridcolor": "#C8D4E3",
             "startlinecolor": "#2a3f5f"
            },
            "baxis": {
             "endlinecolor": "#2a3f5f",
             "gridcolor": "#C8D4E3",
             "linecolor": "#C8D4E3",
             "minorgridcolor": "#C8D4E3",
             "startlinecolor": "#2a3f5f"
            },
            "type": "carpet"
           }
          ],
          "choropleth": [
           {
            "colorbar": {
             "outlinewidth": 0,
             "ticks": ""
            },
            "type": "choropleth"
           }
          ],
          "contour": [
           {
            "colorbar": {
             "outlinewidth": 0,
             "ticks": ""
            },
            "colorscale": [
             [
              0,
              "#0d0887"
             ],
             [
              0.1111111111111111,
              "#46039f"
             ],
             [
              0.2222222222222222,
              "#7201a8"
             ],
             [
              0.3333333333333333,
              "#9c179e"
             ],
             [
              0.4444444444444444,
              "#bd3786"
             ],
             [
              0.5555555555555556,
              "#d8576b"
             ],
             [
              0.6666666666666666,
              "#ed7953"
             ],
             [
              0.7777777777777778,
              "#fb9f3a"
             ],
             [
              0.8888888888888888,
              "#fdca26"
             ],
             [
              1,
              "#f0f921"
             ]
            ],
            "type": "contour"
           }
          ],
          "contourcarpet": [
           {
            "colorbar": {
             "outlinewidth": 0,
             "ticks": ""
            },
            "type": "contourcarpet"
           }
          ],
          "heatmap": [
           {
            "colorbar": {
             "outlinewidth": 0,
             "ticks": ""
            },
            "colorscale": [
             [
              0,
              "#0d0887"
             ],
             [
              0.1111111111111111,
              "#46039f"
             ],
             [
              0.2222222222222222,
              "#7201a8"
             ],
             [
              0.3333333333333333,
              "#9c179e"
             ],
             [
              0.4444444444444444,
              "#bd3786"
             ],
             [
              0.5555555555555556,
              "#d8576b"
             ],
             [
              0.6666666666666666,
              "#ed7953"
             ],
             [
              0.7777777777777778,
              "#fb9f3a"
             ],
             [
              0.8888888888888888,
              "#fdca26"
             ],
             [
              1,
              "#f0f921"
             ]
            ],
            "type": "heatmap"
           }
          ],
          "histogram": [
           {
            "marker": {
             "pattern": {
              "fillmode": "overlay",
              "size": 10,
              "solidity": 0.2
             }
            },
            "type": "histogram"
           }
          ],
          "histogram2d": [
           {
            "colorbar": {
             "outlinewidth": 0,
             "ticks": ""
            },
            "colorscale": [
             [
              0,
              "#0d0887"
             ],
             [
              0.1111111111111111,
              "#46039f"
             ],
             [
              0.2222222222222222,
              "#7201a8"
             ],
             [
              0.3333333333333333,
              "#9c179e"
             ],
             [
              0.4444444444444444,
              "#bd3786"
             ],
             [
              0.5555555555555556,
              "#d8576b"
             ],
             [
              0.6666666666666666,
              "#ed7953"
             ],
             [
              0.7777777777777778,
              "#fb9f3a"
             ],
             [
              0.8888888888888888,
              "#fdca26"
             ],
             [
              1,
              "#f0f921"
             ]
            ],
            "type": "histogram2d"
           }
          ],
          "histogram2dcontour": [
           {
            "colorbar": {
             "outlinewidth": 0,
             "ticks": ""
            },
            "colorscale": [
             [
              0,
              "#0d0887"
             ],
             [
              0.1111111111111111,
              "#46039f"
             ],
             [
              0.2222222222222222,
              "#7201a8"
             ],
             [
              0.3333333333333333,
              "#9c179e"
             ],
             [
              0.4444444444444444,
              "#bd3786"
             ],
             [
              0.5555555555555556,
              "#d8576b"
             ],
             [
              0.6666666666666666,
              "#ed7953"
             ],
             [
              0.7777777777777778,
              "#fb9f3a"
             ],
             [
              0.8888888888888888,
              "#fdca26"
             ],
             [
              1,
              "#f0f921"
             ]
            ],
            "type": "histogram2dcontour"
           }
          ],
          "mesh3d": [
           {
            "colorbar": {
             "outlinewidth": 0,
             "ticks": ""
            },
            "type": "mesh3d"
           }
          ],
          "parcoords": [
           {
            "line": {
             "colorbar": {
              "outlinewidth": 0,
              "ticks": ""
             }
            },
            "type": "parcoords"
           }
          ],
          "pie": [
           {
            "automargin": true,
            "type": "pie"
           }
          ],
          "scatter": [
           {
            "fillpattern": {
             "fillmode": "overlay",
             "size": 10,
             "solidity": 0.2
            },
            "type": "scatter"
           }
          ],
          "scatter3d": [
           {
            "line": {
             "colorbar": {
              "outlinewidth": 0,
              "ticks": ""
             }
            },
            "marker": {
             "colorbar": {
              "outlinewidth": 0,
              "ticks": ""
             }
            },
            "type": "scatter3d"
           }
          ],
          "scattercarpet": [
           {
            "marker": {
             "colorbar": {
              "outlinewidth": 0,
              "ticks": ""
             }
            },
            "type": "scattercarpet"
           }
          ],
          "scattergeo": [
           {
            "marker": {
             "colorbar": {
              "outlinewidth": 0,
              "ticks": ""
             }
            },
            "type": "scattergeo"
           }
          ],
          "scattergl": [
           {
            "marker": {
             "colorbar": {
              "outlinewidth": 0,
              "ticks": ""
             }
            },
            "type": "scattergl"
           }
          ],
          "scattermap": [
           {
            "marker": {
             "colorbar": {
              "outlinewidth": 0,
              "ticks": ""
             }
            },
            "type": "scattermap"
           }
          ],
          "scattermapbox": [
           {
            "marker": {
             "colorbar": {
              "outlinewidth": 0,
              "ticks": ""
             }
            },
            "type": "scattermapbox"
           }
          ],
          "scatterpolar": [
           {
            "marker": {
             "colorbar": {
              "outlinewidth": 0,
              "ticks": ""
             }
            },
            "type": "scatterpolar"
           }
          ],
          "scatterpolargl": [
           {
            "marker": {
             "colorbar": {
              "outlinewidth": 0,
              "ticks": ""
             }
            },
            "type": "scatterpolargl"
           }
          ],
          "scatterternary": [
           {
            "marker": {
             "colorbar": {
              "outlinewidth": 0,
              "ticks": ""
             }
            },
            "type": "scatterternary"
           }
          ],
          "surface": [
           {
            "colorbar": {
             "outlinewidth": 0,
             "ticks": ""
            },
            "colorscale": [
             [
              0,
              "#0d0887"
             ],
             [
              0.1111111111111111,
              "#46039f"
             ],
             [
              0.2222222222222222,
              "#7201a8"
             ],
             [
              0.3333333333333333,
              "#9c179e"
             ],
             [
              0.4444444444444444,
              "#bd3786"
             ],
             [
              0.5555555555555556,
              "#d8576b"
             ],
             [
              0.6666666666666666,
              "#ed7953"
             ],
             [
              0.7777777777777778,
              "#fb9f3a"
             ],
             [
              0.8888888888888888,
              "#fdca26"
             ],
             [
              1,
              "#f0f921"
             ]
            ],
            "type": "surface"
           }
          ],
          "table": [
           {
            "cells": {
             "fill": {
              "color": "#EBF0F8"
             },
             "line": {
              "color": "white"
             }
            },
            "header": {
             "fill": {
              "color": "#C8D4E3"
             },
             "line": {
              "color": "white"
             }
            },
            "type": "table"
           }
          ]
         },
         "layout": {
          "annotationdefaults": {
           "arrowcolor": "#2a3f5f",
           "arrowhead": 0,
           "arrowwidth": 1
          },
          "autotypenumbers": "strict",
          "coloraxis": {
           "colorbar": {
            "outlinewidth": 0,
            "ticks": ""
           }
          },
          "colorscale": {
           "diverging": [
            [
             0,
             "#8e0152"
            ],
            [
             0.1,
             "#c51b7d"
            ],
            [
             0.2,
             "#de77ae"
            ],
            [
             0.3,
             "#f1b6da"
            ],
            [
             0.4,
             "#fde0ef"
            ],
            [
             0.5,
             "#f7f7f7"
            ],
            [
             0.6,
             "#e6f5d0"
            ],
            [
             0.7,
             "#b8e186"
            ],
            [
             0.8,
             "#7fbc41"
            ],
            [
             0.9,
             "#4d9221"
            ],
            [
             1,
             "#276419"
            ]
           ],
           "sequential": [
            [
             0,
             "#0d0887"
            ],
            [
             0.1111111111111111,
             "#46039f"
            ],
            [
             0.2222222222222222,
             "#7201a8"
            ],
            [
             0.3333333333333333,
             "#9c179e"
            ],
            [
             0.4444444444444444,
             "#bd3786"
            ],
            [
             0.5555555555555556,
             "#d8576b"
            ],
            [
             0.6666666666666666,
             "#ed7953"
            ],
            [
             0.7777777777777778,
             "#fb9f3a"
            ],
            [
             0.8888888888888888,
             "#fdca26"
            ],
            [
             1,
             "#f0f921"
            ]
           ],
           "sequentialminus": [
            [
             0,
             "#0d0887"
            ],
            [
             0.1111111111111111,
             "#46039f"
            ],
            [
             0.2222222222222222,
             "#7201a8"
            ],
            [
             0.3333333333333333,
             "#9c179e"
            ],
            [
             0.4444444444444444,
             "#bd3786"
            ],
            [
             0.5555555555555556,
             "#d8576b"
            ],
            [
             0.6666666666666666,
             "#ed7953"
            ],
            [
             0.7777777777777778,
             "#fb9f3a"
            ],
            [
             0.8888888888888888,
             "#fdca26"
            ],
            [
             1,
             "#f0f921"
            ]
           ]
          },
          "colorway": [
           "#636efa",
           "#EF553B",
           "#00cc96",
           "#ab63fa",
           "#FFA15A",
           "#19d3f3",
           "#FF6692",
           "#B6E880",
           "#FF97FF",
           "#FECB52"
          ],
          "font": {
           "color": "#2a3f5f"
          },
          "geo": {
           "bgcolor": "white",
           "lakecolor": "white",
           "landcolor": "white",
           "showlakes": true,
           "showland": true,
           "subunitcolor": "#C8D4E3"
          },
          "hoverlabel": {
           "align": "left"
          },
          "hovermode": "closest",
          "mapbox": {
           "style": "light"
          },
          "paper_bgcolor": "white",
          "plot_bgcolor": "white",
          "polar": {
           "angularaxis": {
            "gridcolor": "#EBF0F8",
            "linecolor": "#EBF0F8",
            "ticks": ""
           },
           "bgcolor": "white",
           "radialaxis": {
            "gridcolor": "#EBF0F8",
            "linecolor": "#EBF0F8",
            "ticks": ""
           }
          },
          "scene": {
           "xaxis": {
            "backgroundcolor": "white",
            "gridcolor": "#DFE8F3",
            "gridwidth": 2,
            "linecolor": "#EBF0F8",
            "showbackground": true,
            "ticks": "",
            "zerolinecolor": "#EBF0F8"
           },
           "yaxis": {
            "backgroundcolor": "white",
            "gridcolor": "#DFE8F3",
            "gridwidth": 2,
            "linecolor": "#EBF0F8",
            "showbackground": true,
            "ticks": "",
            "zerolinecolor": "#EBF0F8"
           },
           "zaxis": {
            "backgroundcolor": "white",
            "gridcolor": "#DFE8F3",
            "gridwidth": 2,
            "linecolor": "#EBF0F8",
            "showbackground": true,
            "ticks": "",
            "zerolinecolor": "#EBF0F8"
           }
          },
          "shapedefaults": {
           "line": {
            "color": "#2a3f5f"
           }
          },
          "ternary": {
           "aaxis": {
            "gridcolor": "#DFE8F3",
            "linecolor": "#A2B1C6",
            "ticks": ""
           },
           "baxis": {
            "gridcolor": "#DFE8F3",
            "linecolor": "#A2B1C6",
            "ticks": ""
           },
           "bgcolor": "white",
           "caxis": {
            "gridcolor": "#DFE8F3",
            "linecolor": "#A2B1C6",
            "ticks": ""
           }
          },
          "title": {
           "x": 0.05
          },
          "xaxis": {
           "automargin": true,
           "gridcolor": "#EBF0F8",
           "linecolor": "#EBF0F8",
           "ticks": "",
           "title": {
            "standoff": 15
           },
           "zerolinecolor": "#EBF0F8",
           "zerolinewidth": 2
          },
          "yaxis": {
           "automargin": true,
           "gridcolor": "#EBF0F8",
           "linecolor": "#EBF0F8",
           "ticks": "",
           "title": {
            "standoff": 15
           },
           "zerolinecolor": "#EBF0F8",
           "zerolinewidth": 2
          }
         }
        },
        "title": {
         "text": "NER Model Performance Comparison Across Datasets",
         "x": 0.5
        },
        "xaxis": {
         "anchor": "y",
         "domain": [
          0,
          0.45
         ]
        },
        "xaxis2": {
         "anchor": "y2",
         "domain": [
          0.55,
          1
         ]
        },
        "xaxis3": {
         "anchor": "y3",
         "domain": [
          0,
          0.45
         ]
        },
        "xaxis4": {
         "anchor": "y4",
         "domain": [
          0.55,
          1
         ]
        },
        "yaxis": {
         "anchor": "x",
         "domain": [
          0.625,
          1
         ],
         "range": [
          0,
          1
         ]
        },
        "yaxis2": {
         "anchor": "x2",
         "domain": [
          0.625,
          1
         ],
         "range": [
          0,
          1
         ]
        },
        "yaxis3": {
         "anchor": "x3",
         "domain": [
          0,
          0.375
         ],
         "range": [
          0,
          1
         ]
        },
        "yaxis4": {
         "anchor": "x4",
         "domain": [
          0,
          0.375
         ],
         "range": [
          0,
          1
         ]
        }
       }
      }
     },
     "metadata": {},
     "output_type": "display_data"
    },
    {
     "name": "stdout",
     "output_type": "stream",
     "text": [
      "✅ Performance comparison chart saved!\n"
     ]
    }
   ],
   "source": [
    "# 1. Performance Comparison Bar Charts\n",
    "def create_performance_comparison():\n",
    "    \"\"\"Create comprehensive performance comparison charts.\"\"\"\n",
    "    \n",
    "    # Create subplots\n",
    "    fig = make_subplots(\n",
    "        rows=2, cols=2,\n",
    "        subplot_titles=('F1 Score by Dataset', 'Precision by Dataset', \n",
    "                       'Recall by Dataset', 'Token Accuracy by Dataset'),\n",
    "        specs=[[{\"secondary_y\": False}, {\"secondary_y\": False}],\n",
    "               [{\"secondary_y\": False}, {\"secondary_y\": False}]]\n",
    "    )\n",
    "    \n",
    "    metrics = ['person_f1', 'person_precision', 'person_recall', 'token_accuracy']\n",
    "    titles = ['F1 Score', 'Precision', 'Recall', 'Token Accuracy']\n",
    "    positions = [(1, 1), (1, 2), (2, 1), (2, 2)]\n",
    "    \n",
    "    colors = {'TITLE': '#1f77b4', 'NO-TITLE': '#ff7f0e'}\n",
    "    \n",
    "    for metric, title, (row, col) in zip(metrics, titles, positions):\n",
    "        for model_type in df_results['model_type'].unique():\n",
    "            model_data = df_results[df_results['model_type'] == model_type]\n",
    "            \n",
    "            fig.add_trace(\n",
    "                go.Bar(\n",
    "                    x=model_data['dataset'],\n",
    "                    y=model_data[metric],\n",
    "                    name=f'{model_type} Model',\n",
    "                    marker_color=colors[model_type],\n",
    "                    showlegend=(row == 1 and col == 1)  # Only show legend once\n",
    "                ),\n",
    "                row=row, col=col\n",
    "            )\n",
    "    \n",
    "    fig.update_layout(\n",
    "        height=800,\n",
    "        title_text=\"NER Model Performance Comparison Across Datasets\",\n",
    "        title_x=0.5,\n",
    "        showlegend=True,\n",
    "        template=\"plotly_white\"\n",
    "    )\n",
    "    \n",
    "    # Update y-axes\n",
    "    for row in [1, 2]:\n",
    "        for col in [1, 2]:\n",
    "            fig.update_yaxes(range=[0, 1], row=row, col=col)\n",
    "    \n",
    "    return fig\n",
    "\n",
    "# Create and display the chart\n",
    "performance_fig = create_performance_comparison()\n",
    "performance_fig.show()\n",
    "\n",
    "# Save the chart\n",
    "performance_fig.write_html(CHARTS_PATH / f\"performance_comparison_{results_timestamp}.html\")\n",
    "performance_fig.write_image(CHARTS_PATH / f\"performance_comparison_{results_timestamp}.png\", width=1200, height=800)\n",
    "print(\"✅ Performance comparison chart saved!\")"
   ]
  },
  {
   "cell_type": "code",
   "execution_count": 19,
   "id": "30a6ab35",
   "metadata": {},
   "outputs": [
    {
     "data": {
      "application/vnd.plotly.v1+json": {
       "config": {
        "plotlyServerURL": "https://plot.ly"
       },
       "data": [
        {
         "error_y": {
          "array": [
           0.2958447651755338,
           0.32372364170341683,
           0.11902235251414076,
           0.02469372245100822
          ],
          "type": "data",
          "visible": true
         },
         "name": "TITLE Model",
         "text": [
          "0.556±0.296",
          "0.474±0.324",
          "0.799±0.119",
          "0.958±0.025"
         ],
         "textposition": "outside",
         "type": "bar",
         "x": [
          "F1 Score",
          "Precision",
          "Recall",
          "Token Accuracy"
         ],
         "y": [
          0.5563364067509375,
          0.47430448978104717,
          0.7987825397912373,
          0.957687464223993
         ]
        },
        {
         "error_y": {
          "array": [
           0.28421896370826194,
           0.3254265687190585,
           0.13024434339685959,
           0.021517274866903968
          ],
          "type": "data",
          "visible": true
         },
         "name": "NO-TITLE Model",
         "text": [
          "0.584±0.284",
          "0.512±0.325",
          "0.782±0.130",
          "0.969±0.022"
         ],
         "textposition": "outside",
         "type": "bar",
         "x": [
          "F1 Score",
          "Precision",
          "Recall",
          "Token Accuracy"
         ],
         "y": [
          0.5843202226271608,
          0.5124450463645556,
          0.7819034850058955,
          0.9687487416623652
         ]
        }
       ],
       "layout": {
        "height": 600,
        "template": {
         "data": {
          "bar": [
           {
            "error_x": {
             "color": "#2a3f5f"
            },
            "error_y": {
             "color": "#2a3f5f"
            },
            "marker": {
             "line": {
              "color": "white",
              "width": 0.5
             },
             "pattern": {
              "fillmode": "overlay",
              "size": 10,
              "solidity": 0.2
             }
            },
            "type": "bar"
           }
          ],
          "barpolar": [
           {
            "marker": {
             "line": {
              "color": "white",
              "width": 0.5
             },
             "pattern": {
              "fillmode": "overlay",
              "size": 10,
              "solidity": 0.2
             }
            },
            "type": "barpolar"
           }
          ],
          "carpet": [
           {
            "aaxis": {
             "endlinecolor": "#2a3f5f",
             "gridcolor": "#C8D4E3",
             "linecolor": "#C8D4E3",
             "minorgridcolor": "#C8D4E3",
             "startlinecolor": "#2a3f5f"
            },
            "baxis": {
             "endlinecolor": "#2a3f5f",
             "gridcolor": "#C8D4E3",
             "linecolor": "#C8D4E3",
             "minorgridcolor": "#C8D4E3",
             "startlinecolor": "#2a3f5f"
            },
            "type": "carpet"
           }
          ],
          "choropleth": [
           {
            "colorbar": {
             "outlinewidth": 0,
             "ticks": ""
            },
            "type": "choropleth"
           }
          ],
          "contour": [
           {
            "colorbar": {
             "outlinewidth": 0,
             "ticks": ""
            },
            "colorscale": [
             [
              0,
              "#0d0887"
             ],
             [
              0.1111111111111111,
              "#46039f"
             ],
             [
              0.2222222222222222,
              "#7201a8"
             ],
             [
              0.3333333333333333,
              "#9c179e"
             ],
             [
              0.4444444444444444,
              "#bd3786"
             ],
             [
              0.5555555555555556,
              "#d8576b"
             ],
             [
              0.6666666666666666,
              "#ed7953"
             ],
             [
              0.7777777777777778,
              "#fb9f3a"
             ],
             [
              0.8888888888888888,
              "#fdca26"
             ],
             [
              1,
              "#f0f921"
             ]
            ],
            "type": "contour"
           }
          ],
          "contourcarpet": [
           {
            "colorbar": {
             "outlinewidth": 0,
             "ticks": ""
            },
            "type": "contourcarpet"
           }
          ],
          "heatmap": [
           {
            "colorbar": {
             "outlinewidth": 0,
             "ticks": ""
            },
            "colorscale": [
             [
              0,
              "#0d0887"
             ],
             [
              0.1111111111111111,
              "#46039f"
             ],
             [
              0.2222222222222222,
              "#7201a8"
             ],
             [
              0.3333333333333333,
              "#9c179e"
             ],
             [
              0.4444444444444444,
              "#bd3786"
             ],
             [
              0.5555555555555556,
              "#d8576b"
             ],
             [
              0.6666666666666666,
              "#ed7953"
             ],
             [
              0.7777777777777778,
              "#fb9f3a"
             ],
             [
              0.8888888888888888,
              "#fdca26"
             ],
             [
              1,
              "#f0f921"
             ]
            ],
            "type": "heatmap"
           }
          ],
          "histogram": [
           {
            "marker": {
             "pattern": {
              "fillmode": "overlay",
              "size": 10,
              "solidity": 0.2
             }
            },
            "type": "histogram"
           }
          ],
          "histogram2d": [
           {
            "colorbar": {
             "outlinewidth": 0,
             "ticks": ""
            },
            "colorscale": [
             [
              0,
              "#0d0887"
             ],
             [
              0.1111111111111111,
              "#46039f"
             ],
             [
              0.2222222222222222,
              "#7201a8"
             ],
             [
              0.3333333333333333,
              "#9c179e"
             ],
             [
              0.4444444444444444,
              "#bd3786"
             ],
             [
              0.5555555555555556,
              "#d8576b"
             ],
             [
              0.6666666666666666,
              "#ed7953"
             ],
             [
              0.7777777777777778,
              "#fb9f3a"
             ],
             [
              0.8888888888888888,
              "#fdca26"
             ],
             [
              1,
              "#f0f921"
             ]
            ],
            "type": "histogram2d"
           }
          ],
          "histogram2dcontour": [
           {
            "colorbar": {
             "outlinewidth": 0,
             "ticks": ""
            },
            "colorscale": [
             [
              0,
              "#0d0887"
             ],
             [
              0.1111111111111111,
              "#46039f"
             ],
             [
              0.2222222222222222,
              "#7201a8"
             ],
             [
              0.3333333333333333,
              "#9c179e"
             ],
             [
              0.4444444444444444,
              "#bd3786"
             ],
             [
              0.5555555555555556,
              "#d8576b"
             ],
             [
              0.6666666666666666,
              "#ed7953"
             ],
             [
              0.7777777777777778,
              "#fb9f3a"
             ],
             [
              0.8888888888888888,
              "#fdca26"
             ],
             [
              1,
              "#f0f921"
             ]
            ],
            "type": "histogram2dcontour"
           }
          ],
          "mesh3d": [
           {
            "colorbar": {
             "outlinewidth": 0,
             "ticks": ""
            },
            "type": "mesh3d"
           }
          ],
          "parcoords": [
           {
            "line": {
             "colorbar": {
              "outlinewidth": 0,
              "ticks": ""
             }
            },
            "type": "parcoords"
           }
          ],
          "pie": [
           {
            "automargin": true,
            "type": "pie"
           }
          ],
          "scatter": [
           {
            "fillpattern": {
             "fillmode": "overlay",
             "size": 10,
             "solidity": 0.2
            },
            "type": "scatter"
           }
          ],
          "scatter3d": [
           {
            "line": {
             "colorbar": {
              "outlinewidth": 0,
              "ticks": ""
             }
            },
            "marker": {
             "colorbar": {
              "outlinewidth": 0,
              "ticks": ""
             }
            },
            "type": "scatter3d"
           }
          ],
          "scattercarpet": [
           {
            "marker": {
             "colorbar": {
              "outlinewidth": 0,
              "ticks": ""
             }
            },
            "type": "scattercarpet"
           }
          ],
          "scattergeo": [
           {
            "marker": {
             "colorbar": {
              "outlinewidth": 0,
              "ticks": ""
             }
            },
            "type": "scattergeo"
           }
          ],
          "scattergl": [
           {
            "marker": {
             "colorbar": {
              "outlinewidth": 0,
              "ticks": ""
             }
            },
            "type": "scattergl"
           }
          ],
          "scattermap": [
           {
            "marker": {
             "colorbar": {
              "outlinewidth": 0,
              "ticks": ""
             }
            },
            "type": "scattermap"
           }
          ],
          "scattermapbox": [
           {
            "marker": {
             "colorbar": {
              "outlinewidth": 0,
              "ticks": ""
             }
            },
            "type": "scattermapbox"
           }
          ],
          "scatterpolar": [
           {
            "marker": {
             "colorbar": {
              "outlinewidth": 0,
              "ticks": ""
             }
            },
            "type": "scatterpolar"
           }
          ],
          "scatterpolargl": [
           {
            "marker": {
             "colorbar": {
              "outlinewidth": 0,
              "ticks": ""
             }
            },
            "type": "scatterpolargl"
           }
          ],
          "scatterternary": [
           {
            "marker": {
             "colorbar": {
              "outlinewidth": 0,
              "ticks": ""
             }
            },
            "type": "scatterternary"
           }
          ],
          "surface": [
           {
            "colorbar": {
             "outlinewidth": 0,
             "ticks": ""
            },
            "colorscale": [
             [
              0,
              "#0d0887"
             ],
             [
              0.1111111111111111,
              "#46039f"
             ],
             [
              0.2222222222222222,
              "#7201a8"
             ],
             [
              0.3333333333333333,
              "#9c179e"
             ],
             [
              0.4444444444444444,
              "#bd3786"
             ],
             [
              0.5555555555555556,
              "#d8576b"
             ],
             [
              0.6666666666666666,
              "#ed7953"
             ],
             [
              0.7777777777777778,
              "#fb9f3a"
             ],
             [
              0.8888888888888888,
              "#fdca26"
             ],
             [
              1,
              "#f0f921"
             ]
            ],
            "type": "surface"
           }
          ],
          "table": [
           {
            "cells": {
             "fill": {
              "color": "#EBF0F8"
             },
             "line": {
              "color": "white"
             }
            },
            "header": {
             "fill": {
              "color": "#C8D4E3"
             },
             "line": {
              "color": "white"
             }
            },
            "type": "table"
           }
          ]
         },
         "layout": {
          "annotationdefaults": {
           "arrowcolor": "#2a3f5f",
           "arrowhead": 0,
           "arrowwidth": 1
          },
          "autotypenumbers": "strict",
          "coloraxis": {
           "colorbar": {
            "outlinewidth": 0,
            "ticks": ""
           }
          },
          "colorscale": {
           "diverging": [
            [
             0,
             "#8e0152"
            ],
            [
             0.1,
             "#c51b7d"
            ],
            [
             0.2,
             "#de77ae"
            ],
            [
             0.3,
             "#f1b6da"
            ],
            [
             0.4,
             "#fde0ef"
            ],
            [
             0.5,
             "#f7f7f7"
            ],
            [
             0.6,
             "#e6f5d0"
            ],
            [
             0.7,
             "#b8e186"
            ],
            [
             0.8,
             "#7fbc41"
            ],
            [
             0.9,
             "#4d9221"
            ],
            [
             1,
             "#276419"
            ]
           ],
           "sequential": [
            [
             0,
             "#0d0887"
            ],
            [
             0.1111111111111111,
             "#46039f"
            ],
            [
             0.2222222222222222,
             "#7201a8"
            ],
            [
             0.3333333333333333,
             "#9c179e"
            ],
            [
             0.4444444444444444,
             "#bd3786"
            ],
            [
             0.5555555555555556,
             "#d8576b"
            ],
            [
             0.6666666666666666,
             "#ed7953"
            ],
            [
             0.7777777777777778,
             "#fb9f3a"
            ],
            [
             0.8888888888888888,
             "#fdca26"
            ],
            [
             1,
             "#f0f921"
            ]
           ],
           "sequentialminus": [
            [
             0,
             "#0d0887"
            ],
            [
             0.1111111111111111,
             "#46039f"
            ],
            [
             0.2222222222222222,
             "#7201a8"
            ],
            [
             0.3333333333333333,
             "#9c179e"
            ],
            [
             0.4444444444444444,
             "#bd3786"
            ],
            [
             0.5555555555555556,
             "#d8576b"
            ],
            [
             0.6666666666666666,
             "#ed7953"
            ],
            [
             0.7777777777777778,
             "#fb9f3a"
            ],
            [
             0.8888888888888888,
             "#fdca26"
            ],
            [
             1,
             "#f0f921"
            ]
           ]
          },
          "colorway": [
           "#636efa",
           "#EF553B",
           "#00cc96",
           "#ab63fa",
           "#FFA15A",
           "#19d3f3",
           "#FF6692",
           "#B6E880",
           "#FF97FF",
           "#FECB52"
          ],
          "font": {
           "color": "#2a3f5f"
          },
          "geo": {
           "bgcolor": "white",
           "lakecolor": "white",
           "landcolor": "white",
           "showlakes": true,
           "showland": true,
           "subunitcolor": "#C8D4E3"
          },
          "hoverlabel": {
           "align": "left"
          },
          "hovermode": "closest",
          "mapbox": {
           "style": "light"
          },
          "paper_bgcolor": "white",
          "plot_bgcolor": "white",
          "polar": {
           "angularaxis": {
            "gridcolor": "#EBF0F8",
            "linecolor": "#EBF0F8",
            "ticks": ""
           },
           "bgcolor": "white",
           "radialaxis": {
            "gridcolor": "#EBF0F8",
            "linecolor": "#EBF0F8",
            "ticks": ""
           }
          },
          "scene": {
           "xaxis": {
            "backgroundcolor": "white",
            "gridcolor": "#DFE8F3",
            "gridwidth": 2,
            "linecolor": "#EBF0F8",
            "showbackground": true,
            "ticks": "",
            "zerolinecolor": "#EBF0F8"
           },
           "yaxis": {
            "backgroundcolor": "white",
            "gridcolor": "#DFE8F3",
            "gridwidth": 2,
            "linecolor": "#EBF0F8",
            "showbackground": true,
            "ticks": "",
            "zerolinecolor": "#EBF0F8"
           },
           "zaxis": {
            "backgroundcolor": "white",
            "gridcolor": "#DFE8F3",
            "gridwidth": 2,
            "linecolor": "#EBF0F8",
            "showbackground": true,
            "ticks": "",
            "zerolinecolor": "#EBF0F8"
           }
          },
          "shapedefaults": {
           "line": {
            "color": "#2a3f5f"
           }
          },
          "ternary": {
           "aaxis": {
            "gridcolor": "#DFE8F3",
            "linecolor": "#A2B1C6",
            "ticks": ""
           },
           "baxis": {
            "gridcolor": "#DFE8F3",
            "linecolor": "#A2B1C6",
            "ticks": ""
           },
           "bgcolor": "white",
           "caxis": {
            "gridcolor": "#DFE8F3",
            "linecolor": "#A2B1C6",
            "ticks": ""
           }
          },
          "title": {
           "x": 0.05
          },
          "xaxis": {
           "automargin": true,
           "gridcolor": "#EBF0F8",
           "linecolor": "#EBF0F8",
           "ticks": "",
           "title": {
            "standoff": 15
           },
           "zerolinecolor": "#EBF0F8",
           "zerolinewidth": 2
          },
          "yaxis": {
           "automargin": true,
           "gridcolor": "#EBF0F8",
           "linecolor": "#EBF0F8",
           "ticks": "",
           "title": {
            "standoff": 15
           },
           "zerolinecolor": "#EBF0F8",
           "zerolinewidth": 2
          }
         }
        },
        "title": {
         "text": "Aggregated Model Performance Comparison (Mean ± Std)"
        },
        "xaxis": {
         "title": {
          "text": "Metrics"
         }
        },
        "yaxis": {
         "range": [
          0,
          1.1
         ],
         "title": {
          "text": "Score"
         }
        }
       }
      }
     },
     "metadata": {},
     "output_type": "display_data"
    },
    {
     "name": "stdout",
     "output_type": "stream",
     "text": [
      "✅ Aggregated comparison chart saved!\n"
     ]
    }
   ],
   "source": [
    "# 2. Aggregated Model Comparison\n",
    "def create_aggregated_comparison():\n",
    "    \"\"\"Create aggregated model comparison with error bars.\"\"\"\n",
    "    \n",
    "    metrics = ['person_f1_mean', 'person_precision_mean', 'person_recall_mean', 'token_accuracy_mean']\n",
    "    metric_names = ['F1 Score', 'Precision', 'Recall', 'Token Accuracy']\n",
    "    error_metrics = ['person_f1_std', 'person_precision_std', 'person_recall_std', 'token_accuracy_std']\n",
    "    \n",
    "    fig = go.Figure()\n",
    "    \n",
    "    x_pos = np.arange(len(metric_names))\n",
    "    width = 0.35\n",
    "    \n",
    "    for i, model_type in enumerate(df_aggregated['model_type']):\n",
    "        model_data = df_aggregated[df_aggregated['model_type'] == model_type].iloc[0]\n",
    "        \n",
    "        values = [model_data[metric] for metric in metrics]\n",
    "        errors = [model_data[error] for error in error_metrics]\n",
    "        \n",
    "        fig.add_trace(go.Bar(\n",
    "            x=metric_names,\n",
    "            y=values,\n",
    "            error_y=dict(type='data', array=errors, visible=True),\n",
    "            name=f'{model_type} Model',\n",
    "            text=[f'{v:.3f}±{e:.3f}' for v, e in zip(values, errors)],\n",
    "            textposition='outside'\n",
    "        ))\n",
    "    \n",
    "    fig.update_layout(\n",
    "        title=\"Aggregated Model Performance Comparison (Mean ± Std)\",\n",
    "        xaxis_title=\"Metrics\",\n",
    "        yaxis_title=\"Score\",\n",
    "        yaxis=dict(range=[0, 1.1]),\n",
    "        template=\"plotly_white\",\n",
    "        height=600\n",
    "    )\n",
    "    \n",
    "    return fig\n",
    "\n",
    "aggregated_fig = create_aggregated_comparison()\n",
    "aggregated_fig.show()\n",
    "\n",
    "# Save the chart\n",
    "aggregated_fig.write_html(CHARTS_PATH / f\"aggregated_comparison_{results_timestamp}.html\")\n",
    "aggregated_fig.write_image(CHARTS_PATH / f\"aggregated_comparison_{results_timestamp}.png\", width=800, height=600)\n",
    "print(\"✅ Aggregated comparison chart saved!\")"
   ]
  },
  {
   "cell_type": "code",
   "execution_count": 20,
   "id": "e79a2425",
   "metadata": {},
   "outputs": [
    {
     "data": {
      "application/vnd.plotly.v1+json": {
       "config": {
        "plotlyServerURL": "https://plot.ly"
       },
       "data": [
        {
         "hovertemplate": "<b>%{text}</b><br>F1 Score: %{y:.3f}<br>Inference Time: %{x:.1f}ms<br>Model Size: %{marker.size*10:.1f}MB<br><extra></extra>",
         "marker": {
          "color": "#1f77b4",
          "line": {
           "color": "white",
           "width": 2
          },
          "opacity": 0.7,
          "size": {
           "bdata": "mpmZOR46SECamZk5HjpIQJqZmTkeOkhAmpmZOR46SEA=",
           "dtype": "f8"
          }
         },
         "mode": "markers",
         "name": "TITLE Model",
         "text": [
          "conllpp_train",
          "KAGGLE",
          "ritter",
          "WNUT"
         ],
         "type": "scatter",
         "x": {
          "bdata": "/piAPYhBRUCW8DcmMCxGQKWqqqyX4kZAXkSoyja/RkA=",
          "dtype": "f8"
         },
         "y": {
          "bdata": "hhUMMeVH7D8ilVhbKgPnP2v2USa4Zs8/rHWf5JQi2D8=",
          "dtype": "f8"
         }
        },
        {
         "hovertemplate": "<b>%{text}</b><br>F1 Score: %{y:.3f}<br>Inference Time: %{x:.1f}ms<br>Model Size: %{marker.size*10:.1f}MB<br><extra></extra>",
         "marker": {
          "color": "#ff7f0e",
          "line": {
           "color": "white",
           "width": 2
          },
          "opacity": 0.7,
          "size": {
           "bdata": "AAAAgPc5SEAAAACA9zlIQAAAAID3OUhAAAAAgPc5SEA=",
           "dtype": "f8"
          }
         },
         "mode": "markers",
         "name": "NO-TITLE Model",
         "text": [
          "conllpp_train",
          "KAGGLE",
          "ritter",
          "WNUT"
         ],
         "type": "scatter",
         "x": {
          "bdata": "JxXMf6JVRUCc1KREaRVHQE9VVcjoV0hAjpN4VAkuSEA=",
          "dtype": "f8"
         },
         "y": {
          "bdata": "CDwX4WGf7D8MP63BG+PnP+MLdY3OJtI/XDeVwzhq2j8=",
          "dtype": "f8"
         }
        }
       ],
       "layout": {
        "annotations": [
         {
          "font": {
           "size": 12
          },
          "showarrow": false,
          "text": "Bubble size represents model size",
          "x": 0.02,
          "xref": "paper",
          "y": 0.98,
          "yref": "paper"
         }
        ],
        "height": 600,
        "template": {
         "data": {
          "bar": [
           {
            "error_x": {
             "color": "#2a3f5f"
            },
            "error_y": {
             "color": "#2a3f5f"
            },
            "marker": {
             "line": {
              "color": "white",
              "width": 0.5
             },
             "pattern": {
              "fillmode": "overlay",
              "size": 10,
              "solidity": 0.2
             }
            },
            "type": "bar"
           }
          ],
          "barpolar": [
           {
            "marker": {
             "line": {
              "color": "white",
              "width": 0.5
             },
             "pattern": {
              "fillmode": "overlay",
              "size": 10,
              "solidity": 0.2
             }
            },
            "type": "barpolar"
           }
          ],
          "carpet": [
           {
            "aaxis": {
             "endlinecolor": "#2a3f5f",
             "gridcolor": "#C8D4E3",
             "linecolor": "#C8D4E3",
             "minorgridcolor": "#C8D4E3",
             "startlinecolor": "#2a3f5f"
            },
            "baxis": {
             "endlinecolor": "#2a3f5f",
             "gridcolor": "#C8D4E3",
             "linecolor": "#C8D4E3",
             "minorgridcolor": "#C8D4E3",
             "startlinecolor": "#2a3f5f"
            },
            "type": "carpet"
           }
          ],
          "choropleth": [
           {
            "colorbar": {
             "outlinewidth": 0,
             "ticks": ""
            },
            "type": "choropleth"
           }
          ],
          "contour": [
           {
            "colorbar": {
             "outlinewidth": 0,
             "ticks": ""
            },
            "colorscale": [
             [
              0,
              "#0d0887"
             ],
             [
              0.1111111111111111,
              "#46039f"
             ],
             [
              0.2222222222222222,
              "#7201a8"
             ],
             [
              0.3333333333333333,
              "#9c179e"
             ],
             [
              0.4444444444444444,
              "#bd3786"
             ],
             [
              0.5555555555555556,
              "#d8576b"
             ],
             [
              0.6666666666666666,
              "#ed7953"
             ],
             [
              0.7777777777777778,
              "#fb9f3a"
             ],
             [
              0.8888888888888888,
              "#fdca26"
             ],
             [
              1,
              "#f0f921"
             ]
            ],
            "type": "contour"
           }
          ],
          "contourcarpet": [
           {
            "colorbar": {
             "outlinewidth": 0,
             "ticks": ""
            },
            "type": "contourcarpet"
           }
          ],
          "heatmap": [
           {
            "colorbar": {
             "outlinewidth": 0,
             "ticks": ""
            },
            "colorscale": [
             [
              0,
              "#0d0887"
             ],
             [
              0.1111111111111111,
              "#46039f"
             ],
             [
              0.2222222222222222,
              "#7201a8"
             ],
             [
              0.3333333333333333,
              "#9c179e"
             ],
             [
              0.4444444444444444,
              "#bd3786"
             ],
             [
              0.5555555555555556,
              "#d8576b"
             ],
             [
              0.6666666666666666,
              "#ed7953"
             ],
             [
              0.7777777777777778,
              "#fb9f3a"
             ],
             [
              0.8888888888888888,
              "#fdca26"
             ],
             [
              1,
              "#f0f921"
             ]
            ],
            "type": "heatmap"
           }
          ],
          "histogram": [
           {
            "marker": {
             "pattern": {
              "fillmode": "overlay",
              "size": 10,
              "solidity": 0.2
             }
            },
            "type": "histogram"
           }
          ],
          "histogram2d": [
           {
            "colorbar": {
             "outlinewidth": 0,
             "ticks": ""
            },
            "colorscale": [
             [
              0,
              "#0d0887"
             ],
             [
              0.1111111111111111,
              "#46039f"
             ],
             [
              0.2222222222222222,
              "#7201a8"
             ],
             [
              0.3333333333333333,
              "#9c179e"
             ],
             [
              0.4444444444444444,
              "#bd3786"
             ],
             [
              0.5555555555555556,
              "#d8576b"
             ],
             [
              0.6666666666666666,
              "#ed7953"
             ],
             [
              0.7777777777777778,
              "#fb9f3a"
             ],
             [
              0.8888888888888888,
              "#fdca26"
             ],
             [
              1,
              "#f0f921"
             ]
            ],
            "type": "histogram2d"
           }
          ],
          "histogram2dcontour": [
           {
            "colorbar": {
             "outlinewidth": 0,
             "ticks": ""
            },
            "colorscale": [
             [
              0,
              "#0d0887"
             ],
             [
              0.1111111111111111,
              "#46039f"
             ],
             [
              0.2222222222222222,
              "#7201a8"
             ],
             [
              0.3333333333333333,
              "#9c179e"
             ],
             [
              0.4444444444444444,
              "#bd3786"
             ],
             [
              0.5555555555555556,
              "#d8576b"
             ],
             [
              0.6666666666666666,
              "#ed7953"
             ],
             [
              0.7777777777777778,
              "#fb9f3a"
             ],
             [
              0.8888888888888888,
              "#fdca26"
             ],
             [
              1,
              "#f0f921"
             ]
            ],
            "type": "histogram2dcontour"
           }
          ],
          "mesh3d": [
           {
            "colorbar": {
             "outlinewidth": 0,
             "ticks": ""
            },
            "type": "mesh3d"
           }
          ],
          "parcoords": [
           {
            "line": {
             "colorbar": {
              "outlinewidth": 0,
              "ticks": ""
             }
            },
            "type": "parcoords"
           }
          ],
          "pie": [
           {
            "automargin": true,
            "type": "pie"
           }
          ],
          "scatter": [
           {
            "fillpattern": {
             "fillmode": "overlay",
             "size": 10,
             "solidity": 0.2
            },
            "type": "scatter"
           }
          ],
          "scatter3d": [
           {
            "line": {
             "colorbar": {
              "outlinewidth": 0,
              "ticks": ""
             }
            },
            "marker": {
             "colorbar": {
              "outlinewidth": 0,
              "ticks": ""
             }
            },
            "type": "scatter3d"
           }
          ],
          "scattercarpet": [
           {
            "marker": {
             "colorbar": {
              "outlinewidth": 0,
              "ticks": ""
             }
            },
            "type": "scattercarpet"
           }
          ],
          "scattergeo": [
           {
            "marker": {
             "colorbar": {
              "outlinewidth": 0,
              "ticks": ""
             }
            },
            "type": "scattergeo"
           }
          ],
          "scattergl": [
           {
            "marker": {
             "colorbar": {
              "outlinewidth": 0,
              "ticks": ""
             }
            },
            "type": "scattergl"
           }
          ],
          "scattermap": [
           {
            "marker": {
             "colorbar": {
              "outlinewidth": 0,
              "ticks": ""
             }
            },
            "type": "scattermap"
           }
          ],
          "scattermapbox": [
           {
            "marker": {
             "colorbar": {
              "outlinewidth": 0,
              "ticks": ""
             }
            },
            "type": "scattermapbox"
           }
          ],
          "scatterpolar": [
           {
            "marker": {
             "colorbar": {
              "outlinewidth": 0,
              "ticks": ""
             }
            },
            "type": "scatterpolar"
           }
          ],
          "scatterpolargl": [
           {
            "marker": {
             "colorbar": {
              "outlinewidth": 0,
              "ticks": ""
             }
            },
            "type": "scatterpolargl"
           }
          ],
          "scatterternary": [
           {
            "marker": {
             "colorbar": {
              "outlinewidth": 0,
              "ticks": ""
             }
            },
            "type": "scatterternary"
           }
          ],
          "surface": [
           {
            "colorbar": {
             "outlinewidth": 0,
             "ticks": ""
            },
            "colorscale": [
             [
              0,
              "#0d0887"
             ],
             [
              0.1111111111111111,
              "#46039f"
             ],
             [
              0.2222222222222222,
              "#7201a8"
             ],
             [
              0.3333333333333333,
              "#9c179e"
             ],
             [
              0.4444444444444444,
              "#bd3786"
             ],
             [
              0.5555555555555556,
              "#d8576b"
             ],
             [
              0.6666666666666666,
              "#ed7953"
             ],
             [
              0.7777777777777778,
              "#fb9f3a"
             ],
             [
              0.8888888888888888,
              "#fdca26"
             ],
             [
              1,
              "#f0f921"
             ]
            ],
            "type": "surface"
           }
          ],
          "table": [
           {
            "cells": {
             "fill": {
              "color": "#EBF0F8"
             },
             "line": {
              "color": "white"
             }
            },
            "header": {
             "fill": {
              "color": "#C8D4E3"
             },
             "line": {
              "color": "white"
             }
            },
            "type": "table"
           }
          ]
         },
         "layout": {
          "annotationdefaults": {
           "arrowcolor": "#2a3f5f",
           "arrowhead": 0,
           "arrowwidth": 1
          },
          "autotypenumbers": "strict",
          "coloraxis": {
           "colorbar": {
            "outlinewidth": 0,
            "ticks": ""
           }
          },
          "colorscale": {
           "diverging": [
            [
             0,
             "#8e0152"
            ],
            [
             0.1,
             "#c51b7d"
            ],
            [
             0.2,
             "#de77ae"
            ],
            [
             0.3,
             "#f1b6da"
            ],
            [
             0.4,
             "#fde0ef"
            ],
            [
             0.5,
             "#f7f7f7"
            ],
            [
             0.6,
             "#e6f5d0"
            ],
            [
             0.7,
             "#b8e186"
            ],
            [
             0.8,
             "#7fbc41"
            ],
            [
             0.9,
             "#4d9221"
            ],
            [
             1,
             "#276419"
            ]
           ],
           "sequential": [
            [
             0,
             "#0d0887"
            ],
            [
             0.1111111111111111,
             "#46039f"
            ],
            [
             0.2222222222222222,
             "#7201a8"
            ],
            [
             0.3333333333333333,
             "#9c179e"
            ],
            [
             0.4444444444444444,
             "#bd3786"
            ],
            [
             0.5555555555555556,
             "#d8576b"
            ],
            [
             0.6666666666666666,
             "#ed7953"
            ],
            [
             0.7777777777777778,
             "#fb9f3a"
            ],
            [
             0.8888888888888888,
             "#fdca26"
            ],
            [
             1,
             "#f0f921"
            ]
           ],
           "sequentialminus": [
            [
             0,
             "#0d0887"
            ],
            [
             0.1111111111111111,
             "#46039f"
            ],
            [
             0.2222222222222222,
             "#7201a8"
            ],
            [
             0.3333333333333333,
             "#9c179e"
            ],
            [
             0.4444444444444444,
             "#bd3786"
            ],
            [
             0.5555555555555556,
             "#d8576b"
            ],
            [
             0.6666666666666666,
             "#ed7953"
            ],
            [
             0.7777777777777778,
             "#fb9f3a"
            ],
            [
             0.8888888888888888,
             "#fdca26"
            ],
            [
             1,
             "#f0f921"
            ]
           ]
          },
          "colorway": [
           "#636efa",
           "#EF553B",
           "#00cc96",
           "#ab63fa",
           "#FFA15A",
           "#19d3f3",
           "#FF6692",
           "#B6E880",
           "#FF97FF",
           "#FECB52"
          ],
          "font": {
           "color": "#2a3f5f"
          },
          "geo": {
           "bgcolor": "white",
           "lakecolor": "white",
           "landcolor": "white",
           "showlakes": true,
           "showland": true,
           "subunitcolor": "#C8D4E3"
          },
          "hoverlabel": {
           "align": "left"
          },
          "hovermode": "closest",
          "mapbox": {
           "style": "light"
          },
          "paper_bgcolor": "white",
          "plot_bgcolor": "white",
          "polar": {
           "angularaxis": {
            "gridcolor": "#EBF0F8",
            "linecolor": "#EBF0F8",
            "ticks": ""
           },
           "bgcolor": "white",
           "radialaxis": {
            "gridcolor": "#EBF0F8",
            "linecolor": "#EBF0F8",
            "ticks": ""
           }
          },
          "scene": {
           "xaxis": {
            "backgroundcolor": "white",
            "gridcolor": "#DFE8F3",
            "gridwidth": 2,
            "linecolor": "#EBF0F8",
            "showbackground": true,
            "ticks": "",
            "zerolinecolor": "#EBF0F8"
           },
           "yaxis": {
            "backgroundcolor": "white",
            "gridcolor": "#DFE8F3",
            "gridwidth": 2,
            "linecolor": "#EBF0F8",
            "showbackground": true,
            "ticks": "",
            "zerolinecolor": "#EBF0F8"
           },
           "zaxis": {
            "backgroundcolor": "white",
            "gridcolor": "#DFE8F3",
            "gridwidth": 2,
            "linecolor": "#EBF0F8",
            "showbackground": true,
            "ticks": "",
            "zerolinecolor": "#EBF0F8"
           }
          },
          "shapedefaults": {
           "line": {
            "color": "#2a3f5f"
           }
          },
          "ternary": {
           "aaxis": {
            "gridcolor": "#DFE8F3",
            "linecolor": "#A2B1C6",
            "ticks": ""
           },
           "baxis": {
            "gridcolor": "#DFE8F3",
            "linecolor": "#A2B1C6",
            "ticks": ""
           },
           "bgcolor": "white",
           "caxis": {
            "gridcolor": "#DFE8F3",
            "linecolor": "#A2B1C6",
            "ticks": ""
           }
          },
          "title": {
           "x": 0.05
          },
          "xaxis": {
           "automargin": true,
           "gridcolor": "#EBF0F8",
           "linecolor": "#EBF0F8",
           "ticks": "",
           "title": {
            "standoff": 15
           },
           "zerolinecolor": "#EBF0F8",
           "zerolinewidth": 2
          },
          "yaxis": {
           "automargin": true,
           "gridcolor": "#EBF0F8",
           "linecolor": "#EBF0F8",
           "ticks": "",
           "title": {
            "standoff": 15
           },
           "zerolinecolor": "#EBF0F8",
           "zerolinewidth": 2
          }
         }
        },
        "title": {
         "text": "Model Efficiency Analysis: Performance vs Speed"
        },
        "xaxis": {
         "title": {
          "text": "Inference Time per Sample (ms)"
         }
        },
        "yaxis": {
         "title": {
          "text": "F1 Score"
         }
        }
       }
      }
     },
     "metadata": {},
     "output_type": "display_data"
    },
    {
     "name": "stdout",
     "output_type": "stream",
     "text": [
      "✅ Efficiency analysis chart saved!\n"
     ]
    }
   ],
   "source": [
    "# 3. Model Efficiency Analysis\n",
    "def create_efficiency_analysis():\n",
    "    \"\"\"Create model efficiency analysis (speed vs performance).\"\"\"\n",
    "    \n",
    "    # Create bubble chart: F1 vs Inference Time, bubble size = model size\n",
    "    fig = go.Figure()\n",
    "    \n",
    "    colors = {'TITLE': '#1f77b4', 'NO-TITLE': '#ff7f0e'}\n",
    "    \n",
    "    for model_type in df_results['model_type'].unique():\n",
    "        model_data = df_results[df_results['model_type'] == model_type]\n",
    "        \n",
    "        fig.add_trace(go.Scatter(\n",
    "            x=model_data['inference_time_per_sample'] * 1000,  # Convert to ms\n",
    "            y=model_data['person_f1'],\n",
    "            mode='markers',\n",
    "            marker=dict(\n",
    "                size=model_data['model_size_mb'] / 10,  # Scale for visibility\n",
    "                color=colors[model_type],\n",
    "                opacity=0.7,\n",
    "                line=dict(width=2, color='white')\n",
    "            ),\n",
    "            name=f'{model_type} Model',\n",
    "            text=model_data['dataset'],\n",
    "            hovertemplate=(\n",
    "                '<b>%{text}</b><br>' +\n",
    "                'F1 Score: %{y:.3f}<br>' +\n",
    "                'Inference Time: %{x:.1f}ms<br>' +\n",
    "                'Model Size: %{marker.size*10:.1f}MB<br>' +\n",
    "                '<extra></extra>'\n",
    "            )\n",
    "        ))\n",
    "    \n",
    "    fig.update_layout(\n",
    "        title=\"Model Efficiency Analysis: Performance vs Speed\",\n",
    "        xaxis_title=\"Inference Time per Sample (ms)\",\n",
    "        yaxis_title=\"F1 Score\",\n",
    "        template=\"plotly_white\",\n",
    "        height=600,\n",
    "        annotations=[\n",
    "            dict(text=\"Bubble size represents model size\", \n",
    "                 x=0.02, y=0.98, xref=\"paper\", yref=\"paper\",\n",
    "                 showarrow=False, font=dict(size=12))\n",
    "        ]\n",
    "    )\n",
    "    \n",
    "    return fig\n",
    "\n",
    "efficiency_fig = create_efficiency_analysis()\n",
    "efficiency_fig.show()\n",
    "\n",
    "# Save the chart\n",
    "efficiency_fig.write_html(CHARTS_PATH / f\"efficiency_analysis_{results_timestamp}.html\")\n",
    "efficiency_fig.write_image(CHARTS_PATH / f\"efficiency_analysis_{results_timestamp}.png\", width=800, height=600)\n",
    "print(\"✅ Efficiency analysis chart saved!\")"
   ]
  },
  {
   "cell_type": "code",
   "execution_count": 21,
   "id": "bd554faf",
   "metadata": {},
   "outputs": [
    {
     "data": {
      "application/vnd.plotly.v1+json": {
       "config": {
        "plotlyServerURL": "https://plot.ly"
       },
       "data": [
        {
         "fill": "toself",
         "name": "TITLE Model",
         "opacity": 0.6,
         "r": [
          0.5563364067509375,
          0.47430448978104717,
          0.7987825397912373,
          0.957687464223993,
          0.04175451957152099,
          0
         ],
         "theta": [
          "F1 Score",
          "Precision",
          "Recall",
          "Token Accuracy",
          "Speed (1-normalized)",
          "Efficiency (1/size)"
         ],
         "type": "scatterpolar"
        },
        {
         "fill": "toself",
         "name": "NO-TITLE Model",
         "opacity": 0.6,
         "r": [
          0.5843202226271608,
          0.5124450463645556,
          0.7819034850058955,
          0.9687487416623652,
          0,
          0.000024389979299099807
         ],
         "theta": [
          "F1 Score",
          "Precision",
          "Recall",
          "Token Accuracy",
          "Speed (1-normalized)",
          "Efficiency (1/size)"
         ],
         "type": "scatterpolar"
        }
       ],
       "layout": {
        "height": 600,
        "polar": {
         "radialaxis": {
          "range": [
           0,
           1
          ],
          "visible": true
         }
        },
        "template": {
         "data": {
          "bar": [
           {
            "error_x": {
             "color": "#2a3f5f"
            },
            "error_y": {
             "color": "#2a3f5f"
            },
            "marker": {
             "line": {
              "color": "white",
              "width": 0.5
             },
             "pattern": {
              "fillmode": "overlay",
              "size": 10,
              "solidity": 0.2
             }
            },
            "type": "bar"
           }
          ],
          "barpolar": [
           {
            "marker": {
             "line": {
              "color": "white",
              "width": 0.5
             },
             "pattern": {
              "fillmode": "overlay",
              "size": 10,
              "solidity": 0.2
             }
            },
            "type": "barpolar"
           }
          ],
          "carpet": [
           {
            "aaxis": {
             "endlinecolor": "#2a3f5f",
             "gridcolor": "#C8D4E3",
             "linecolor": "#C8D4E3",
             "minorgridcolor": "#C8D4E3",
             "startlinecolor": "#2a3f5f"
            },
            "baxis": {
             "endlinecolor": "#2a3f5f",
             "gridcolor": "#C8D4E3",
             "linecolor": "#C8D4E3",
             "minorgridcolor": "#C8D4E3",
             "startlinecolor": "#2a3f5f"
            },
            "type": "carpet"
           }
          ],
          "choropleth": [
           {
            "colorbar": {
             "outlinewidth": 0,
             "ticks": ""
            },
            "type": "choropleth"
           }
          ],
          "contour": [
           {
            "colorbar": {
             "outlinewidth": 0,
             "ticks": ""
            },
            "colorscale": [
             [
              0,
              "#0d0887"
             ],
             [
              0.1111111111111111,
              "#46039f"
             ],
             [
              0.2222222222222222,
              "#7201a8"
             ],
             [
              0.3333333333333333,
              "#9c179e"
             ],
             [
              0.4444444444444444,
              "#bd3786"
             ],
             [
              0.5555555555555556,
              "#d8576b"
             ],
             [
              0.6666666666666666,
              "#ed7953"
             ],
             [
              0.7777777777777778,
              "#fb9f3a"
             ],
             [
              0.8888888888888888,
              "#fdca26"
             ],
             [
              1,
              "#f0f921"
             ]
            ],
            "type": "contour"
           }
          ],
          "contourcarpet": [
           {
            "colorbar": {
             "outlinewidth": 0,
             "ticks": ""
            },
            "type": "contourcarpet"
           }
          ],
          "heatmap": [
           {
            "colorbar": {
             "outlinewidth": 0,
             "ticks": ""
            },
            "colorscale": [
             [
              0,
              "#0d0887"
             ],
             [
              0.1111111111111111,
              "#46039f"
             ],
             [
              0.2222222222222222,
              "#7201a8"
             ],
             [
              0.3333333333333333,
              "#9c179e"
             ],
             [
              0.4444444444444444,
              "#bd3786"
             ],
             [
              0.5555555555555556,
              "#d8576b"
             ],
             [
              0.6666666666666666,
              "#ed7953"
             ],
             [
              0.7777777777777778,
              "#fb9f3a"
             ],
             [
              0.8888888888888888,
              "#fdca26"
             ],
             [
              1,
              "#f0f921"
             ]
            ],
            "type": "heatmap"
           }
          ],
          "histogram": [
           {
            "marker": {
             "pattern": {
              "fillmode": "overlay",
              "size": 10,
              "solidity": 0.2
             }
            },
            "type": "histogram"
           }
          ],
          "histogram2d": [
           {
            "colorbar": {
             "outlinewidth": 0,
             "ticks": ""
            },
            "colorscale": [
             [
              0,
              "#0d0887"
             ],
             [
              0.1111111111111111,
              "#46039f"
             ],
             [
              0.2222222222222222,
              "#7201a8"
             ],
             [
              0.3333333333333333,
              "#9c179e"
             ],
             [
              0.4444444444444444,
              "#bd3786"
             ],
             [
              0.5555555555555556,
              "#d8576b"
             ],
             [
              0.6666666666666666,
              "#ed7953"
             ],
             [
              0.7777777777777778,
              "#fb9f3a"
             ],
             [
              0.8888888888888888,
              "#fdca26"
             ],
             [
              1,
              "#f0f921"
             ]
            ],
            "type": "histogram2d"
           }
          ],
          "histogram2dcontour": [
           {
            "colorbar": {
             "outlinewidth": 0,
             "ticks": ""
            },
            "colorscale": [
             [
              0,
              "#0d0887"
             ],
             [
              0.1111111111111111,
              "#46039f"
             ],
             [
              0.2222222222222222,
              "#7201a8"
             ],
             [
              0.3333333333333333,
              "#9c179e"
             ],
             [
              0.4444444444444444,
              "#bd3786"
             ],
             [
              0.5555555555555556,
              "#d8576b"
             ],
             [
              0.6666666666666666,
              "#ed7953"
             ],
             [
              0.7777777777777778,
              "#fb9f3a"
             ],
             [
              0.8888888888888888,
              "#fdca26"
             ],
             [
              1,
              "#f0f921"
             ]
            ],
            "type": "histogram2dcontour"
           }
          ],
          "mesh3d": [
           {
            "colorbar": {
             "outlinewidth": 0,
             "ticks": ""
            },
            "type": "mesh3d"
           }
          ],
          "parcoords": [
           {
            "line": {
             "colorbar": {
              "outlinewidth": 0,
              "ticks": ""
             }
            },
            "type": "parcoords"
           }
          ],
          "pie": [
           {
            "automargin": true,
            "type": "pie"
           }
          ],
          "scatter": [
           {
            "fillpattern": {
             "fillmode": "overlay",
             "size": 10,
             "solidity": 0.2
            },
            "type": "scatter"
           }
          ],
          "scatter3d": [
           {
            "line": {
             "colorbar": {
              "outlinewidth": 0,
              "ticks": ""
             }
            },
            "marker": {
             "colorbar": {
              "outlinewidth": 0,
              "ticks": ""
             }
            },
            "type": "scatter3d"
           }
          ],
          "scattercarpet": [
           {
            "marker": {
             "colorbar": {
              "outlinewidth": 0,
              "ticks": ""
             }
            },
            "type": "scattercarpet"
           }
          ],
          "scattergeo": [
           {
            "marker": {
             "colorbar": {
              "outlinewidth": 0,
              "ticks": ""
             }
            },
            "type": "scattergeo"
           }
          ],
          "scattergl": [
           {
            "marker": {
             "colorbar": {
              "outlinewidth": 0,
              "ticks": ""
             }
            },
            "type": "scattergl"
           }
          ],
          "scattermap": [
           {
            "marker": {
             "colorbar": {
              "outlinewidth": 0,
              "ticks": ""
             }
            },
            "type": "scattermap"
           }
          ],
          "scattermapbox": [
           {
            "marker": {
             "colorbar": {
              "outlinewidth": 0,
              "ticks": ""
             }
            },
            "type": "scattermapbox"
           }
          ],
          "scatterpolar": [
           {
            "marker": {
             "colorbar": {
              "outlinewidth": 0,
              "ticks": ""
             }
            },
            "type": "scatterpolar"
           }
          ],
          "scatterpolargl": [
           {
            "marker": {
             "colorbar": {
              "outlinewidth": 0,
              "ticks": ""
             }
            },
            "type": "scatterpolargl"
           }
          ],
          "scatterternary": [
           {
            "marker": {
             "colorbar": {
              "outlinewidth": 0,
              "ticks": ""
             }
            },
            "type": "scatterternary"
           }
          ],
          "surface": [
           {
            "colorbar": {
             "outlinewidth": 0,
             "ticks": ""
            },
            "colorscale": [
             [
              0,
              "#0d0887"
             ],
             [
              0.1111111111111111,
              "#46039f"
             ],
             [
              0.2222222222222222,
              "#7201a8"
             ],
             [
              0.3333333333333333,
              "#9c179e"
             ],
             [
              0.4444444444444444,
              "#bd3786"
             ],
             [
              0.5555555555555556,
              "#d8576b"
             ],
             [
              0.6666666666666666,
              "#ed7953"
             ],
             [
              0.7777777777777778,
              "#fb9f3a"
             ],
             [
              0.8888888888888888,
              "#fdca26"
             ],
             [
              1,
              "#f0f921"
             ]
            ],
            "type": "surface"
           }
          ],
          "table": [
           {
            "cells": {
             "fill": {
              "color": "#EBF0F8"
             },
             "line": {
              "color": "white"
             }
            },
            "header": {
             "fill": {
              "color": "#C8D4E3"
             },
             "line": {
              "color": "white"
             }
            },
            "type": "table"
           }
          ]
         },
         "layout": {
          "annotationdefaults": {
           "arrowcolor": "#2a3f5f",
           "arrowhead": 0,
           "arrowwidth": 1
          },
          "autotypenumbers": "strict",
          "coloraxis": {
           "colorbar": {
            "outlinewidth": 0,
            "ticks": ""
           }
          },
          "colorscale": {
           "diverging": [
            [
             0,
             "#8e0152"
            ],
            [
             0.1,
             "#c51b7d"
            ],
            [
             0.2,
             "#de77ae"
            ],
            [
             0.3,
             "#f1b6da"
            ],
            [
             0.4,
             "#fde0ef"
            ],
            [
             0.5,
             "#f7f7f7"
            ],
            [
             0.6,
             "#e6f5d0"
            ],
            [
             0.7,
             "#b8e186"
            ],
            [
             0.8,
             "#7fbc41"
            ],
            [
             0.9,
             "#4d9221"
            ],
            [
             1,
             "#276419"
            ]
           ],
           "sequential": [
            [
             0,
             "#0d0887"
            ],
            [
             0.1111111111111111,
             "#46039f"
            ],
            [
             0.2222222222222222,
             "#7201a8"
            ],
            [
             0.3333333333333333,
             "#9c179e"
            ],
            [
             0.4444444444444444,
             "#bd3786"
            ],
            [
             0.5555555555555556,
             "#d8576b"
            ],
            [
             0.6666666666666666,
             "#ed7953"
            ],
            [
             0.7777777777777778,
             "#fb9f3a"
            ],
            [
             0.8888888888888888,
             "#fdca26"
            ],
            [
             1,
             "#f0f921"
            ]
           ],
           "sequentialminus": [
            [
             0,
             "#0d0887"
            ],
            [
             0.1111111111111111,
             "#46039f"
            ],
            [
             0.2222222222222222,
             "#7201a8"
            ],
            [
             0.3333333333333333,
             "#9c179e"
            ],
            [
             0.4444444444444444,
             "#bd3786"
            ],
            [
             0.5555555555555556,
             "#d8576b"
            ],
            [
             0.6666666666666666,
             "#ed7953"
            ],
            [
             0.7777777777777778,
             "#fb9f3a"
            ],
            [
             0.8888888888888888,
             "#fdca26"
            ],
            [
             1,
             "#f0f921"
            ]
           ]
          },
          "colorway": [
           "#636efa",
           "#EF553B",
           "#00cc96",
           "#ab63fa",
           "#FFA15A",
           "#19d3f3",
           "#FF6692",
           "#B6E880",
           "#FF97FF",
           "#FECB52"
          ],
          "font": {
           "color": "#2a3f5f"
          },
          "geo": {
           "bgcolor": "white",
           "lakecolor": "white",
           "landcolor": "white",
           "showlakes": true,
           "showland": true,
           "subunitcolor": "#C8D4E3"
          },
          "hoverlabel": {
           "align": "left"
          },
          "hovermode": "closest",
          "mapbox": {
           "style": "light"
          },
          "paper_bgcolor": "white",
          "plot_bgcolor": "white",
          "polar": {
           "angularaxis": {
            "gridcolor": "#EBF0F8",
            "linecolor": "#EBF0F8",
            "ticks": ""
           },
           "bgcolor": "white",
           "radialaxis": {
            "gridcolor": "#EBF0F8",
            "linecolor": "#EBF0F8",
            "ticks": ""
           }
          },
          "scene": {
           "xaxis": {
            "backgroundcolor": "white",
            "gridcolor": "#DFE8F3",
            "gridwidth": 2,
            "linecolor": "#EBF0F8",
            "showbackground": true,
            "ticks": "",
            "zerolinecolor": "#EBF0F8"
           },
           "yaxis": {
            "backgroundcolor": "white",
            "gridcolor": "#DFE8F3",
            "gridwidth": 2,
            "linecolor": "#EBF0F8",
            "showbackground": true,
            "ticks": "",
            "zerolinecolor": "#EBF0F8"
           },
           "zaxis": {
            "backgroundcolor": "white",
            "gridcolor": "#DFE8F3",
            "gridwidth": 2,
            "linecolor": "#EBF0F8",
            "showbackground": true,
            "ticks": "",
            "zerolinecolor": "#EBF0F8"
           }
          },
          "shapedefaults": {
           "line": {
            "color": "#2a3f5f"
           }
          },
          "ternary": {
           "aaxis": {
            "gridcolor": "#DFE8F3",
            "linecolor": "#A2B1C6",
            "ticks": ""
           },
           "baxis": {
            "gridcolor": "#DFE8F3",
            "linecolor": "#A2B1C6",
            "ticks": ""
           },
           "bgcolor": "white",
           "caxis": {
            "gridcolor": "#DFE8F3",
            "linecolor": "#A2B1C6",
            "ticks": ""
           }
          },
          "title": {
           "x": 0.05
          },
          "xaxis": {
           "automargin": true,
           "gridcolor": "#EBF0F8",
           "linecolor": "#EBF0F8",
           "ticks": "",
           "title": {
            "standoff": 15
           },
           "zerolinecolor": "#EBF0F8",
           "zerolinewidth": 2
          },
          "yaxis": {
           "automargin": true,
           "gridcolor": "#EBF0F8",
           "linecolor": "#EBF0F8",
           "ticks": "",
           "title": {
            "standoff": 15
           },
           "zerolinecolor": "#EBF0F8",
           "zerolinewidth": 2
          }
         }
        },
        "title": {
         "text": "Multi-dimensional Model Comparison (Radar Chart)"
        }
       }
      }
     },
     "metadata": {},
     "output_type": "display_data"
    },
    {
     "name": "stdout",
     "output_type": "stream",
     "text": [
      "✅ Radar chart saved!\n"
     ]
    }
   ],
   "source": [
    "# 4. Radar Chart for Multi-dimensional Comparison\n",
    "def create_radar_chart():\n",
    "    \"\"\"Create radar chart for multi-dimensional model comparison.\"\"\"\n",
    "    \n",
    "    # Prepare data for radar chart\n",
    "    categories = ['F1 Score', 'Precision', 'Recall', 'Token Accuracy', 'Speed (1-normalized)', 'Efficiency (1/size)']\n",
    "    \n",
    "    fig = go.Figure()\n",
    "    \n",
    "    for model_type in df_aggregated['model_type']:\n",
    "        model_data = df_aggregated[df_aggregated['model_type'] == model_type].iloc[0]\n",
    "        \n",
    "        # Normalize speed (lower is better, so invert)\n",
    "        max_speed = df_aggregated['avg_inference_time_per_sample'].max()\n",
    "        normalized_speed = 1 - (model_data['avg_inference_time_per_sample'] / max_speed)\n",
    "        \n",
    "        # Normalize efficiency (1/size, higher is better)\n",
    "        max_size = df_aggregated['model_size_mb'].max()\n",
    "        normalized_efficiency = 1 - (model_data['model_size_mb'] / max_size)\n",
    "        \n",
    "        values = [\n",
    "            model_data['person_f1_mean'],\n",
    "            model_data['person_precision_mean'],\n",
    "            model_data['person_recall_mean'],\n",
    "            model_data['token_accuracy_mean'],\n",
    "            normalized_speed,\n",
    "            normalized_efficiency\n",
    "        ]\n",
    "        \n",
    "        fig.add_trace(go.Scatterpolar(\n",
    "            r=values,\n",
    "            theta=categories,\n",
    "            fill='toself',\n",
    "            name=f'{model_type} Model',\n",
    "            opacity=0.6\n",
    "        ))\n",
    "    \n",
    "    fig.update_layout(\n",
    "        polar=dict(\n",
    "            radialaxis=dict(\n",
    "                visible=True,\n",
    "                range=[0, 1]\n",
    "            )\n",
    "        ),\n",
    "        title=\"Multi-dimensional Model Comparison (Radar Chart)\",\n",
    "        template=\"plotly_white\",\n",
    "        height=600\n",
    "    )\n",
    "    \n",
    "    return fig\n",
    "\n",
    "radar_fig = create_radar_chart()\n",
    "radar_fig.show()\n",
    "\n",
    "# Save the chart\n",
    "radar_fig.write_html(CHARTS_PATH / f\"radar_comparison_{results_timestamp}.html\")\n",
    "radar_fig.write_image(CHARTS_PATH / f\"radar_comparison_{results_timestamp}.png\", width=800, height=600)\n",
    "print(\"✅ Radar chart saved!\")"
   ]
  },
  {
   "cell_type": "code",
   "execution_count": 22,
   "id": "6ece755b",
   "metadata": {},
   "outputs": [
    {
     "data": {
      "application/vnd.plotly.v1+json": {
       "config": {
        "plotlyServerURL": "https://plot.ly"
       },
       "data": [
        {
         "marker": {
          "color": "#1f77b4"
         },
         "name": "TITLE",
         "nbinsx": 10,
         "opacity": 0.7,
         "showlegend": true,
         "type": "histogram",
         "x": {
          "bdata": "hhUMMeVH7D8ilVhbKgPnP2v2USa4Zs8/rHWf5JQi2D8=",
          "dtype": "f8"
         },
         "xaxis": "x",
         "yaxis": "y"
        },
        {
         "marker": {
          "color": "#ff7f0e"
         },
         "name": "NO-TITLE",
         "nbinsx": 10,
         "opacity": 0.7,
         "showlegend": true,
         "type": "histogram",
         "x": {
          "bdata": "CDwX4WGf7D8MP63BG+PnP+MLdY3OJtI/XDeVwzhq2j8=",
          "dtype": "f8"
         },
         "xaxis": "x",
         "yaxis": "y"
        },
        {
         "marker": {
          "color": "#1f77b4"
         },
         "name": "TITLE",
         "nbinsx": 10,
         "opacity": 0.7,
         "showlegend": false,
         "type": "histogram",
         "x": {
          "bdata": "lF4lnrvS6j/ZDl0V17rkP4KCgoKCgsI/vIOuN54P0T8=",
          "dtype": "f8"
         },
         "xaxis": "x2",
         "yaxis": "y2"
        },
        {
         "marker": {
          "color": "#ff7f0e"
         },
         "name": "NO-TITLE",
         "nbinsx": 10,
         "opacity": 0.7,
         "showlegend": false,
         "type": "histogram",
         "x": {
          "bdata": "/pDA2w8J7D/P7uK9h/3lP4VhGIZhGMY/9tnORDkW1D8=",
          "dtype": "f8"
         },
         "xaxis": "x2",
         "yaxis": "y2"
        },
        {
         "marker": {
          "color": "#1f77b4"
         },
         "name": "TITLE",
         "nbinsx": 10,
         "opacity": 0.7,
         "showlegend": false,
         "type": "histogram",
         "x": {
          "bdata": "E+FJQfLn7T/Ya18JF9zpP8+dO3fu3Ok/2Ymd2Imd5D8=",
          "dtype": "f8"
         },
         "xaxis": "x3",
         "yaxis": "y3"
        },
        {
         "marker": {
          "color": "#ff7f0e"
         },
         "name": "NO-TITLE",
         "nbinsx": 10,
         "opacity": 0.7,
         "showlegend": false,
         "type": "histogram",
         "x": {
          "bdata": "UE3HXCI87T/6LiCZXCTqP8uWLVu2bOk/gzRIgzRI4z8=",
          "dtype": "f8"
         },
         "xaxis": "x3",
         "yaxis": "y3"
        },
        {
         "marker": {
          "color": "#1f77b4"
         },
         "name": "TITLE",
         "nbinsx": 10,
         "opacity": 0.7,
         "showlegend": false,
         "type": "histogram",
         "x": {
          "bdata": "cF0golqh7z/cycSNYtruPxtKA01Wxu0/ZlpoPG1T7j8=",
          "dtype": "f8"
         },
         "xaxis": "x4",
         "yaxis": "y4"
        },
        {
         "marker": {
          "color": "#ff7f0e"
         },
         "name": "NO-TITLE",
         "nbinsx": 10,
         "opacity": 0.7,
         "showlegend": false,
         "type": "histogram",
         "x": {
          "bdata": "ZLkThci87z9gBjAuyWHvPzeaKfvKNe4/zjdQw5ir7j8=",
          "dtype": "f8"
         },
         "xaxis": "x4",
         "yaxis": "y4"
        }
       ],
       "layout": {
        "annotations": [
         {
          "font": {
           "size": 16
          },
          "showarrow": false,
          "text": "F1 Score Distribution",
          "x": 0.225,
          "xanchor": "center",
          "xref": "paper",
          "y": 1,
          "yanchor": "bottom",
          "yref": "paper"
         },
         {
          "font": {
           "size": 16
          },
          "showarrow": false,
          "text": "Precision Distribution",
          "x": 0.775,
          "xanchor": "center",
          "xref": "paper",
          "y": 1,
          "yanchor": "bottom",
          "yref": "paper"
         },
         {
          "font": {
           "size": 16
          },
          "showarrow": false,
          "text": "Recall Distribution",
          "x": 0.225,
          "xanchor": "center",
          "xref": "paper",
          "y": 0.375,
          "yanchor": "bottom",
          "yref": "paper"
         },
         {
          "font": {
           "size": 16
          },
          "showarrow": false,
          "text": "Token Accuracy Distribution",
          "x": 0.775,
          "xanchor": "center",
          "xref": "paper",
          "y": 0.375,
          "yanchor": "bottom",
          "yref": "paper"
         }
        ],
        "barmode": "overlay",
        "height": 800,
        "template": {
         "data": {
          "bar": [
           {
            "error_x": {
             "color": "#2a3f5f"
            },
            "error_y": {
             "color": "#2a3f5f"
            },
            "marker": {
             "line": {
              "color": "white",
              "width": 0.5
             },
             "pattern": {
              "fillmode": "overlay",
              "size": 10,
              "solidity": 0.2
             }
            },
            "type": "bar"
           }
          ],
          "barpolar": [
           {
            "marker": {
             "line": {
              "color": "white",
              "width": 0.5
             },
             "pattern": {
              "fillmode": "overlay",
              "size": 10,
              "solidity": 0.2
             }
            },
            "type": "barpolar"
           }
          ],
          "carpet": [
           {
            "aaxis": {
             "endlinecolor": "#2a3f5f",
             "gridcolor": "#C8D4E3",
             "linecolor": "#C8D4E3",
             "minorgridcolor": "#C8D4E3",
             "startlinecolor": "#2a3f5f"
            },
            "baxis": {
             "endlinecolor": "#2a3f5f",
             "gridcolor": "#C8D4E3",
             "linecolor": "#C8D4E3",
             "minorgridcolor": "#C8D4E3",
             "startlinecolor": "#2a3f5f"
            },
            "type": "carpet"
           }
          ],
          "choropleth": [
           {
            "colorbar": {
             "outlinewidth": 0,
             "ticks": ""
            },
            "type": "choropleth"
           }
          ],
          "contour": [
           {
            "colorbar": {
             "outlinewidth": 0,
             "ticks": ""
            },
            "colorscale": [
             [
              0,
              "#0d0887"
             ],
             [
              0.1111111111111111,
              "#46039f"
             ],
             [
              0.2222222222222222,
              "#7201a8"
             ],
             [
              0.3333333333333333,
              "#9c179e"
             ],
             [
              0.4444444444444444,
              "#bd3786"
             ],
             [
              0.5555555555555556,
              "#d8576b"
             ],
             [
              0.6666666666666666,
              "#ed7953"
             ],
             [
              0.7777777777777778,
              "#fb9f3a"
             ],
             [
              0.8888888888888888,
              "#fdca26"
             ],
             [
              1,
              "#f0f921"
             ]
            ],
            "type": "contour"
           }
          ],
          "contourcarpet": [
           {
            "colorbar": {
             "outlinewidth": 0,
             "ticks": ""
            },
            "type": "contourcarpet"
           }
          ],
          "heatmap": [
           {
            "colorbar": {
             "outlinewidth": 0,
             "ticks": ""
            },
            "colorscale": [
             [
              0,
              "#0d0887"
             ],
             [
              0.1111111111111111,
              "#46039f"
             ],
             [
              0.2222222222222222,
              "#7201a8"
             ],
             [
              0.3333333333333333,
              "#9c179e"
             ],
             [
              0.4444444444444444,
              "#bd3786"
             ],
             [
              0.5555555555555556,
              "#d8576b"
             ],
             [
              0.6666666666666666,
              "#ed7953"
             ],
             [
              0.7777777777777778,
              "#fb9f3a"
             ],
             [
              0.8888888888888888,
              "#fdca26"
             ],
             [
              1,
              "#f0f921"
             ]
            ],
            "type": "heatmap"
           }
          ],
          "histogram": [
           {
            "marker": {
             "pattern": {
              "fillmode": "overlay",
              "size": 10,
              "solidity": 0.2
             }
            },
            "type": "histogram"
           }
          ],
          "histogram2d": [
           {
            "colorbar": {
             "outlinewidth": 0,
             "ticks": ""
            },
            "colorscale": [
             [
              0,
              "#0d0887"
             ],
             [
              0.1111111111111111,
              "#46039f"
             ],
             [
              0.2222222222222222,
              "#7201a8"
             ],
             [
              0.3333333333333333,
              "#9c179e"
             ],
             [
              0.4444444444444444,
              "#bd3786"
             ],
             [
              0.5555555555555556,
              "#d8576b"
             ],
             [
              0.6666666666666666,
              "#ed7953"
             ],
             [
              0.7777777777777778,
              "#fb9f3a"
             ],
             [
              0.8888888888888888,
              "#fdca26"
             ],
             [
              1,
              "#f0f921"
             ]
            ],
            "type": "histogram2d"
           }
          ],
          "histogram2dcontour": [
           {
            "colorbar": {
             "outlinewidth": 0,
             "ticks": ""
            },
            "colorscale": [
             [
              0,
              "#0d0887"
             ],
             [
              0.1111111111111111,
              "#46039f"
             ],
             [
              0.2222222222222222,
              "#7201a8"
             ],
             [
              0.3333333333333333,
              "#9c179e"
             ],
             [
              0.4444444444444444,
              "#bd3786"
             ],
             [
              0.5555555555555556,
              "#d8576b"
             ],
             [
              0.6666666666666666,
              "#ed7953"
             ],
             [
              0.7777777777777778,
              "#fb9f3a"
             ],
             [
              0.8888888888888888,
              "#fdca26"
             ],
             [
              1,
              "#f0f921"
             ]
            ],
            "type": "histogram2dcontour"
           }
          ],
          "mesh3d": [
           {
            "colorbar": {
             "outlinewidth": 0,
             "ticks": ""
            },
            "type": "mesh3d"
           }
          ],
          "parcoords": [
           {
            "line": {
             "colorbar": {
              "outlinewidth": 0,
              "ticks": ""
             }
            },
            "type": "parcoords"
           }
          ],
          "pie": [
           {
            "automargin": true,
            "type": "pie"
           }
          ],
          "scatter": [
           {
            "fillpattern": {
             "fillmode": "overlay",
             "size": 10,
             "solidity": 0.2
            },
            "type": "scatter"
           }
          ],
          "scatter3d": [
           {
            "line": {
             "colorbar": {
              "outlinewidth": 0,
              "ticks": ""
             }
            },
            "marker": {
             "colorbar": {
              "outlinewidth": 0,
              "ticks": ""
             }
            },
            "type": "scatter3d"
           }
          ],
          "scattercarpet": [
           {
            "marker": {
             "colorbar": {
              "outlinewidth": 0,
              "ticks": ""
             }
            },
            "type": "scattercarpet"
           }
          ],
          "scattergeo": [
           {
            "marker": {
             "colorbar": {
              "outlinewidth": 0,
              "ticks": ""
             }
            },
            "type": "scattergeo"
           }
          ],
          "scattergl": [
           {
            "marker": {
             "colorbar": {
              "outlinewidth": 0,
              "ticks": ""
             }
            },
            "type": "scattergl"
           }
          ],
          "scattermap": [
           {
            "marker": {
             "colorbar": {
              "outlinewidth": 0,
              "ticks": ""
             }
            },
            "type": "scattermap"
           }
          ],
          "scattermapbox": [
           {
            "marker": {
             "colorbar": {
              "outlinewidth": 0,
              "ticks": ""
             }
            },
            "type": "scattermapbox"
           }
          ],
          "scatterpolar": [
           {
            "marker": {
             "colorbar": {
              "outlinewidth": 0,
              "ticks": ""
             }
            },
            "type": "scatterpolar"
           }
          ],
          "scatterpolargl": [
           {
            "marker": {
             "colorbar": {
              "outlinewidth": 0,
              "ticks": ""
             }
            },
            "type": "scatterpolargl"
           }
          ],
          "scatterternary": [
           {
            "marker": {
             "colorbar": {
              "outlinewidth": 0,
              "ticks": ""
             }
            },
            "type": "scatterternary"
           }
          ],
          "surface": [
           {
            "colorbar": {
             "outlinewidth": 0,
             "ticks": ""
            },
            "colorscale": [
             [
              0,
              "#0d0887"
             ],
             [
              0.1111111111111111,
              "#46039f"
             ],
             [
              0.2222222222222222,
              "#7201a8"
             ],
             [
              0.3333333333333333,
              "#9c179e"
             ],
             [
              0.4444444444444444,
              "#bd3786"
             ],
             [
              0.5555555555555556,
              "#d8576b"
             ],
             [
              0.6666666666666666,
              "#ed7953"
             ],
             [
              0.7777777777777778,
              "#fb9f3a"
             ],
             [
              0.8888888888888888,
              "#fdca26"
             ],
             [
              1,
              "#f0f921"
             ]
            ],
            "type": "surface"
           }
          ],
          "table": [
           {
            "cells": {
             "fill": {
              "color": "#EBF0F8"
             },
             "line": {
              "color": "white"
             }
            },
            "header": {
             "fill": {
              "color": "#C8D4E3"
             },
             "line": {
              "color": "white"
             }
            },
            "type": "table"
           }
          ]
         },
         "layout": {
          "annotationdefaults": {
           "arrowcolor": "#2a3f5f",
           "arrowhead": 0,
           "arrowwidth": 1
          },
          "autotypenumbers": "strict",
          "coloraxis": {
           "colorbar": {
            "outlinewidth": 0,
            "ticks": ""
           }
          },
          "colorscale": {
           "diverging": [
            [
             0,
             "#8e0152"
            ],
            [
             0.1,
             "#c51b7d"
            ],
            [
             0.2,
             "#de77ae"
            ],
            [
             0.3,
             "#f1b6da"
            ],
            [
             0.4,
             "#fde0ef"
            ],
            [
             0.5,
             "#f7f7f7"
            ],
            [
             0.6,
             "#e6f5d0"
            ],
            [
             0.7,
             "#b8e186"
            ],
            [
             0.8,
             "#7fbc41"
            ],
            [
             0.9,
             "#4d9221"
            ],
            [
             1,
             "#276419"
            ]
           ],
           "sequential": [
            [
             0,
             "#0d0887"
            ],
            [
             0.1111111111111111,
             "#46039f"
            ],
            [
             0.2222222222222222,
             "#7201a8"
            ],
            [
             0.3333333333333333,
             "#9c179e"
            ],
            [
             0.4444444444444444,
             "#bd3786"
            ],
            [
             0.5555555555555556,
             "#d8576b"
            ],
            [
             0.6666666666666666,
             "#ed7953"
            ],
            [
             0.7777777777777778,
             "#fb9f3a"
            ],
            [
             0.8888888888888888,
             "#fdca26"
            ],
            [
             1,
             "#f0f921"
            ]
           ],
           "sequentialminus": [
            [
             0,
             "#0d0887"
            ],
            [
             0.1111111111111111,
             "#46039f"
            ],
            [
             0.2222222222222222,
             "#7201a8"
            ],
            [
             0.3333333333333333,
             "#9c179e"
            ],
            [
             0.4444444444444444,
             "#bd3786"
            ],
            [
             0.5555555555555556,
             "#d8576b"
            ],
            [
             0.6666666666666666,
             "#ed7953"
            ],
            [
             0.7777777777777778,
             "#fb9f3a"
            ],
            [
             0.8888888888888888,
             "#fdca26"
            ],
            [
             1,
             "#f0f921"
            ]
           ]
          },
          "colorway": [
           "#636efa",
           "#EF553B",
           "#00cc96",
           "#ab63fa",
           "#FFA15A",
           "#19d3f3",
           "#FF6692",
           "#B6E880",
           "#FF97FF",
           "#FECB52"
          ],
          "font": {
           "color": "#2a3f5f"
          },
          "geo": {
           "bgcolor": "white",
           "lakecolor": "white",
           "landcolor": "white",
           "showlakes": true,
           "showland": true,
           "subunitcolor": "#C8D4E3"
          },
          "hoverlabel": {
           "align": "left"
          },
          "hovermode": "closest",
          "mapbox": {
           "style": "light"
          },
          "paper_bgcolor": "white",
          "plot_bgcolor": "white",
          "polar": {
           "angularaxis": {
            "gridcolor": "#EBF0F8",
            "linecolor": "#EBF0F8",
            "ticks": ""
           },
           "bgcolor": "white",
           "radialaxis": {
            "gridcolor": "#EBF0F8",
            "linecolor": "#EBF0F8",
            "ticks": ""
           }
          },
          "scene": {
           "xaxis": {
            "backgroundcolor": "white",
            "gridcolor": "#DFE8F3",
            "gridwidth": 2,
            "linecolor": "#EBF0F8",
            "showbackground": true,
            "ticks": "",
            "zerolinecolor": "#EBF0F8"
           },
           "yaxis": {
            "backgroundcolor": "white",
            "gridcolor": "#DFE8F3",
            "gridwidth": 2,
            "linecolor": "#EBF0F8",
            "showbackground": true,
            "ticks": "",
            "zerolinecolor": "#EBF0F8"
           },
           "zaxis": {
            "backgroundcolor": "white",
            "gridcolor": "#DFE8F3",
            "gridwidth": 2,
            "linecolor": "#EBF0F8",
            "showbackground": true,
            "ticks": "",
            "zerolinecolor": "#EBF0F8"
           }
          },
          "shapedefaults": {
           "line": {
            "color": "#2a3f5f"
           }
          },
          "ternary": {
           "aaxis": {
            "gridcolor": "#DFE8F3",
            "linecolor": "#A2B1C6",
            "ticks": ""
           },
           "baxis": {
            "gridcolor": "#DFE8F3",
            "linecolor": "#A2B1C6",
            "ticks": ""
           },
           "bgcolor": "white",
           "caxis": {
            "gridcolor": "#DFE8F3",
            "linecolor": "#A2B1C6",
            "ticks": ""
           }
          },
          "title": {
           "x": 0.05
          },
          "xaxis": {
           "automargin": true,
           "gridcolor": "#EBF0F8",
           "linecolor": "#EBF0F8",
           "ticks": "",
           "title": {
            "standoff": 15
           },
           "zerolinecolor": "#EBF0F8",
           "zerolinewidth": 2
          },
          "yaxis": {
           "automargin": true,
           "gridcolor": "#EBF0F8",
           "linecolor": "#EBF0F8",
           "ticks": "",
           "title": {
            "standoff": 15
           },
           "zerolinecolor": "#EBF0F8",
           "zerolinewidth": 2
          }
         }
        },
        "title": {
         "text": "Distribution of Performance Metrics Across Datasets",
         "x": 0.5
        },
        "xaxis": {
         "anchor": "y",
         "domain": [
          0,
          0.45
         ]
        },
        "xaxis2": {
         "anchor": "y2",
         "domain": [
          0.55,
          1
         ]
        },
        "xaxis3": {
         "anchor": "y3",
         "domain": [
          0,
          0.45
         ]
        },
        "xaxis4": {
         "anchor": "y4",
         "domain": [
          0.55,
          1
         ]
        },
        "yaxis": {
         "anchor": "x",
         "domain": [
          0.625,
          1
         ]
        },
        "yaxis2": {
         "anchor": "x2",
         "domain": [
          0.625,
          1
         ]
        },
        "yaxis3": {
         "anchor": "x3",
         "domain": [
          0,
          0.375
         ]
        },
        "yaxis4": {
         "anchor": "x4",
         "domain": [
          0,
          0.375
         ]
        }
       }
      }
     },
     "metadata": {},
     "output_type": "display_data"
    },
    {
     "name": "stdout",
     "output_type": "stream",
     "text": [
      "✅ Distribution analysis chart saved!\n"
     ]
    }
   ],
   "source": [
    "# 5. Distribution Analysis\n",
    "def create_distribution_analysis():\n",
    "    \"\"\"Create distribution analysis of metrics across datasets.\"\"\"\n",
    "    \n",
    "    fig = make_subplots(\n",
    "        rows=2, cols=2,\n",
    "        subplot_titles=('F1 Score Distribution', 'Precision Distribution',\n",
    "                       'Recall Distribution', 'Token Accuracy Distribution'),\n",
    "        specs=[[{\"secondary_y\": False}, {\"secondary_y\": False}],\n",
    "               [{\"secondary_y\": False}, {\"secondary_y\": False}]]\n",
    "    )\n",
    "    \n",
    "    metrics = ['person_f1', 'person_precision', 'person_recall', 'token_accuracy']\n",
    "    positions = [(1, 1), (1, 2), (2, 1), (2, 2)]\n",
    "    colors = ['#1f77b4', '#ff7f0e']\n",
    "    \n",
    "    for metric, (row, col) in zip(metrics, positions):\n",
    "        for i, model_type in enumerate(df_results['model_type'].unique()):\n",
    "            model_data = df_results[df_results['model_type'] == model_type]\n",
    "            \n",
    "            fig.add_trace(\n",
    "                go.Histogram(\n",
    "                    x=model_data[metric],\n",
    "                    name=f'{model_type}',\n",
    "                    opacity=0.7,\n",
    "                    nbinsx=10,\n",
    "                    marker_color=colors[i],\n",
    "                    showlegend=(row == 1 and col == 1)\n",
    "                ),\n",
    "                row=row, col=col\n",
    "            )\n",
    "    \n",
    "    fig.update_layout(\n",
    "        height=800,\n",
    "        title_text=\"Distribution of Performance Metrics Across Datasets\",\n",
    "        title_x=0.5,\n",
    "        template=\"plotly_white\",\n",
    "        barmode='overlay'\n",
    "    )\n",
    "    \n",
    "    return fig\n",
    "\n",
    "distribution_fig = create_distribution_analysis()\n",
    "distribution_fig.show()\n",
    "\n",
    "# Save the chart\n",
    "distribution_fig.write_html(CHARTS_PATH / f\"distribution_analysis_{results_timestamp}.html\")\n",
    "distribution_fig.write_image(CHARTS_PATH / f\"distribution_analysis_{results_timestamp}.png\", width=1200, height=800)\n",
    "print(\"✅ Distribution analysis chart saved!\")"
   ]
  },
  {
   "cell_type": "code",
   "execution_count": 23,
   "id": "eb2dc2ac",
   "metadata": {},
   "outputs": [
    {
     "data": {
      "application/vnd.plotly.v1+json": {
       "config": {
        "plotlyServerURL": "https://plot.ly"
       },
       "data": [
        {
         "colorscale": [
          [
           0,
           "rgb(49,54,149)"
          ],
          [
           0.1,
           "rgb(69,117,180)"
          ],
          [
           0.2,
           "rgb(116,173,209)"
          ],
          [
           0.3,
           "rgb(171,217,233)"
          ],
          [
           0.4,
           "rgb(224,243,248)"
          ],
          [
           0.5,
           "rgb(255,255,191)"
          ],
          [
           0.6,
           "rgb(254,224,144)"
          ],
          [
           0.7,
           "rgb(253,174,97)"
          ],
          [
           0.8,
           "rgb(244,109,67)"
          ],
          [
           0.9,
           "rgb(215,48,39)"
          ],
          [
           1,
           "rgb(165,0,38)"
          ]
         ],
         "showscale": false,
         "text": {
          "bdata": "rBxaZDvf5z81XrpJDALnPzvfT42Xbto/VOOlm8Qg2D/P91PjpZvsP30/NV66Sew/kxgEVg4t0j9cj8L1KFzPPw==",
          "dtype": "f8",
          "shape": "4, 2"
         },
         "textfont": {
          "size": 10
         },
         "texttemplate": "%{text}",
         "type": "heatmap",
         "x": [
          "NO-TITLE",
          "TITLE"
         ],
         "xaxis": "x",
         "y": [
          "KAGGLE",
          "WNUT",
          "conllpp_train",
          "ritter"
         ],
         "yaxis": "y",
         "z": {
          "bdata": "DD+twRvj5z8ilVhbKgPnP1w3lcM4ato/rHWf5JQi2D8IPBfhYZ/sP4YVDDHlR+w/4wt1jc4m0j9r9lEmuGbPPw==",
          "dtype": "f8",
          "shape": "4, 2"
         }
        },
        {
         "colorscale": [
          [
           0,
           "rgb(49,54,149)"
          ],
          [
           0.1,
           "rgb(69,117,180)"
          ],
          [
           0.2,
           "rgb(116,173,209)"
          ],
          [
           0.3,
           "rgb(171,217,233)"
          ],
          [
           0.4,
           "rgb(224,243,248)"
          ],
          [
           0.5,
           "rgb(255,255,191)"
          ],
          [
           0.6,
           "rgb(254,224,144)"
          ],
          [
           0.7,
           "rgb(253,174,97)"
          ],
          [
           0.8,
           "rgb(244,109,67)"
          ],
          [
           0.9,
           "rgb(215,48,39)"
          ],
          [
           1,
           "rgb(165,0,38)"
          ]
         ],
         "showscale": true,
         "text": {
          "bdata": "lkOLbOf75T8j2/l+arzkP39qvHSTGNQ/SgwCK4cW0T/VeOkmMQjsPzeJQWDl0Oo/vp8aL90kxj+PwvUoXI/CPw==",
          "dtype": "f8",
          "shape": "4, 2"
         },
         "textfont": {
          "size": 10
         },
         "texttemplate": "%{text}",
         "type": "heatmap",
         "x": [
          "NO-TITLE",
          "TITLE"
         ],
         "xaxis": "x2",
         "y": [
          "KAGGLE",
          "WNUT",
          "conllpp_train",
          "ritter"
         ],
         "yaxis": "y2",
         "z": {
          "bdata": "z+7ivYf95T/ZDl0V17rkP/bZzkQ5FtQ/vIOuN54P0T/+kMDbDwnsP5ReJZ670uo/hWEYhmEYxj+CgoKCgoLCPw==",
          "dtype": "f8",
          "shape": "4, 2"
         }
        },
        {
         "colorscale": [
          [
           0,
           "rgb(49,54,149)"
          ],
          [
           0.1,
           "rgb(69,117,180)"
          ],
          [
           0.2,
           "rgb(116,173,209)"
          ],
          [
           0.3,
           "rgb(171,217,233)"
          ],
          [
           0.4,
           "rgb(224,243,248)"
          ],
          [
           0.5,
           "rgb(255,255,191)"
          ],
          [
           0.6,
           "rgb(254,224,144)"
          ],
          [
           0.7,
           "rgb(253,174,97)"
          ],
          [
           0.8,
           "rgb(244,109,67)"
          ],
          [
           0.9,
           "rgb(215,48,39)"
          ],
          [
           1,
           "rgb(165,0,38)"
          ]
         ],
         "showscale": false,
         "text": {
          "bdata": "vp8aL90k6j9CYOXQItvpP7Kd76fGS+M/z/dT46Wb5D9zaJHtfD/tP+xRuB6F6+0/cT0K16Nw6T9CYOXQItvpPw==",
          "dtype": "f8",
          "shape": "4, 2"
         },
         "textfont": {
          "size": 10
         },
         "texttemplate": "%{text}",
         "type": "heatmap",
         "x": [
          "NO-TITLE",
          "TITLE"
         ],
         "xaxis": "x3",
         "y": [
          "KAGGLE",
          "WNUT",
          "conllpp_train",
          "ritter"
         ],
         "yaxis": "y3",
         "z": {
          "bdata": "+i4gmVwk6j/Ya18JF9zpP4M0SIM0SOM/2Ymd2Imd5D9QTcdcIjztPxPhSUHy5+0/y5YtW7Zs6T/PnTt37tzpPw==",
          "dtype": "f8",
          "shape": "4, 2"
         }
        },
        {
         "colorscale": [
          [
           0,
           "rgb(49,54,149)"
          ],
          [
           0.1,
           "rgb(69,117,180)"
          ],
          [
           0.2,
           "rgb(116,173,209)"
          ],
          [
           0.3,
           "rgb(171,217,233)"
          ],
          [
           0.4,
           "rgb(224,243,248)"
          ],
          [
           0.5,
           "rgb(255,255,191)"
          ],
          [
           0.6,
           "rgb(254,224,144)"
          ],
          [
           0.7,
           "rgb(253,174,97)"
          ],
          [
           0.8,
           "rgb(244,109,67)"
          ],
          [
           0.9,
           "rgb(215,48,39)"
          ],
          [
           1,
           "rgb(165,0,38)"
          ]
         ],
         "showscale": false,
         "text": {
          "bdata": "MQisHFpk7z8MAiuHFtnuPw4tsp3vp+4/vHSTGARW7j9YObTIdr7vPwRWDi2yne8/aJHtfD817j/D9Shcj8LtPw==",
          "dtype": "f8",
          "shape": "4, 2"
         },
         "textfont": {
          "size": 10
         },
         "texttemplate": "%{text}",
         "type": "heatmap",
         "x": [
          "NO-TITLE",
          "TITLE"
         ],
         "xaxis": "x4",
         "y": [
          "KAGGLE",
          "WNUT",
          "conllpp_train",
          "ritter"
         ],
         "yaxis": "y4",
         "z": {
          "bdata": "YAYwLslh7z/cycSNYtruP843UMOYq+4/ZlpoPG1T7j9kuROFyLzvP3BdIKJaoe8/N5op+8o17j8bSgNNVsbtPw==",
          "dtype": "f8",
          "shape": "4, 2"
         }
        }
       ],
       "layout": {
        "annotations": [
         {
          "font": {
           "size": 16
          },
          "showarrow": false,
          "text": "F1 Score",
          "x": 0.225,
          "xanchor": "center",
          "xref": "paper",
          "y": 1,
          "yanchor": "bottom",
          "yref": "paper"
         },
         {
          "font": {
           "size": 16
          },
          "showarrow": false,
          "text": "Precision",
          "x": 0.775,
          "xanchor": "center",
          "xref": "paper",
          "y": 1,
          "yanchor": "bottom",
          "yref": "paper"
         },
         {
          "font": {
           "size": 16
          },
          "showarrow": false,
          "text": "Recall",
          "x": 0.225,
          "xanchor": "center",
          "xref": "paper",
          "y": 0.375,
          "yanchor": "bottom",
          "yref": "paper"
         },
         {
          "font": {
           "size": 16
          },
          "showarrow": false,
          "text": "Token Accuracy",
          "x": 0.775,
          "xanchor": "center",
          "xref": "paper",
          "y": 0.375,
          "yanchor": "bottom",
          "yref": "paper"
         }
        ],
        "height": 800,
        "template": {
         "data": {
          "bar": [
           {
            "error_x": {
             "color": "#2a3f5f"
            },
            "error_y": {
             "color": "#2a3f5f"
            },
            "marker": {
             "line": {
              "color": "white",
              "width": 0.5
             },
             "pattern": {
              "fillmode": "overlay",
              "size": 10,
              "solidity": 0.2
             }
            },
            "type": "bar"
           }
          ],
          "barpolar": [
           {
            "marker": {
             "line": {
              "color": "white",
              "width": 0.5
             },
             "pattern": {
              "fillmode": "overlay",
              "size": 10,
              "solidity": 0.2
             }
            },
            "type": "barpolar"
           }
          ],
          "carpet": [
           {
            "aaxis": {
             "endlinecolor": "#2a3f5f",
             "gridcolor": "#C8D4E3",
             "linecolor": "#C8D4E3",
             "minorgridcolor": "#C8D4E3",
             "startlinecolor": "#2a3f5f"
            },
            "baxis": {
             "endlinecolor": "#2a3f5f",
             "gridcolor": "#C8D4E3",
             "linecolor": "#C8D4E3",
             "minorgridcolor": "#C8D4E3",
             "startlinecolor": "#2a3f5f"
            },
            "type": "carpet"
           }
          ],
          "choropleth": [
           {
            "colorbar": {
             "outlinewidth": 0,
             "ticks": ""
            },
            "type": "choropleth"
           }
          ],
          "contour": [
           {
            "colorbar": {
             "outlinewidth": 0,
             "ticks": ""
            },
            "colorscale": [
             [
              0,
              "#0d0887"
             ],
             [
              0.1111111111111111,
              "#46039f"
             ],
             [
              0.2222222222222222,
              "#7201a8"
             ],
             [
              0.3333333333333333,
              "#9c179e"
             ],
             [
              0.4444444444444444,
              "#bd3786"
             ],
             [
              0.5555555555555556,
              "#d8576b"
             ],
             [
              0.6666666666666666,
              "#ed7953"
             ],
             [
              0.7777777777777778,
              "#fb9f3a"
             ],
             [
              0.8888888888888888,
              "#fdca26"
             ],
             [
              1,
              "#f0f921"
             ]
            ],
            "type": "contour"
           }
          ],
          "contourcarpet": [
           {
            "colorbar": {
             "outlinewidth": 0,
             "ticks": ""
            },
            "type": "contourcarpet"
           }
          ],
          "heatmap": [
           {
            "colorbar": {
             "outlinewidth": 0,
             "ticks": ""
            },
            "colorscale": [
             [
              0,
              "#0d0887"
             ],
             [
              0.1111111111111111,
              "#46039f"
             ],
             [
              0.2222222222222222,
              "#7201a8"
             ],
             [
              0.3333333333333333,
              "#9c179e"
             ],
             [
              0.4444444444444444,
              "#bd3786"
             ],
             [
              0.5555555555555556,
              "#d8576b"
             ],
             [
              0.6666666666666666,
              "#ed7953"
             ],
             [
              0.7777777777777778,
              "#fb9f3a"
             ],
             [
              0.8888888888888888,
              "#fdca26"
             ],
             [
              1,
              "#f0f921"
             ]
            ],
            "type": "heatmap"
           }
          ],
          "histogram": [
           {
            "marker": {
             "pattern": {
              "fillmode": "overlay",
              "size": 10,
              "solidity": 0.2
             }
            },
            "type": "histogram"
           }
          ],
          "histogram2d": [
           {
            "colorbar": {
             "outlinewidth": 0,
             "ticks": ""
            },
            "colorscale": [
             [
              0,
              "#0d0887"
             ],
             [
              0.1111111111111111,
              "#46039f"
             ],
             [
              0.2222222222222222,
              "#7201a8"
             ],
             [
              0.3333333333333333,
              "#9c179e"
             ],
             [
              0.4444444444444444,
              "#bd3786"
             ],
             [
              0.5555555555555556,
              "#d8576b"
             ],
             [
              0.6666666666666666,
              "#ed7953"
             ],
             [
              0.7777777777777778,
              "#fb9f3a"
             ],
             [
              0.8888888888888888,
              "#fdca26"
             ],
             [
              1,
              "#f0f921"
             ]
            ],
            "type": "histogram2d"
           }
          ],
          "histogram2dcontour": [
           {
            "colorbar": {
             "outlinewidth": 0,
             "ticks": ""
            },
            "colorscale": [
             [
              0,
              "#0d0887"
             ],
             [
              0.1111111111111111,
              "#46039f"
             ],
             [
              0.2222222222222222,
              "#7201a8"
             ],
             [
              0.3333333333333333,
              "#9c179e"
             ],
             [
              0.4444444444444444,
              "#bd3786"
             ],
             [
              0.5555555555555556,
              "#d8576b"
             ],
             [
              0.6666666666666666,
              "#ed7953"
             ],
             [
              0.7777777777777778,
              "#fb9f3a"
             ],
             [
              0.8888888888888888,
              "#fdca26"
             ],
             [
              1,
              "#f0f921"
             ]
            ],
            "type": "histogram2dcontour"
           }
          ],
          "mesh3d": [
           {
            "colorbar": {
             "outlinewidth": 0,
             "ticks": ""
            },
            "type": "mesh3d"
           }
          ],
          "parcoords": [
           {
            "line": {
             "colorbar": {
              "outlinewidth": 0,
              "ticks": ""
             }
            },
            "type": "parcoords"
           }
          ],
          "pie": [
           {
            "automargin": true,
            "type": "pie"
           }
          ],
          "scatter": [
           {
            "fillpattern": {
             "fillmode": "overlay",
             "size": 10,
             "solidity": 0.2
            },
            "type": "scatter"
           }
          ],
          "scatter3d": [
           {
            "line": {
             "colorbar": {
              "outlinewidth": 0,
              "ticks": ""
             }
            },
            "marker": {
             "colorbar": {
              "outlinewidth": 0,
              "ticks": ""
             }
            },
            "type": "scatter3d"
           }
          ],
          "scattercarpet": [
           {
            "marker": {
             "colorbar": {
              "outlinewidth": 0,
              "ticks": ""
             }
            },
            "type": "scattercarpet"
           }
          ],
          "scattergeo": [
           {
            "marker": {
             "colorbar": {
              "outlinewidth": 0,
              "ticks": ""
             }
            },
            "type": "scattergeo"
           }
          ],
          "scattergl": [
           {
            "marker": {
             "colorbar": {
              "outlinewidth": 0,
              "ticks": ""
             }
            },
            "type": "scattergl"
           }
          ],
          "scattermap": [
           {
            "marker": {
             "colorbar": {
              "outlinewidth": 0,
              "ticks": ""
             }
            },
            "type": "scattermap"
           }
          ],
          "scattermapbox": [
           {
            "marker": {
             "colorbar": {
              "outlinewidth": 0,
              "ticks": ""
             }
            },
            "type": "scattermapbox"
           }
          ],
          "scatterpolar": [
           {
            "marker": {
             "colorbar": {
              "outlinewidth": 0,
              "ticks": ""
             }
            },
            "type": "scatterpolar"
           }
          ],
          "scatterpolargl": [
           {
            "marker": {
             "colorbar": {
              "outlinewidth": 0,
              "ticks": ""
             }
            },
            "type": "scatterpolargl"
           }
          ],
          "scatterternary": [
           {
            "marker": {
             "colorbar": {
              "outlinewidth": 0,
              "ticks": ""
             }
            },
            "type": "scatterternary"
           }
          ],
          "surface": [
           {
            "colorbar": {
             "outlinewidth": 0,
             "ticks": ""
            },
            "colorscale": [
             [
              0,
              "#0d0887"
             ],
             [
              0.1111111111111111,
              "#46039f"
             ],
             [
              0.2222222222222222,
              "#7201a8"
             ],
             [
              0.3333333333333333,
              "#9c179e"
             ],
             [
              0.4444444444444444,
              "#bd3786"
             ],
             [
              0.5555555555555556,
              "#d8576b"
             ],
             [
              0.6666666666666666,
              "#ed7953"
             ],
             [
              0.7777777777777778,
              "#fb9f3a"
             ],
             [
              0.8888888888888888,
              "#fdca26"
             ],
             [
              1,
              "#f0f921"
             ]
            ],
            "type": "surface"
           }
          ],
          "table": [
           {
            "cells": {
             "fill": {
              "color": "#EBF0F8"
             },
             "line": {
              "color": "white"
             }
            },
            "header": {
             "fill": {
              "color": "#C8D4E3"
             },
             "line": {
              "color": "white"
             }
            },
            "type": "table"
           }
          ]
         },
         "layout": {
          "annotationdefaults": {
           "arrowcolor": "#2a3f5f",
           "arrowhead": 0,
           "arrowwidth": 1
          },
          "autotypenumbers": "strict",
          "coloraxis": {
           "colorbar": {
            "outlinewidth": 0,
            "ticks": ""
           }
          },
          "colorscale": {
           "diverging": [
            [
             0,
             "#8e0152"
            ],
            [
             0.1,
             "#c51b7d"
            ],
            [
             0.2,
             "#de77ae"
            ],
            [
             0.3,
             "#f1b6da"
            ],
            [
             0.4,
             "#fde0ef"
            ],
            [
             0.5,
             "#f7f7f7"
            ],
            [
             0.6,
             "#e6f5d0"
            ],
            [
             0.7,
             "#b8e186"
            ],
            [
             0.8,
             "#7fbc41"
            ],
            [
             0.9,
             "#4d9221"
            ],
            [
             1,
             "#276419"
            ]
           ],
           "sequential": [
            [
             0,
             "#0d0887"
            ],
            [
             0.1111111111111111,
             "#46039f"
            ],
            [
             0.2222222222222222,
             "#7201a8"
            ],
            [
             0.3333333333333333,
             "#9c179e"
            ],
            [
             0.4444444444444444,
             "#bd3786"
            ],
            [
             0.5555555555555556,
             "#d8576b"
            ],
            [
             0.6666666666666666,
             "#ed7953"
            ],
            [
             0.7777777777777778,
             "#fb9f3a"
            ],
            [
             0.8888888888888888,
             "#fdca26"
            ],
            [
             1,
             "#f0f921"
            ]
           ],
           "sequentialminus": [
            [
             0,
             "#0d0887"
            ],
            [
             0.1111111111111111,
             "#46039f"
            ],
            [
             0.2222222222222222,
             "#7201a8"
            ],
            [
             0.3333333333333333,
             "#9c179e"
            ],
            [
             0.4444444444444444,
             "#bd3786"
            ],
            [
             0.5555555555555556,
             "#d8576b"
            ],
            [
             0.6666666666666666,
             "#ed7953"
            ],
            [
             0.7777777777777778,
             "#fb9f3a"
            ],
            [
             0.8888888888888888,
             "#fdca26"
            ],
            [
             1,
             "#f0f921"
            ]
           ]
          },
          "colorway": [
           "#636efa",
           "#EF553B",
           "#00cc96",
           "#ab63fa",
           "#FFA15A",
           "#19d3f3",
           "#FF6692",
           "#B6E880",
           "#FF97FF",
           "#FECB52"
          ],
          "font": {
           "color": "#2a3f5f"
          },
          "geo": {
           "bgcolor": "white",
           "lakecolor": "white",
           "landcolor": "white",
           "showlakes": true,
           "showland": true,
           "subunitcolor": "#C8D4E3"
          },
          "hoverlabel": {
           "align": "left"
          },
          "hovermode": "closest",
          "mapbox": {
           "style": "light"
          },
          "paper_bgcolor": "white",
          "plot_bgcolor": "white",
          "polar": {
           "angularaxis": {
            "gridcolor": "#EBF0F8",
            "linecolor": "#EBF0F8",
            "ticks": ""
           },
           "bgcolor": "white",
           "radialaxis": {
            "gridcolor": "#EBF0F8",
            "linecolor": "#EBF0F8",
            "ticks": ""
           }
          },
          "scene": {
           "xaxis": {
            "backgroundcolor": "white",
            "gridcolor": "#DFE8F3",
            "gridwidth": 2,
            "linecolor": "#EBF0F8",
            "showbackground": true,
            "ticks": "",
            "zerolinecolor": "#EBF0F8"
           },
           "yaxis": {
            "backgroundcolor": "white",
            "gridcolor": "#DFE8F3",
            "gridwidth": 2,
            "linecolor": "#EBF0F8",
            "showbackground": true,
            "ticks": "",
            "zerolinecolor": "#EBF0F8"
           },
           "zaxis": {
            "backgroundcolor": "white",
            "gridcolor": "#DFE8F3",
            "gridwidth": 2,
            "linecolor": "#EBF0F8",
            "showbackground": true,
            "ticks": "",
            "zerolinecolor": "#EBF0F8"
           }
          },
          "shapedefaults": {
           "line": {
            "color": "#2a3f5f"
           }
          },
          "ternary": {
           "aaxis": {
            "gridcolor": "#DFE8F3",
            "linecolor": "#A2B1C6",
            "ticks": ""
           },
           "baxis": {
            "gridcolor": "#DFE8F3",
            "linecolor": "#A2B1C6",
            "ticks": ""
           },
           "bgcolor": "white",
           "caxis": {
            "gridcolor": "#DFE8F3",
            "linecolor": "#A2B1C6",
            "ticks": ""
           }
          },
          "title": {
           "x": 0.05
          },
          "xaxis": {
           "automargin": true,
           "gridcolor": "#EBF0F8",
           "linecolor": "#EBF0F8",
           "ticks": "",
           "title": {
            "standoff": 15
           },
           "zerolinecolor": "#EBF0F8",
           "zerolinewidth": 2
          },
          "yaxis": {
           "automargin": true,
           "gridcolor": "#EBF0F8",
           "linecolor": "#EBF0F8",
           "ticks": "",
           "title": {
            "standoff": 15
           },
           "zerolinecolor": "#EBF0F8",
           "zerolinewidth": 2
          }
         }
        },
        "title": {
         "text": "Performance Heatmap: Models vs Datasets",
         "x": 0.5
        },
        "xaxis": {
         "anchor": "y",
         "domain": [
          0,
          0.45
         ]
        },
        "xaxis2": {
         "anchor": "y2",
         "domain": [
          0.55,
          1
         ]
        },
        "xaxis3": {
         "anchor": "y3",
         "domain": [
          0,
          0.45
         ]
        },
        "xaxis4": {
         "anchor": "y4",
         "domain": [
          0.55,
          1
         ]
        },
        "yaxis": {
         "anchor": "x",
         "domain": [
          0.625,
          1
         ]
        },
        "yaxis2": {
         "anchor": "x2",
         "domain": [
          0.625,
          1
         ]
        },
        "yaxis3": {
         "anchor": "x3",
         "domain": [
          0,
          0.375
         ]
        },
        "yaxis4": {
         "anchor": "x4",
         "domain": [
          0,
          0.375
         ]
        }
       }
      }
     },
     "metadata": {},
     "output_type": "display_data"
    },
    {
     "name": "stdout",
     "output_type": "stream",
     "text": [
      "✅ Performance heatmap saved!\n"
     ]
    }
   ],
   "source": [
    "# 6. Dataset-specific Performance Heatmap\n",
    "def create_performance_heatmap():\n",
    "    \"\"\"Create a heatmap showing performance across datasets and models.\"\"\"\n",
    "    \n",
    "    # Pivot the data for heatmap\n",
    "    metrics = ['person_f1', 'person_precision', 'person_recall', 'token_accuracy']\n",
    "    \n",
    "    fig = make_subplots(\n",
    "        rows=2, cols=2,\n",
    "        subplot_titles=('F1 Score', 'Precision', 'Recall', 'Token Accuracy'),\n",
    "        specs=[[{\"type\": \"heatmap\"}, {\"type\": \"heatmap\"}],\n",
    "               [{\"type\": \"heatmap\"}, {\"type\": \"heatmap\"}]]\n",
    "    )\n",
    "    \n",
    "    positions = [(1, 1), (1, 2), (2, 1), (2, 2)]\n",
    "    \n",
    "    for metric, (row, col) in zip(metrics, positions):\n",
    "        # Create pivot table\n",
    "        pivot_data = df_results.pivot(index='dataset', columns='model_type', values=metric)\n",
    "        \n",
    "        fig.add_trace(\n",
    "            go.Heatmap(\n",
    "                z=pivot_data.values,\n",
    "                x=pivot_data.columns,\n",
    "                y=pivot_data.index,\n",
    "                colorscale='RdYlBu_r',\n",
    "                showscale=(row == 1 and col == 2),\n",
    "                text=np.round(pivot_data.values, 3),\n",
    "                texttemplate=\"%{text}\",\n",
    "                textfont={\"size\": 10}\n",
    "            ),\n",
    "            row=row, col=col\n",
    "        )\n",
    "    \n",
    "    fig.update_layout(\n",
    "        height=800,\n",
    "        title_text=\"Performance Heatmap: Models vs Datasets\",\n",
    "        title_x=0.5,\n",
    "        template=\"plotly_white\"\n",
    "    )\n",
    "    \n",
    "    return fig\n",
    "\n",
    "heatmap_fig = create_performance_heatmap()\n",
    "heatmap_fig.show()\n",
    "\n",
    "# Save the chart\n",
    "heatmap_fig.write_html(CHARTS_PATH / f\"performance_heatmap_{results_timestamp}.html\")\n",
    "heatmap_fig.write_image(CHARTS_PATH / f\"performance_heatmap_{results_timestamp}.png\", width=1200, height=800)\n",
    "print(\"✅ Performance heatmap saved!\")"
   ]
  },
  {
   "cell_type": "code",
   "execution_count": null,
   "id": "9220fddd",
   "metadata": {},
   "outputs": [
    {
     "data": {
      "application/vnd.plotly.v1+json": {
       "config": {
        "plotlyServerURL": "https://plot.ly"
       },
       "data": [
        {
         "error_y": {
          "array": [
           0.8640012215748263
          ],
          "arrayminus": [
           0.8640012215748264
          ],
          "symmetric": false,
          "type": "data"
         },
         "hovertemplate": "%{text}<extra></extra>",
         "marker": {
          "color": "#1f77b4",
          "size": 15
         },
         "mode": "markers",
         "name": "TITLE",
         "showlegend": true,
         "text": "0.556 [-0.308, 1.420]",
         "type": "scatter",
         "x": [
          "TITLE"
         ],
         "xaxis": "x",
         "y": [
          0.5563364067509375
         ],
         "yaxis": "y"
        },
        {
         "error_y": {
          "array": [
           0.8300485955631766
          ],
          "arrayminus": [
           0.8300485955631765
          ],
          "symmetric": false,
          "type": "data"
         },
         "hovertemplate": "%{text}<extra></extra>",
         "marker": {
          "color": "#ff7f0e",
          "size": 15
         },
         "mode": "markers",
         "name": "NO-TITLE",
         "showlegend": true,
         "text": "0.584 [-0.246, 1.414]",
         "type": "scatter",
         "x": [
          "NO-TITLE"
         ],
         "xaxis": "x",
         "y": [
          0.5843202226271608
         ],
         "yaxis": "y"
        },
        {
         "error_y": {
          "array": [
           0.9454202163031358
          ],
          "arrayminus": [
           0.9454202163031357
          ],
          "symmetric": false,
          "type": "data"
         },
         "hovertemplate": "%{text}<extra></extra>",
         "marker": {
          "color": "#1f77b4",
          "size": 15
         },
         "mode": "markers",
         "name": "TITLE",
         "showlegend": false,
         "text": "0.474 [-0.471, 1.420]",
         "type": "scatter",
         "x": [
          "TITLE"
         ],
         "xaxis": "x2",
         "y": [
          0.47430448978104717
         ],
         "yaxis": "y2"
        },
        {
         "error_y": {
          "array": [
           0.9503935374328647
          ],
          "arrayminus": [
           0.9503935374328646
          ],
          "symmetric": false,
          "type": "data"
         },
         "hovertemplate": "%{text}<extra></extra>",
         "marker": {
          "color": "#ff7f0e",
          "size": 15
         },
         "mode": "markers",
         "name": "NO-TITLE",
         "showlegend": false,
         "text": "0.512 [-0.438, 1.463]",
         "type": "scatter",
         "x": [
          "NO-TITLE"
         ],
         "xaxis": "x2",
         "y": [
          0.5124450463645556
         ],
         "yaxis": "y2"
        },
        {
         "error_y": {
          "array": [
           0.3475993834331047
          ],
          "arrayminus": [
           0.34759938343310476
          ],
          "symmetric": false,
          "type": "data"
         },
         "hovertemplate": "%{text}<extra></extra>",
         "marker": {
          "color": "#1f77b4",
          "size": 15
         },
         "mode": "markers",
         "name": "TITLE",
         "showlegend": false,
         "text": "0.799 [0.451, 1.146]",
         "type": "scatter",
         "x": [
          "TITLE"
         ],
         "xaxis": "x3",
         "y": [
          0.7987825397912373
         ],
         "yaxis": "y3"
        },
        {
         "error_y": {
          "array": [
           0.3803726989434124
          ],
          "arrayminus": [
           0.38037269894341236
          ],
          "symmetric": false,
          "type": "data"
         },
         "hovertemplate": "%{text}<extra></extra>",
         "marker": {
          "color": "#ff7f0e",
          "size": 15
         },
         "mode": "markers",
         "name": "NO-TITLE",
         "showlegend": false,
         "text": "0.782 [0.402, 1.162]",
         "type": "scatter",
         "x": [
          "NO-TITLE"
         ],
         "xaxis": "x3",
         "y": [
          0.7819034850058955
         ],
         "yaxis": "y3"
        },
        {
         "error_y": {
          "array": [
           0.07211689667803278
          ],
          "arrayminus": [
           0.07211689667803267
          ],
          "symmetric": false,
          "type": "data"
         },
         "hovertemplate": "%{text}<extra></extra>",
         "marker": {
          "color": "#1f77b4",
          "size": 15
         },
         "mode": "markers",
         "name": "TITLE",
         "showlegend": false,
         "text": "0.958 [0.886, 1.030]",
         "type": "scatter",
         "x": [
          "TITLE"
         ],
         "xaxis": "x4",
         "y": [
          0.957687464223993
         ],
         "yaxis": "y4"
        },
        {
         "error_y": {
          "array": [
           0.0628402255450955
          ],
          "arrayminus": [
           0.06284022554509539
          ],
          "symmetric": false,
          "type": "data"
         },
         "hovertemplate": "%{text}<extra></extra>",
         "marker": {
          "color": "#ff7f0e",
          "size": 15
         },
         "mode": "markers",
         "name": "NO-TITLE",
         "showlegend": false,
         "text": "0.969 [0.906, 1.032]",
         "type": "scatter",
         "x": [
          "NO-TITLE"
         ],
         "xaxis": "x4",
         "y": [
          0.9687487416623652
         ],
         "yaxis": "y4"
        }
       ],
       "layout": {
        "annotations": [
         {
          "font": {
           "size": 16
          },
          "showarrow": false,
          "text": "F1 Score (99% CI)",
          "x": 0.225,
          "xanchor": "center",
          "xref": "paper",
          "y": 1,
          "yanchor": "bottom",
          "yref": "paper"
         },
         {
          "font": {
           "size": 16
          },
          "showarrow": false,
          "text": "Precision (99% CI)",
          "x": 0.775,
          "xanchor": "center",
          "xref": "paper",
          "y": 1,
          "yanchor": "bottom",
          "yref": "paper"
         },
         {
          "font": {
           "size": 16
          },
          "showarrow": false,
          "text": "Recall (99% CI)",
          "x": 0.225,
          "xanchor": "center",
          "xref": "paper",
          "y": 0.375,
          "yanchor": "bottom",
          "yref": "paper"
         },
         {
          "font": {
           "size": 16
          },
          "showarrow": false,
          "text": "Token Accuracy (99% CI)",
          "x": 0.775,
          "xanchor": "center",
          "xref": "paper",
          "y": 0.375,
          "yanchor": "bottom",
          "yref": "paper"
         }
        ],
        "height": 800,
        "template": {
         "data": {
          "bar": [
           {
            "error_x": {
             "color": "#2a3f5f"
            },
            "error_y": {
             "color": "#2a3f5f"
            },
            "marker": {
             "line": {
              "color": "white",
              "width": 0.5
             },
             "pattern": {
              "fillmode": "overlay",
              "size": 10,
              "solidity": 0.2
             }
            },
            "type": "bar"
           }
          ],
          "barpolar": [
           {
            "marker": {
             "line": {
              "color": "white",
              "width": 0.5
             },
             "pattern": {
              "fillmode": "overlay",
              "size": 10,
              "solidity": 0.2
             }
            },
            "type": "barpolar"
           }
          ],
          "carpet": [
           {
            "aaxis": {
             "endlinecolor": "#2a3f5f",
             "gridcolor": "#C8D4E3",
             "linecolor": "#C8D4E3",
             "minorgridcolor": "#C8D4E3",
             "startlinecolor": "#2a3f5f"
            },
            "baxis": {
             "endlinecolor": "#2a3f5f",
             "gridcolor": "#C8D4E3",
             "linecolor": "#C8D4E3",
             "minorgridcolor": "#C8D4E3",
             "startlinecolor": "#2a3f5f"
            },
            "type": "carpet"
           }
          ],
          "choropleth": [
           {
            "colorbar": {
             "outlinewidth": 0,
             "ticks": ""
            },
            "type": "choropleth"
           }
          ],
          "contour": [
           {
            "colorbar": {
             "outlinewidth": 0,
             "ticks": ""
            },
            "colorscale": [
             [
              0,
              "#0d0887"
             ],
             [
              0.1111111111111111,
              "#46039f"
             ],
             [
              0.2222222222222222,
              "#7201a8"
             ],
             [
              0.3333333333333333,
              "#9c179e"
             ],
             [
              0.4444444444444444,
              "#bd3786"
             ],
             [
              0.5555555555555556,
              "#d8576b"
             ],
             [
              0.6666666666666666,
              "#ed7953"
             ],
             [
              0.7777777777777778,
              "#fb9f3a"
             ],
             [
              0.8888888888888888,
              "#fdca26"
             ],
             [
              1,
              "#f0f921"
             ]
            ],
            "type": "contour"
           }
          ],
          "contourcarpet": [
           {
            "colorbar": {
             "outlinewidth": 0,
             "ticks": ""
            },
            "type": "contourcarpet"
           }
          ],
          "heatmap": [
           {
            "colorbar": {
             "outlinewidth": 0,
             "ticks": ""
            },
            "colorscale": [
             [
              0,
              "#0d0887"
             ],
             [
              0.1111111111111111,
              "#46039f"
             ],
             [
              0.2222222222222222,
              "#7201a8"
             ],
             [
              0.3333333333333333,
              "#9c179e"
             ],
             [
              0.4444444444444444,
              "#bd3786"
             ],
             [
              0.5555555555555556,
              "#d8576b"
             ],
             [
              0.6666666666666666,
              "#ed7953"
             ],
             [
              0.7777777777777778,
              "#fb9f3a"
             ],
             [
              0.8888888888888888,
              "#fdca26"
             ],
             [
              1,
              "#f0f921"
             ]
            ],
            "type": "heatmap"
           }
          ],
          "histogram": [
           {
            "marker": {
             "pattern": {
              "fillmode": "overlay",
              "size": 10,
              "solidity": 0.2
             }
            },
            "type": "histogram"
           }
          ],
          "histogram2d": [
           {
            "colorbar": {
             "outlinewidth": 0,
             "ticks": ""
            },
            "colorscale": [
             [
              0,
              "#0d0887"
             ],
             [
              0.1111111111111111,
              "#46039f"
             ],
             [
              0.2222222222222222,
              "#7201a8"
             ],
             [
              0.3333333333333333,
              "#9c179e"
             ],
             [
              0.4444444444444444,
              "#bd3786"
             ],
             [
              0.5555555555555556,
              "#d8576b"
             ],
             [
              0.6666666666666666,
              "#ed7953"
             ],
             [
              0.7777777777777778,
              "#fb9f3a"
             ],
             [
              0.8888888888888888,
              "#fdca26"
             ],
             [
              1,
              "#f0f921"
             ]
            ],
            "type": "histogram2d"
           }
          ],
          "histogram2dcontour": [
           {
            "colorbar": {
             "outlinewidth": 0,
             "ticks": ""
            },
            "colorscale": [
             [
              0,
              "#0d0887"
             ],
             [
              0.1111111111111111,
              "#46039f"
             ],
             [
              0.2222222222222222,
              "#7201a8"
             ],
             [
              0.3333333333333333,
              "#9c179e"
             ],
             [
              0.4444444444444444,
              "#bd3786"
             ],
             [
              0.5555555555555556,
              "#d8576b"
             ],
             [
              0.6666666666666666,
              "#ed7953"
             ],
             [
              0.7777777777777778,
              "#fb9f3a"
             ],
             [
              0.8888888888888888,
              "#fdca26"
             ],
             [
              1,
              "#f0f921"
             ]
            ],
            "type": "histogram2dcontour"
           }
          ],
          "mesh3d": [
           {
            "colorbar": {
             "outlinewidth": 0,
             "ticks": ""
            },
            "type": "mesh3d"
           }
          ],
          "parcoords": [
           {
            "line": {
             "colorbar": {
              "outlinewidth": 0,
              "ticks": ""
             }
            },
            "type": "parcoords"
           }
          ],
          "pie": [
           {
            "automargin": true,
            "type": "pie"
           }
          ],
          "scatter": [
           {
            "fillpattern": {
             "fillmode": "overlay",
             "size": 10,
             "solidity": 0.2
            },
            "type": "scatter"
           }
          ],
          "scatter3d": [
           {
            "line": {
             "colorbar": {
              "outlinewidth": 0,
              "ticks": ""
             }
            },
            "marker": {
             "colorbar": {
              "outlinewidth": 0,
              "ticks": ""
             }
            },
            "type": "scatter3d"
           }
          ],
          "scattercarpet": [
           {
            "marker": {
             "colorbar": {
              "outlinewidth": 0,
              "ticks": ""
             }
            },
            "type": "scattercarpet"
           }
          ],
          "scattergeo": [
           {
            "marker": {
             "colorbar": {
              "outlinewidth": 0,
              "ticks": ""
             }
            },
            "type": "scattergeo"
           }
          ],
          "scattergl": [
           {
            "marker": {
             "colorbar": {
              "outlinewidth": 0,
              "ticks": ""
             }
            },
            "type": "scattergl"
           }
          ],
          "scattermap": [
           {
            "marker": {
             "colorbar": {
              "outlinewidth": 0,
              "ticks": ""
             }
            },
            "type": "scattermap"
           }
          ],
          "scattermapbox": [
           {
            "marker": {
             "colorbar": {
              "outlinewidth": 0,
              "ticks": ""
             }
            },
            "type": "scattermapbox"
           }
          ],
          "scatterpolar": [
           {
            "marker": {
             "colorbar": {
              "outlinewidth": 0,
              "ticks": ""
             }
            },
            "type": "scatterpolar"
           }
          ],
          "scatterpolargl": [
           {
            "marker": {
             "colorbar": {
              "outlinewidth": 0,
              "ticks": ""
             }
            },
            "type": "scatterpolargl"
           }
          ],
          "scatterternary": [
           {
            "marker": {
             "colorbar": {
              "outlinewidth": 0,
              "ticks": ""
             }
            },
            "type": "scatterternary"
           }
          ],
          "surface": [
           {
            "colorbar": {
             "outlinewidth": 0,
             "ticks": ""
            },
            "colorscale": [
             [
              0,
              "#0d0887"
             ],
             [
              0.1111111111111111,
              "#46039f"
             ],
             [
              0.2222222222222222,
              "#7201a8"
             ],
             [
              0.3333333333333333,
              "#9c179e"
             ],
             [
              0.4444444444444444,
              "#bd3786"
             ],
             [
              0.5555555555555556,
              "#d8576b"
             ],
             [
              0.6666666666666666,
              "#ed7953"
             ],
             [
              0.7777777777777778,
              "#fb9f3a"
             ],
             [
              0.8888888888888888,
              "#fdca26"
             ],
             [
              1,
              "#f0f921"
             ]
            ],
            "type": "surface"
           }
          ],
          "table": [
           {
            "cells": {
             "fill": {
              "color": "#EBF0F8"
             },
             "line": {
              "color": "white"
             }
            },
            "header": {
             "fill": {
              "color": "#C8D4E3"
             },
             "line": {
              "color": "white"
             }
            },
            "type": "table"
           }
          ]
         },
         "layout": {
          "annotationdefaults": {
           "arrowcolor": "#2a3f5f",
           "arrowhead": 0,
           "arrowwidth": 1
          },
          "autotypenumbers": "strict",
          "coloraxis": {
           "colorbar": {
            "outlinewidth": 0,
            "ticks": ""
           }
          },
          "colorscale": {
           "diverging": [
            [
             0,
             "#8e0152"
            ],
            [
             0.1,
             "#c51b7d"
            ],
            [
             0.2,
             "#de77ae"
            ],
            [
             0.3,
             "#f1b6da"
            ],
            [
             0.4,
             "#fde0ef"
            ],
            [
             0.5,
             "#f7f7f7"
            ],
            [
             0.6,
             "#e6f5d0"
            ],
            [
             0.7,
             "#b8e186"
            ],
            [
             0.8,
             "#7fbc41"
            ],
            [
             0.9,
             "#4d9221"
            ],
            [
             1,
             "#276419"
            ]
           ],
           "sequential": [
            [
             0,
             "#0d0887"
            ],
            [
             0.1111111111111111,
             "#46039f"
            ],
            [
             0.2222222222222222,
             "#7201a8"
            ],
            [
             0.3333333333333333,
             "#9c179e"
            ],
            [
             0.4444444444444444,
             "#bd3786"
            ],
            [
             0.5555555555555556,
             "#d8576b"
            ],
            [
             0.6666666666666666,
             "#ed7953"
            ],
            [
             0.7777777777777778,
             "#fb9f3a"
            ],
            [
             0.8888888888888888,
             "#fdca26"
            ],
            [
             1,
             "#f0f921"
            ]
           ],
           "sequentialminus": [
            [
             0,
             "#0d0887"
            ],
            [
             0.1111111111111111,
             "#46039f"
            ],
            [
             0.2222222222222222,
             "#7201a8"
            ],
            [
             0.3333333333333333,
             "#9c179e"
            ],
            [
             0.4444444444444444,
             "#bd3786"
            ],
            [
             0.5555555555555556,
             "#d8576b"
            ],
            [
             0.6666666666666666,
             "#ed7953"
            ],
            [
             0.7777777777777778,
             "#fb9f3a"
            ],
            [
             0.8888888888888888,
             "#fdca26"
            ],
            [
             1,
             "#f0f921"
            ]
           ]
          },
          "colorway": [
           "#636efa",
           "#EF553B",
           "#00cc96",
           "#ab63fa",
           "#FFA15A",
           "#19d3f3",
           "#FF6692",
           "#B6E880",
           "#FF97FF",
           "#FECB52"
          ],
          "font": {
           "color": "#2a3f5f"
          },
          "geo": {
           "bgcolor": "white",
           "lakecolor": "white",
           "landcolor": "white",
           "showlakes": true,
           "showland": true,
           "subunitcolor": "#C8D4E3"
          },
          "hoverlabel": {
           "align": "left"
          },
          "hovermode": "closest",
          "mapbox": {
           "style": "light"
          },
          "paper_bgcolor": "white",
          "plot_bgcolor": "white",
          "polar": {
           "angularaxis": {
            "gridcolor": "#EBF0F8",
            "linecolor": "#EBF0F8",
            "ticks": ""
           },
           "bgcolor": "white",
           "radialaxis": {
            "gridcolor": "#EBF0F8",
            "linecolor": "#EBF0F8",
            "ticks": ""
           }
          },
          "scene": {
           "xaxis": {
            "backgroundcolor": "white",
            "gridcolor": "#DFE8F3",
            "gridwidth": 2,
            "linecolor": "#EBF0F8",
            "showbackground": true,
            "ticks": "",
            "zerolinecolor": "#EBF0F8"
           },
           "yaxis": {
            "backgroundcolor": "white",
            "gridcolor": "#DFE8F3",
            "gridwidth": 2,
            "linecolor": "#EBF0F8",
            "showbackground": true,
            "ticks": "",
            "zerolinecolor": "#EBF0F8"
           },
           "zaxis": {
            "backgroundcolor": "white",
            "gridcolor": "#DFE8F3",
            "gridwidth": 2,
            "linecolor": "#EBF0F8",
            "showbackground": true,
            "ticks": "",
            "zerolinecolor": "#EBF0F8"
           }
          },
          "shapedefaults": {
           "line": {
            "color": "#2a3f5f"
           }
          },
          "ternary": {
           "aaxis": {
            "gridcolor": "#DFE8F3",
            "linecolor": "#A2B1C6",
            "ticks": ""
           },
           "baxis": {
            "gridcolor": "#DFE8F3",
            "linecolor": "#A2B1C6",
            "ticks": ""
           },
           "bgcolor": "white",
           "caxis": {
            "gridcolor": "#DFE8F3",
            "linecolor": "#A2B1C6",
            "ticks": ""
           }
          },
          "title": {
           "x": 0.05
          },
          "xaxis": {
           "automargin": true,
           "gridcolor": "#EBF0F8",
           "linecolor": "#EBF0F8",
           "ticks": "",
           "title": {
            "standoff": 15
           },
           "zerolinecolor": "#EBF0F8",
           "zerolinewidth": 2
          },
          "yaxis": {
           "automargin": true,
           "gridcolor": "#EBF0F8",
           "linecolor": "#EBF0F8",
           "ticks": "",
           "title": {
            "standoff": 15
           },
           "zerolinecolor": "#EBF0F8",
           "zerolinewidth": 2
          }
         }
        },
        "title": {
         "text": "Statistical Analysis with 95% Confidence Intervals",
         "x": 0.5
        },
        "xaxis": {
         "anchor": "y",
         "domain": [
          0,
          0.45
         ]
        },
        "xaxis2": {
         "anchor": "y2",
         "domain": [
          0.55,
          1
         ]
        },
        "xaxis3": {
         "anchor": "y3",
         "domain": [
          0,
          0.45
         ]
        },
        "xaxis4": {
         "anchor": "y4",
         "domain": [
          0.55,
          1
         ]
        },
        "yaxis": {
         "anchor": "x",
         "domain": [
          0.625,
          1
         ]
        },
        "yaxis2": {
         "anchor": "x2",
         "domain": [
          0.625,
          1
         ]
        },
        "yaxis3": {
         "anchor": "x3",
         "domain": [
          0,
          0.375
         ]
        },
        "yaxis4": {
         "anchor": "x4",
         "domain": [
          0,
          0.375
         ]
        }
       }
      }
     },
     "metadata": {},
     "output_type": "display_data"
    },
    {
     "name": "stdout",
     "output_type": "stream",
     "text": [
      "✅ Statistical analysis chart saved!\n"
     ]
    }
   ],
   "source": [
    "# 7. Statistical Analysis and Confidence Intervals\n",
    "def create_statistical_analysis():\n",
    "    \"\"\"Create statistical analysis with confidence intervals.\"\"\"\n",
    "    \n",
    "    from scipy import stats\n",
    "    \n",
    "    # Calculate confidence intervals\n",
    "    def calculate_ci(data, confidence=0.90):\n",
    "        n = len(data)\n",
    "        mean = np.mean(data)\n",
    "        se = stats.sem(data)\n",
    "        h = se * stats.t.ppf((1 + confidence) / 2., n-1)\n",
    "        return mean - h, mean + h\n",
    "    \n",
    "    metrics = ['person_f1', 'person_precision', 'person_recall', 'token_accuracy']\n",
    "    metric_names = ['F1 Score', 'Precision', 'Recall', 'Token Accuracy']\n",
    "    \n",
    "    fig = make_subplots(\n",
    "        rows=2, cols=2,\n",
    "        subplot_titles=[f'{name} (90% CI)' for name in metric_names]\n",
    "    )\n",
    "    \n",
    "    positions = [(1, 1), (1, 2), (2, 1), (2, 2)]\n",
    "    colors = {'TITLE': '#1f77b4', 'NO-TITLE': '#ff7f0e'}\n",
    "    \n",
    "    for metric, metric_name, (row, col) in zip(metrics, metric_names, positions):\n",
    "        for model_type in df_results['model_type'].unique():\n",
    "            model_data = df_results[df_results['model_type'] == model_type]\n",
    "            data = model_data[metric]\n",
    "            \n",
    "            mean_val = np.mean(data)\n",
    "            ci_lower, ci_upper = calculate_ci(data)\n",
    "            \n",
    "            fig.add_trace(\n",
    "                go.Scatter(\n",
    "                    x=[model_type],\n",
    "                    y=[mean_val],\n",
    "                    error_y=dict(\n",
    "                        type='data',\n",
    "                        symmetric=False,\n",
    "                        array=[ci_upper - mean_val],\n",
    "                        arrayminus=[mean_val - ci_lower]\n",
    "                    ),\n",
    "                    mode='markers',\n",
    "                    marker=dict(size=15, color=colors[model_type]),\n",
    "                    name=model_type,\n",
    "                    showlegend=(row == 1 and col == 1),\n",
    "                    text=f'{mean_val:.3f} [{ci_lower:.3f}, {ci_upper:.3f}]',\n",
    "                    hovertemplate='%{text}<extra></extra>'\n",
    "                ),\n",
    "                row=row, col=col\n",
    "            )\n",
    "    \n",
    "    fig.update_layout(\n",
    "        height=800,\n",
    "        title_text=\"Statistical Analysis with 95% Confidence Intervals\",\n",
    "        title_x=0.5,\n",
    "        template=\"plotly_white\"\n",
    "    )\n",
    "    \n",
    "    return fig\n",
    "\n",
    "# Install scipy if needed\n",
    "try:\n",
    "    statistical_fig = create_statistical_analysis()\n",
    "    statistical_fig.show()\n",
    "    \n",
    "    # Save the chart\n",
    "    statistical_fig.write_html(CHARTS_PATH / f\"statistical_analysis_{results_timestamp}.html\")\n",
    "    statistical_fig.write_image(CHARTS_PATH / f\"statistical_analysis_{results_timestamp}.png\", width=1200, height=800)\n",
    "    print(\"✅ Statistical analysis chart saved!\")\n",
    "except ImportError:\n",
    "    print(\"⚠️ Scipy not available. Skipping statistical analysis.\")"
   ]
  },
  {
   "cell_type": "code",
   "execution_count": 25,
   "id": "558b5c3e",
   "metadata": {},
   "outputs": [
    {
     "data": {
      "application/vnd.plotly.v1+json": {
       "config": {
        "plotlyServerURL": "https://plot.ly"
       },
       "data": [
        {
         "marker": {
          "color": "#1f77b4"
         },
         "name": "TITLE F1",
         "showlegend": false,
         "text": "0.556",
         "textposition": "outside",
         "type": "bar",
         "x": [
          "TITLE"
         ],
         "xaxis": "x",
         "y": [
          0.5563364067509375
         ],
         "yaxis": "y"
        },
        {
         "marker": {
          "color": "#ff7f0e"
         },
         "name": "NO-TITLE F1",
         "showlegend": false,
         "text": "0.584",
         "textposition": "outside",
         "type": "bar",
         "x": [
          "NO-TITLE"
         ],
         "xaxis": "x",
         "y": [
          0.5843202226271608
         ],
         "yaxis": "y"
        },
        {
         "marker": {
          "color": "#1f77b4"
         },
         "name": "TITLE Speed",
         "showlegend": false,
         "text": "44.5ms",
         "textposition": "outside",
         "type": "bar",
         "x": [
          "TITLE"
         ],
         "xaxis": "x2",
         "y": [
          44.53032574191119
         ],
         "yaxis": "y2"
        },
        {
         "marker": {
          "color": "#ff7f0e"
         },
         "name": "NO-TITLE Speed",
         "showlegend": false,
         "text": "46.5ms",
         "textposition": "outside",
         "type": "bar",
         "x": [
          "NO-TITLE"
         ],
         "xaxis": "x2",
         "y": [
          46.47068694965248
         ],
         "yaxis": "y2"
        },
        {
         "marker": {
          "color": "#1f77b4"
         },
         "name": "TITLE",
         "showlegend": false,
         "type": "box",
         "xaxis": "x3",
         "y": {
          "bdata": "hhUMMeVH7D8ilVhbKgPnP2v2USa4Zs8/rHWf5JQi2D8=",
          "dtype": "f8"
         },
         "yaxis": "y3"
        },
        {
         "marker": {
          "color": "#ff7f0e"
         },
         "name": "NO-TITLE",
         "showlegend": false,
         "type": "box",
         "xaxis": "x3",
         "y": {
          "bdata": "CDwX4WGf7D8MP63BG+PnP+MLdY3OJtI/XDeVwzhq2j8=",
          "dtype": "f8"
         },
         "yaxis": "y3"
        },
        {
         "marker": {
          "color": "#1f77b4"
         },
         "name": "TITLE Size",
         "showlegend": false,
         "text": "484.5MB",
         "textposition": "outside",
         "type": "bar",
         "x": [
          "TITLE"
         ],
         "xaxis": "x4",
         "y": [
          484.5404739379883
         ],
         "yaxis": "y4"
        },
        {
         "marker": {
          "color": "#ff7f0e"
         },
         "name": "NO-TITLE Size",
         "showlegend": false,
         "text": "484.5MB",
         "textposition": "outside",
         "type": "bar",
         "x": [
          "NO-TITLE"
         ],
         "xaxis": "x4",
         "y": [
          484.5286560058594
         ],
         "yaxis": "y4"
        },
        {
         "hovertemplate": "%{text}<br>Precision: %{x:.3f}<br>Recall: %{y:.3f}<extra></extra>",
         "marker": {
          "color": "#1f77b4",
          "size": 10
         },
         "mode": "markers",
         "name": "TITLE",
         "showlegend": false,
         "text": [
          "conllpp_train",
          "KAGGLE",
          "ritter",
          "WNUT"
         ],
         "type": "scatter",
         "x": {
          "bdata": "lF4lnrvS6j/ZDl0V17rkP4KCgoKCgsI/vIOuN54P0T8=",
          "dtype": "f8"
         },
         "xaxis": "x5",
         "y": {
          "bdata": "E+FJQfLn7T/Ya18JF9zpP8+dO3fu3Ok/2Ymd2Imd5D8=",
          "dtype": "f8"
         },
         "yaxis": "y5"
        },
        {
         "hovertemplate": "%{text}<br>Precision: %{x:.3f}<br>Recall: %{y:.3f}<extra></extra>",
         "marker": {
          "color": "#ff7f0e",
          "size": 10
         },
         "mode": "markers",
         "name": "NO-TITLE",
         "showlegend": false,
         "text": [
          "conllpp_train",
          "KAGGLE",
          "ritter",
          "WNUT"
         ],
         "type": "scatter",
         "x": {
          "bdata": "/pDA2w8J7D/P7uK9h/3lP4VhGIZhGMY/9tnORDkW1D8=",
          "dtype": "f8"
         },
         "xaxis": "x5",
         "y": {
          "bdata": "UE3HXCI87T/6LiCZXCTqP8uWLVu2bOk/gzRIgzRI4z8=",
          "dtype": "f8"
         },
         "yaxis": "y5"
        },
        {
         "marker": {
          "color": "#1f77b4"
         },
         "name": "TITLE Consistency",
         "showlegend": false,
         "text": "0.296",
         "textposition": "outside",
         "type": "bar",
         "x": [
          "TITLE"
         ],
         "xaxis": "x6",
         "y": [
          0.2958447651755338
         ],
         "yaxis": "y6"
        },
        {
         "marker": {
          "color": "#ff7f0e"
         },
         "name": "NO-TITLE Consistency",
         "showlegend": false,
         "text": "0.284",
         "textposition": "outside",
         "type": "bar",
         "x": [
          "NO-TITLE"
         ],
         "xaxis": "x6",
         "y": [
          0.28421896370826194
         ],
         "yaxis": "y6"
        }
       ],
       "layout": {
        "annotations": [
         {
          "font": {
           "size": 16
          },
          "showarrow": false,
          "text": "Model Performance Overview",
          "x": 0.225,
          "xanchor": "center",
          "xref": "paper",
          "y": 1,
          "yanchor": "bottom",
          "yref": "paper"
         },
         {
          "font": {
           "size": 16
          },
          "showarrow": false,
          "text": "Inference Speed Comparison",
          "x": 0.775,
          "xanchor": "center",
          "xref": "paper",
          "y": 1,
          "yanchor": "bottom",
          "yref": "paper"
         },
         {
          "font": {
           "size": 16
          },
          "showarrow": false,
          "text": "Dataset Performance Range",
          "x": 0.225,
          "xanchor": "center",
          "xref": "paper",
          "y": 0.6111111111111112,
          "yanchor": "bottom",
          "yref": "paper"
         },
         {
          "font": {
           "size": 16
          },
          "showarrow": false,
          "text": "Model Size Comparison",
          "x": 0.775,
          "xanchor": "center",
          "xref": "paper",
          "y": 0.6111111111111112,
          "yanchor": "bottom",
          "yref": "paper"
         },
         {
          "font": {
           "size": 16
          },
          "showarrow": false,
          "text": "Precision vs Recall",
          "x": 0.225,
          "xanchor": "center",
          "xref": "paper",
          "y": 0.22222222222222224,
          "yanchor": "bottom",
          "yref": "paper"
         },
         {
          "font": {
           "size": 16
          },
          "showarrow": false,
          "text": "Performance Consistency",
          "x": 0.775,
          "xanchor": "center",
          "xref": "paper",
          "y": 0.22222222222222224,
          "yanchor": "bottom",
          "yref": "paper"
         }
        ],
        "height": 1200,
        "template": {
         "data": {
          "bar": [
           {
            "error_x": {
             "color": "#2a3f5f"
            },
            "error_y": {
             "color": "#2a3f5f"
            },
            "marker": {
             "line": {
              "color": "white",
              "width": 0.5
             },
             "pattern": {
              "fillmode": "overlay",
              "size": 10,
              "solidity": 0.2
             }
            },
            "type": "bar"
           }
          ],
          "barpolar": [
           {
            "marker": {
             "line": {
              "color": "white",
              "width": 0.5
             },
             "pattern": {
              "fillmode": "overlay",
              "size": 10,
              "solidity": 0.2
             }
            },
            "type": "barpolar"
           }
          ],
          "carpet": [
           {
            "aaxis": {
             "endlinecolor": "#2a3f5f",
             "gridcolor": "#C8D4E3",
             "linecolor": "#C8D4E3",
             "minorgridcolor": "#C8D4E3",
             "startlinecolor": "#2a3f5f"
            },
            "baxis": {
             "endlinecolor": "#2a3f5f",
             "gridcolor": "#C8D4E3",
             "linecolor": "#C8D4E3",
             "minorgridcolor": "#C8D4E3",
             "startlinecolor": "#2a3f5f"
            },
            "type": "carpet"
           }
          ],
          "choropleth": [
           {
            "colorbar": {
             "outlinewidth": 0,
             "ticks": ""
            },
            "type": "choropleth"
           }
          ],
          "contour": [
           {
            "colorbar": {
             "outlinewidth": 0,
             "ticks": ""
            },
            "colorscale": [
             [
              0,
              "#0d0887"
             ],
             [
              0.1111111111111111,
              "#46039f"
             ],
             [
              0.2222222222222222,
              "#7201a8"
             ],
             [
              0.3333333333333333,
              "#9c179e"
             ],
             [
              0.4444444444444444,
              "#bd3786"
             ],
             [
              0.5555555555555556,
              "#d8576b"
             ],
             [
              0.6666666666666666,
              "#ed7953"
             ],
             [
              0.7777777777777778,
              "#fb9f3a"
             ],
             [
              0.8888888888888888,
              "#fdca26"
             ],
             [
              1,
              "#f0f921"
             ]
            ],
            "type": "contour"
           }
          ],
          "contourcarpet": [
           {
            "colorbar": {
             "outlinewidth": 0,
             "ticks": ""
            },
            "type": "contourcarpet"
           }
          ],
          "heatmap": [
           {
            "colorbar": {
             "outlinewidth": 0,
             "ticks": ""
            },
            "colorscale": [
             [
              0,
              "#0d0887"
             ],
             [
              0.1111111111111111,
              "#46039f"
             ],
             [
              0.2222222222222222,
              "#7201a8"
             ],
             [
              0.3333333333333333,
              "#9c179e"
             ],
             [
              0.4444444444444444,
              "#bd3786"
             ],
             [
              0.5555555555555556,
              "#d8576b"
             ],
             [
              0.6666666666666666,
              "#ed7953"
             ],
             [
              0.7777777777777778,
              "#fb9f3a"
             ],
             [
              0.8888888888888888,
              "#fdca26"
             ],
             [
              1,
              "#f0f921"
             ]
            ],
            "type": "heatmap"
           }
          ],
          "histogram": [
           {
            "marker": {
             "pattern": {
              "fillmode": "overlay",
              "size": 10,
              "solidity": 0.2
             }
            },
            "type": "histogram"
           }
          ],
          "histogram2d": [
           {
            "colorbar": {
             "outlinewidth": 0,
             "ticks": ""
            },
            "colorscale": [
             [
              0,
              "#0d0887"
             ],
             [
              0.1111111111111111,
              "#46039f"
             ],
             [
              0.2222222222222222,
              "#7201a8"
             ],
             [
              0.3333333333333333,
              "#9c179e"
             ],
             [
              0.4444444444444444,
              "#bd3786"
             ],
             [
              0.5555555555555556,
              "#d8576b"
             ],
             [
              0.6666666666666666,
              "#ed7953"
             ],
             [
              0.7777777777777778,
              "#fb9f3a"
             ],
             [
              0.8888888888888888,
              "#fdca26"
             ],
             [
              1,
              "#f0f921"
             ]
            ],
            "type": "histogram2d"
           }
          ],
          "histogram2dcontour": [
           {
            "colorbar": {
             "outlinewidth": 0,
             "ticks": ""
            },
            "colorscale": [
             [
              0,
              "#0d0887"
             ],
             [
              0.1111111111111111,
              "#46039f"
             ],
             [
              0.2222222222222222,
              "#7201a8"
             ],
             [
              0.3333333333333333,
              "#9c179e"
             ],
             [
              0.4444444444444444,
              "#bd3786"
             ],
             [
              0.5555555555555556,
              "#d8576b"
             ],
             [
              0.6666666666666666,
              "#ed7953"
             ],
             [
              0.7777777777777778,
              "#fb9f3a"
             ],
             [
              0.8888888888888888,
              "#fdca26"
             ],
             [
              1,
              "#f0f921"
             ]
            ],
            "type": "histogram2dcontour"
           }
          ],
          "mesh3d": [
           {
            "colorbar": {
             "outlinewidth": 0,
             "ticks": ""
            },
            "type": "mesh3d"
           }
          ],
          "parcoords": [
           {
            "line": {
             "colorbar": {
              "outlinewidth": 0,
              "ticks": ""
             }
            },
            "type": "parcoords"
           }
          ],
          "pie": [
           {
            "automargin": true,
            "type": "pie"
           }
          ],
          "scatter": [
           {
            "fillpattern": {
             "fillmode": "overlay",
             "size": 10,
             "solidity": 0.2
            },
            "type": "scatter"
           }
          ],
          "scatter3d": [
           {
            "line": {
             "colorbar": {
              "outlinewidth": 0,
              "ticks": ""
             }
            },
            "marker": {
             "colorbar": {
              "outlinewidth": 0,
              "ticks": ""
             }
            },
            "type": "scatter3d"
           }
          ],
          "scattercarpet": [
           {
            "marker": {
             "colorbar": {
              "outlinewidth": 0,
              "ticks": ""
             }
            },
            "type": "scattercarpet"
           }
          ],
          "scattergeo": [
           {
            "marker": {
             "colorbar": {
              "outlinewidth": 0,
              "ticks": ""
             }
            },
            "type": "scattergeo"
           }
          ],
          "scattergl": [
           {
            "marker": {
             "colorbar": {
              "outlinewidth": 0,
              "ticks": ""
             }
            },
            "type": "scattergl"
           }
          ],
          "scattermap": [
           {
            "marker": {
             "colorbar": {
              "outlinewidth": 0,
              "ticks": ""
             }
            },
            "type": "scattermap"
           }
          ],
          "scattermapbox": [
           {
            "marker": {
             "colorbar": {
              "outlinewidth": 0,
              "ticks": ""
             }
            },
            "type": "scattermapbox"
           }
          ],
          "scatterpolar": [
           {
            "marker": {
             "colorbar": {
              "outlinewidth": 0,
              "ticks": ""
             }
            },
            "type": "scatterpolar"
           }
          ],
          "scatterpolargl": [
           {
            "marker": {
             "colorbar": {
              "outlinewidth": 0,
              "ticks": ""
             }
            },
            "type": "scatterpolargl"
           }
          ],
          "scatterternary": [
           {
            "marker": {
             "colorbar": {
              "outlinewidth": 0,
              "ticks": ""
             }
            },
            "type": "scatterternary"
           }
          ],
          "surface": [
           {
            "colorbar": {
             "outlinewidth": 0,
             "ticks": ""
            },
            "colorscale": [
             [
              0,
              "#0d0887"
             ],
             [
              0.1111111111111111,
              "#46039f"
             ],
             [
              0.2222222222222222,
              "#7201a8"
             ],
             [
              0.3333333333333333,
              "#9c179e"
             ],
             [
              0.4444444444444444,
              "#bd3786"
             ],
             [
              0.5555555555555556,
              "#d8576b"
             ],
             [
              0.6666666666666666,
              "#ed7953"
             ],
             [
              0.7777777777777778,
              "#fb9f3a"
             ],
             [
              0.8888888888888888,
              "#fdca26"
             ],
             [
              1,
              "#f0f921"
             ]
            ],
            "type": "surface"
           }
          ],
          "table": [
           {
            "cells": {
             "fill": {
              "color": "#EBF0F8"
             },
             "line": {
              "color": "white"
             }
            },
            "header": {
             "fill": {
              "color": "#C8D4E3"
             },
             "line": {
              "color": "white"
             }
            },
            "type": "table"
           }
          ]
         },
         "layout": {
          "annotationdefaults": {
           "arrowcolor": "#2a3f5f",
           "arrowhead": 0,
           "arrowwidth": 1
          },
          "autotypenumbers": "strict",
          "coloraxis": {
           "colorbar": {
            "outlinewidth": 0,
            "ticks": ""
           }
          },
          "colorscale": {
           "diverging": [
            [
             0,
             "#8e0152"
            ],
            [
             0.1,
             "#c51b7d"
            ],
            [
             0.2,
             "#de77ae"
            ],
            [
             0.3,
             "#f1b6da"
            ],
            [
             0.4,
             "#fde0ef"
            ],
            [
             0.5,
             "#f7f7f7"
            ],
            [
             0.6,
             "#e6f5d0"
            ],
            [
             0.7,
             "#b8e186"
            ],
            [
             0.8,
             "#7fbc41"
            ],
            [
             0.9,
             "#4d9221"
            ],
            [
             1,
             "#276419"
            ]
           ],
           "sequential": [
            [
             0,
             "#0d0887"
            ],
            [
             0.1111111111111111,
             "#46039f"
            ],
            [
             0.2222222222222222,
             "#7201a8"
            ],
            [
             0.3333333333333333,
             "#9c179e"
            ],
            [
             0.4444444444444444,
             "#bd3786"
            ],
            [
             0.5555555555555556,
             "#d8576b"
            ],
            [
             0.6666666666666666,
             "#ed7953"
            ],
            [
             0.7777777777777778,
             "#fb9f3a"
            ],
            [
             0.8888888888888888,
             "#fdca26"
            ],
            [
             1,
             "#f0f921"
            ]
           ],
           "sequentialminus": [
            [
             0,
             "#0d0887"
            ],
            [
             0.1111111111111111,
             "#46039f"
            ],
            [
             0.2222222222222222,
             "#7201a8"
            ],
            [
             0.3333333333333333,
             "#9c179e"
            ],
            [
             0.4444444444444444,
             "#bd3786"
            ],
            [
             0.5555555555555556,
             "#d8576b"
            ],
            [
             0.6666666666666666,
             "#ed7953"
            ],
            [
             0.7777777777777778,
             "#fb9f3a"
            ],
            [
             0.8888888888888888,
             "#fdca26"
            ],
            [
             1,
             "#f0f921"
            ]
           ]
          },
          "colorway": [
           "#636efa",
           "#EF553B",
           "#00cc96",
           "#ab63fa",
           "#FFA15A",
           "#19d3f3",
           "#FF6692",
           "#B6E880",
           "#FF97FF",
           "#FECB52"
          ],
          "font": {
           "color": "#2a3f5f"
          },
          "geo": {
           "bgcolor": "white",
           "lakecolor": "white",
           "landcolor": "white",
           "showlakes": true,
           "showland": true,
           "subunitcolor": "#C8D4E3"
          },
          "hoverlabel": {
           "align": "left"
          },
          "hovermode": "closest",
          "mapbox": {
           "style": "light"
          },
          "paper_bgcolor": "white",
          "plot_bgcolor": "white",
          "polar": {
           "angularaxis": {
            "gridcolor": "#EBF0F8",
            "linecolor": "#EBF0F8",
            "ticks": ""
           },
           "bgcolor": "white",
           "radialaxis": {
            "gridcolor": "#EBF0F8",
            "linecolor": "#EBF0F8",
            "ticks": ""
           }
          },
          "scene": {
           "xaxis": {
            "backgroundcolor": "white",
            "gridcolor": "#DFE8F3",
            "gridwidth": 2,
            "linecolor": "#EBF0F8",
            "showbackground": true,
            "ticks": "",
            "zerolinecolor": "#EBF0F8"
           },
           "yaxis": {
            "backgroundcolor": "white",
            "gridcolor": "#DFE8F3",
            "gridwidth": 2,
            "linecolor": "#EBF0F8",
            "showbackground": true,
            "ticks": "",
            "zerolinecolor": "#EBF0F8"
           },
           "zaxis": {
            "backgroundcolor": "white",
            "gridcolor": "#DFE8F3",
            "gridwidth": 2,
            "linecolor": "#EBF0F8",
            "showbackground": true,
            "ticks": "",
            "zerolinecolor": "#EBF0F8"
           }
          },
          "shapedefaults": {
           "line": {
            "color": "#2a3f5f"
           }
          },
          "ternary": {
           "aaxis": {
            "gridcolor": "#DFE8F3",
            "linecolor": "#A2B1C6",
            "ticks": ""
           },
           "baxis": {
            "gridcolor": "#DFE8F3",
            "linecolor": "#A2B1C6",
            "ticks": ""
           },
           "bgcolor": "white",
           "caxis": {
            "gridcolor": "#DFE8F3",
            "linecolor": "#A2B1C6",
            "ticks": ""
           }
          },
          "title": {
           "x": 0.05
          },
          "xaxis": {
           "automargin": true,
           "gridcolor": "#EBF0F8",
           "linecolor": "#EBF0F8",
           "ticks": "",
           "title": {
            "standoff": 15
           },
           "zerolinecolor": "#EBF0F8",
           "zerolinewidth": 2
          },
          "yaxis": {
           "automargin": true,
           "gridcolor": "#EBF0F8",
           "linecolor": "#EBF0F8",
           "ticks": "",
           "title": {
            "standoff": 15
           },
           "zerolinecolor": "#EBF0F8",
           "zerolinewidth": 2
          }
         }
        },
        "title": {
         "text": "NER Model Evaluation Dashboard",
         "x": 0.5
        },
        "xaxis": {
         "anchor": "y",
         "domain": [
          0,
          0.45
         ]
        },
        "xaxis2": {
         "anchor": "y2",
         "domain": [
          0.55,
          1
         ]
        },
        "xaxis3": {
         "anchor": "y3",
         "domain": [
          0,
          0.45
         ]
        },
        "xaxis4": {
         "anchor": "y4",
         "domain": [
          0.55,
          1
         ]
        },
        "xaxis5": {
         "anchor": "y5",
         "domain": [
          0,
          0.45
         ],
         "title": {
          "text": "Precision"
         }
        },
        "xaxis6": {
         "anchor": "y6",
         "domain": [
          0.55,
          1
         ]
        },
        "yaxis": {
         "anchor": "x",
         "domain": [
          0.7777777777777778,
          1
         ],
         "title": {
          "text": "F1 Score"
         }
        },
        "yaxis2": {
         "anchor": "x2",
         "domain": [
          0.7777777777777778,
          1
         ],
         "title": {
          "text": "Time (ms)"
         }
        },
        "yaxis3": {
         "anchor": "x3",
         "domain": [
          0.3888888888888889,
          0.6111111111111112
         ],
         "title": {
          "text": "F1 Score"
         }
        },
        "yaxis4": {
         "anchor": "x4",
         "domain": [
          0.3888888888888889,
          0.6111111111111112
         ],
         "title": {
          "text": "Size (MB)"
         }
        },
        "yaxis5": {
         "anchor": "x5",
         "domain": [
          0,
          0.22222222222222224
         ],
         "title": {
          "text": "Recall"
         }
        },
        "yaxis6": {
         "anchor": "x6",
         "domain": [
          0,
          0.22222222222222224
         ],
         "title": {
          "text": "Std Dev"
         }
        }
       }
      }
     },
     "metadata": {},
     "output_type": "display_data"
    },
    {
     "name": "stdout",
     "output_type": "stream",
     "text": [
      "✅ Summary dashboard saved!\n"
     ]
    }
   ],
   "source": [
    "# 8. Summary Dashboard\n",
    "def create_summary_dashboard():\n",
    "    \"\"\"Create a comprehensive summary dashboard.\"\"\"\n",
    "    \n",
    "    from plotly.subplots import make_subplots\n",
    "    import plotly.graph_objects as go\n",
    "    \n",
    "    # Create a 3x2 subplot layout\n",
    "    fig = make_subplots(\n",
    "        rows=3, cols=2,\n",
    "        subplot_titles=('Model Performance Overview', 'Inference Speed Comparison',\n",
    "                       'Dataset Performance Range', 'Model Size Comparison',\n",
    "                       'Precision vs Recall', 'Performance Consistency'),\n",
    "        specs=[[{\"type\": \"bar\"}, {\"type\": \"bar\"}],\n",
    "               [{\"type\": \"box\"}, {\"type\": \"bar\"}],\n",
    "               [{\"type\": \"scatter\"}, {\"type\": \"bar\"}]]\n",
    "    )\n",
    "    \n",
    "    colors = {'TITLE': '#1f77b4', 'NO-TITLE': '#ff7f0e'}\n",
    "    \n",
    "    # 1. Model Performance Overview (F1 Score)\n",
    "    for model_type in df_aggregated['model_type']:\n",
    "        model_data = df_aggregated[df_aggregated['model_type'] == model_type].iloc[0]\n",
    "        fig.add_trace(\n",
    "            go.Bar(\n",
    "                x=[model_type],\n",
    "                y=[model_data['person_f1_mean']],\n",
    "                name=f'{model_type} F1',\n",
    "                marker_color=colors[model_type],\n",
    "                showlegend=False,\n",
    "                text=f\"{model_data['person_f1_mean']:.3f}\",\n",
    "                textposition='outside'\n",
    "            ),\n",
    "            row=1, col=1\n",
    "        )\n",
    "    \n",
    "    # 2. Inference Speed Comparison\n",
    "    for model_type in df_aggregated['model_type']:\n",
    "        model_data = df_aggregated[df_aggregated['model_type'] == model_type].iloc[0]\n",
    "        fig.add_trace(\n",
    "            go.Bar(\n",
    "                x=[model_type],\n",
    "                y=[model_data['avg_inference_time_per_sample']],\n",
    "                name=f'{model_type} Speed',\n",
    "                marker_color=colors[model_type],\n",
    "                showlegend=False,\n",
    "                text=f\"{model_data['avg_inference_time_per_sample']:.1f}ms\",\n",
    "                textposition='outside'\n",
    "            ),\n",
    "            row=1, col=2\n",
    "        )\n",
    "    \n",
    "    # 3. Dataset Performance Range (Box plot)\n",
    "    for model_type in df_results['model_type'].unique():\n",
    "        model_data = df_results[df_results['model_type'] == model_type]\n",
    "        fig.add_trace(\n",
    "            go.Box(\n",
    "                y=model_data['person_f1'],\n",
    "                name=model_type,\n",
    "                marker_color=colors[model_type],\n",
    "                showlegend=False\n",
    "            ),\n",
    "            row=2, col=1\n",
    "        )\n",
    "    \n",
    "    # 4. Model Size Comparison\n",
    "    for model_type in df_aggregated['model_type']:\n",
    "        model_data = df_aggregated[df_aggregated['model_type'] == model_type].iloc[0]\n",
    "        fig.add_trace(\n",
    "            go.Bar(\n",
    "                x=[model_type],\n",
    "                y=[model_data['model_size_mb']],\n",
    "                name=f'{model_type} Size',\n",
    "                marker_color=colors[model_type],\n",
    "                showlegend=False,\n",
    "                text=f\"{model_data['model_size_mb']:.1f}MB\",\n",
    "                textposition='outside'\n",
    "            ),\n",
    "            row=2, col=2\n",
    "        )\n",
    "    \n",
    "    # 5. Precision vs Recall\n",
    "    for model_type in df_results['model_type'].unique():\n",
    "        model_data = df_results[df_results['model_type'] == model_type]\n",
    "        fig.add_trace(\n",
    "            go.Scatter(\n",
    "                x=model_data['person_precision'],\n",
    "                y=model_data['person_recall'],\n",
    "                mode='markers',\n",
    "                name=model_type,\n",
    "                marker=dict(size=10, color=colors[model_type]),\n",
    "                showlegend=False,\n",
    "                text=model_data['dataset'],\n",
    "                hovertemplate='%{text}<br>Precision: %{x:.3f}<br>Recall: %{y:.3f}<extra></extra>'\n",
    "            ),\n",
    "            row=3, col=1\n",
    "        )\n",
    "    \n",
    "    # 6. Performance Consistency (Standard Deviation)\n",
    "    for model_type in df_aggregated['model_type']:\n",
    "        model_data = df_aggregated[df_aggregated['model_type'] == model_type].iloc[0]\n",
    "        fig.add_trace(\n",
    "            go.Bar(\n",
    "                x=[model_type],\n",
    "                y=[model_data['person_f1_std']],\n",
    "                name=f'{model_type} Consistency',\n",
    "                marker_color=colors[model_type],\n",
    "                showlegend=False,\n",
    "                text=f\"{model_data['person_f1_std']:.3f}\",\n",
    "                textposition='outside'\n",
    "            ),\n",
    "            row=3, col=2\n",
    "        )\n",
    "    \n",
    "    # Update layout\n",
    "    fig.update_layout(\n",
    "        height=1200,\n",
    "        title_text=\"NER Model Evaluation Dashboard\",\n",
    "        title_x=0.5,\n",
    "        template=\"plotly_white\"\n",
    "    )\n",
    "    \n",
    "    # Update specific axes\n",
    "    fig.update_yaxes(title_text=\"F1 Score\", row=1, col=1)\n",
    "    fig.update_yaxes(title_text=\"Time (ms)\", row=1, col=2)\n",
    "    fig.update_yaxes(title_text=\"F1 Score\", row=2, col=1)\n",
    "    fig.update_yaxes(title_text=\"Size (MB)\", row=2, col=2)\n",
    "    fig.update_yaxes(title_text=\"Recall\", row=3, col=1)\n",
    "    fig.update_xaxes(title_text=\"Precision\", row=3, col=1)\n",
    "    fig.update_yaxes(title_text=\"Std Dev\", row=3, col=2)\n",
    "    \n",
    "    return fig\n",
    "\n",
    "dashboard_fig = create_summary_dashboard()\n",
    "dashboard_fig.show()\n",
    "\n",
    "# Save the dashboard\n",
    "dashboard_fig.write_html(CHARTS_PATH / f\"summary_dashboard_{results_timestamp}.html\")\n",
    "dashboard_fig.write_image(CHARTS_PATH / f\"summary_dashboard_{results_timestamp}.png\", width=1400, height=1200)\n",
    "print(\"✅ Summary dashboard saved!\")"
   ]
  },
  {
   "cell_type": "code",
   "execution_count": 26,
   "id": "72fa93de",
   "metadata": {},
   "outputs": [
    {
     "name": "stdout",
     "output_type": "stream",
     "text": [
      "📄 Summary report saved to: /home/daniel-dorigo/Desktop/NER-proper-names/charts/evaluation_report_detailed_evaluation_results_20250611_004238.txt\n",
      "\n",
      "============================================================\n",
      "SUMMARY REPORT\n",
      "============================================================\n",
      "\n",
      "# NER Model Evaluation Summary Report\n",
      "Generated: 2025-06-11 10:58:30\n",
      "\n",
      "## Overall Results\n",
      "\n",
      "### Dataset Coverage:\n",
      "- Total evaluations: 8\n",
      "- Unique datasets: 4\n",
      "- Model types evaluated: TITLE, NO-TITLE\n",
      "\n",
      "### Key Findings:\n",
      "\n",
      "\n",
      "#### TITLE Model Performance:\n",
      "- **F1 Score**: 0.556 ± 0.296 (range: 0.245 - 0.884)\n",
      "- **Precision**: 0.474 ± 0.324\n",
      "- **Recall**: 0.799 ± 0.119\n",
      "- **Token Accuracy**: 0.958 ± 0.025\n",
      "- **Model Size**: 484.5 MB\n",
      "- **Avg Inference Time**: 44.5 ms per sample\n",
      "- **Datasets Evaluated**: 4\n",
      "- **Total Samples**: 7,104\n",
      "\n",
      "#### NO-TITLE Model Performance:\n",
      "- **F1 Score**: 0.584 ± 0.284 (range: 0.284 - 0.894)\n",
      "- **Precision**: 0.512 ± 0.325\n",
      "- **Recall**: 0.782 ± 0.130\n",
      "- **Token Accuracy**: 0.969 ± 0.022\n",
      "- **Model Size**: 484.5 MB\n",
      "- **Avg Inference Time**: 46.5 ms per sample\n",
      "- **Datasets Evaluated**: 4\n",
      "- **Total Samples**: 7,104\n",
      "\n",
      "### Best Performing Datasets by Model:\n",
      "\n",
      "**TITLE Model - Best Dataset: conllpp_train**\n",
      "- F1 Score: 0.884\n",
      "- Precision: 0.838\n",
      "- Recall: 0.935\n",
      "- Samples: 1,499\n",
      "\n",
      "**NO-TITLE Model - Best Dataset: conllpp_train**\n",
      "- F1 Score: 0.894\n",
      "- Precision: 0.876\n",
      "- Recall: 0.914\n",
      "- Samples: 1,499\n",
      "\n",
      "### Model Comparison Summary:\n",
      "- **Better F1 Performance**: NO-TITLE model (0.028 points difference)\n",
      "- **Faster Inference**: TITLE model (1.9 ms difference)\n",
      "- **Model Sizes**: Nearly identical (~484.5 MB)\n",
      "\n",
      "### Recommendations:\n",
      "- For highest accuracy: Use NO-TITLE model\n",
      "- For fastest inference: Use TITLE model\n",
      "- Both models show similar efficiency in terms of size/performance ratio\n",
      "\n",
      "### Generated Visualizations:\n",
      "The following charts have been saved to the charts directory:\n",
      "1. Performance Comparison Chart\n",
      "2. Aggregated Model Comparison\n",
      "3. Efficiency Analysis (Speed vs Performance)\n",
      "4. Multi-dimensional Radar Chart\n",
      "5. Distribution Analysis\n",
      "6. Performance Heatmap\n",
      "7. Statistical Analysis with Confidence Intervals\n",
      "8. Comprehensive Summary Dashboard\n",
      "\n",
      "All charts are available in both HTML (interactive) and PNG (static) formats.\n",
      "\n"
     ]
    }
   ],
   "source": [
    "# 9. Generate Summary Report\n",
    "def generate_summary_report():\n",
    "    \"\"\"Generate a comprehensive text summary of the results.\"\"\"\n",
    "    \n",
    "    timestamp = datetime.now().strftime(\"%Y-%m-%d %H:%M:%S\")\n",
    "    \n",
    "    report = f\"\"\"\n",
    "# NER Model Evaluation Summary Report\n",
    "Generated: {timestamp}\n",
    "\n",
    "## Overall Results\n",
    "\n",
    "### Dataset Coverage:\n",
    "- Total evaluations: {len(df_results)}\n",
    "- Unique datasets: {len(df_results['dataset'].unique())}\n",
    "- Model types evaluated: {', '.join(df_results['model_type'].unique())}\n",
    "\n",
    "### Key Findings:\n",
    "\n",
    "\"\"\"\n",
    "    \n",
    "    # Add model comparison\n",
    "    for model_type in df_aggregated['model_type']:\n",
    "        model_data = df_aggregated[df_aggregated['model_type'] == model_type].iloc[0]\n",
    "        \n",
    "        report += f\"\"\"\n",
    "#### {model_type} Model Performance:\n",
    "- **F1 Score**: {model_data['person_f1_mean']:.3f} ± {model_data['person_f1_std']:.3f} (range: {model_data['person_f1_min']:.3f} - {model_data['person_f1_max']:.3f})\n",
    "- **Precision**: {model_data['person_precision_mean']:.3f} ± {model_data['person_precision_std']:.3f}\n",
    "- **Recall**: {model_data['person_recall_mean']:.3f} ± {model_data['person_recall_std']:.3f}\n",
    "- **Token Accuracy**: {model_data['token_accuracy_mean']:.3f} ± {model_data['token_accuracy_std']:.3f}\n",
    "- **Model Size**: {model_data['model_size_mb']:.1f} MB\n",
    "- **Avg Inference Time**: {model_data['avg_inference_time_per_sample']:.1f} ms per sample\n",
    "- **Datasets Evaluated**: {model_data['num_datasets']}\n",
    "- **Total Samples**: {model_data['total_samples']:,}\n",
    "\"\"\"\n",
    "    \n",
    "    # Add best performing datasets\n",
    "    report += \"\\n### Best Performing Datasets by Model:\\n\"\n",
    "    \n",
    "    for model_type in df_results['model_type'].unique():\n",
    "        model_data = df_results[df_results['model_type'] == model_type]\n",
    "        best_dataset = model_data.loc[model_data['person_f1'].idxmax()]\n",
    "        \n",
    "        report += f\"\"\"\n",
    "**{model_type} Model - Best Dataset: {best_dataset['dataset']}**\n",
    "- F1 Score: {best_dataset['person_f1']:.3f}\n",
    "- Precision: {best_dataset['person_precision']:.3f}\n",
    "- Recall: {best_dataset['person_recall']:.3f}\n",
    "- Samples: {best_dataset['num_samples']:,}\n",
    "\"\"\"\n",
    "    \n",
    "    # Add model comparison\n",
    "    if len(df_aggregated) == 2:\n",
    "        title_data = df_aggregated[df_aggregated['model_type'] == 'TITLE'].iloc[0]\n",
    "        no_title_data = df_aggregated[df_aggregated['model_type'] == 'NO-TITLE'].iloc[0]\n",
    "        \n",
    "        f1_diff = title_data['person_f1_mean'] - no_title_data['person_f1_mean']\n",
    "        speed_diff = title_data['avg_inference_time_per_sample'] - no_title_data['avg_inference_time_per_sample']\n",
    "        \n",
    "        better_f1 = \"TITLE\" if f1_diff > 0 else \"NO-TITLE\"\n",
    "        faster = \"TITLE\" if speed_diff < 0 else \"NO-TITLE\"\n",
    "        \n",
    "        report += f\"\"\"\n",
    "### Model Comparison Summary:\n",
    "- **Better F1 Performance**: {better_f1} model ({abs(f1_diff):.3f} points difference)\n",
    "- **Faster Inference**: {faster} model ({abs(speed_diff):.1f} ms difference)\n",
    "- **Model Sizes**: Nearly identical (~{title_data['model_size_mb']:.1f} MB)\n",
    "\n",
    "### Recommendations:\n",
    "- For highest accuracy: Use {better_f1} model\n",
    "- For fastest inference: Use {faster} model\n",
    "- Both models show similar efficiency in terms of size/performance ratio\n",
    "\"\"\"\n",
    "    \n",
    "    report += f\"\"\"\n",
    "### Generated Visualizations:\n",
    "The following charts have been saved to the charts directory:\n",
    "1. Performance Comparison Chart\n",
    "2. Aggregated Model Comparison\n",
    "3. Efficiency Analysis (Speed vs Performance)\n",
    "4. Multi-dimensional Radar Chart\n",
    "5. Distribution Analysis\n",
    "6. Performance Heatmap\n",
    "7. Statistical Analysis with Confidence Intervals\n",
    "8. Comprehensive Summary Dashboard\n",
    "\n",
    "All charts are available in both HTML (interactive) and PNG (static) formats.\n",
    "\"\"\"\n",
    "    \n",
    "    # Save the report\n",
    "    report_path = CHARTS_PATH / f\"evaluation_report_{results_timestamp}.txt\"\n",
    "    with open(report_path, 'w') as f:\n",
    "        f.write(report)\n",
    "    \n",
    "    print(f\"📄 Summary report saved to: {report_path}\")\n",
    "    return report\n",
    "\n",
    "summary_report = generate_summary_report()\n",
    "print(\"\\n\" + \"=\"*60)\n",
    "print(\"SUMMARY REPORT\")\n",
    "print(\"=\"*60)\n",
    "print(summary_report)"
   ]
  },
  {
   "cell_type": "code",
   "execution_count": 27,
   "id": "4e0233c1",
   "metadata": {},
   "outputs": [
    {
     "name": "stdout",
     "output_type": "stream",
     "text": [
      "🎉 Visualization Pipeline Complete!\n",
      "==================================================\n",
      "\n",
      "📁 Generated files in /home/daniel-dorigo/Desktop/NER-proper-names/charts:\n",
      "  📊 aggregated_comparison_detailed_evaluation_results_20250611_004238.html (4553.2 KB)\n",
      "  📊 aggregated_comparison_detailed_evaluation_results_20250611_004238.png (47.8 KB)\n",
      "  📊 distribution_analysis_detailed_evaluation_results_20250611_004238.html (4555.0 KB)\n",
      "  📊 distribution_analysis_detailed_evaluation_results_20250611_004238.png (68.0 KB)\n",
      "  📊 efficiency_analysis_detailed_evaluation_results_20250611_004238.html (4553.8 KB)\n",
      "  📊 efficiency_analysis_detailed_evaluation_results_20250611_004238.png (48.2 KB)\n",
      "  📊 evaluation_report_detailed_evaluation_results_20250611_004238.txt (1.9 KB)\n",
      "  📊 performance_comparison_detailed_evaluation_results_20250611_004238.html (4555.2 KB)\n",
      "  📊 performance_comparison_detailed_evaluation_results_20250611_004238.png (75.1 KB)\n",
      "  📊 performance_heatmap_detailed_evaluation_results_20250611_004238.html (4556.2 KB)\n",
      "  📊 performance_heatmap_detailed_evaluation_results_20250611_004238.png (89.3 KB)\n",
      "  📊 radar_comparison_detailed_evaluation_results_20250611_004238.html (4552.9 KB)\n",
      "  📊 radar_comparison_detailed_evaluation_results_20250611_004238.png (61.4 KB)\n",
      "  📊 statistical_analysis_detailed_evaluation_results_20250611_004238.html (4556.2 KB)\n",
      "  📊 statistical_analysis_detailed_evaluation_results_20250611_004238.png (64.4 KB)\n",
      "  📊 summary_dashboard_detailed_evaluation_results_20250611_004238.html (4556.9 KB)\n",
      "  📊 summary_dashboard_detailed_evaluation_results_20250611_004238.png (113.2 KB)\n",
      "\n",
      "📈 Total files generated: 17\n",
      "📊 Interactive HTML files: 8\n",
      "🖼️  Static PNG images: 8\n",
      "📄 Text reports: 1\n",
      "\n",
      "💡 Next Steps:\n",
      "  1. Open the HTML files in your browser for interactive exploration\n",
      "  2. Use PNG files for presentations or reports\n",
      "  3. Review the text summary report for key insights\n",
      "  4. Share the summary dashboard for a comprehensive overview\n",
      "\n",
      "🔗 Quick Access:\n",
      "  Dashboard: /home/daniel-dorigo/Desktop/NER-proper-names/charts/summary_dashboard_detailed_evaluation_results_20250611_004238.html\n",
      "  Report: /home/daniel-dorigo/Desktop/NER-proper-names/charts/evaluation_report_detailed_evaluation_results_20250611_004238.txt\n"
     ]
    }
   ],
   "source": [
    "# 10. Final Summary and File List\n",
    "print(\"🎉 Visualization Pipeline Complete!\")\n",
    "print(\"=\" * 50)\n",
    "\n",
    "print(f\"\\n📁 Generated files in {CHARTS_PATH}:\")\n",
    "chart_files = list(CHARTS_PATH.glob(f\"*{results_timestamp}*\"))\n",
    "for file_path in sorted(chart_files):\n",
    "    file_size = file_path.stat().st_size / 1024  # Size in KB\n",
    "    print(f\"  📊 {file_path.name} ({file_size:.1f} KB)\")\n",
    "\n",
    "print(f\"\\n📈 Total files generated: {len(chart_files)}\")\n",
    "print(f\"📊 Interactive HTML files: {len([f for f in chart_files if f.suffix == '.html'])}\")\n",
    "print(f\"🖼️  Static PNG images: {len([f for f in chart_files if f.suffix == '.png'])}\")\n",
    "print(f\"📄 Text reports: {len([f for f in chart_files if f.suffix == '.txt'])}\")\n",
    "\n",
    "print(f\"\\n💡 Next Steps:\")\n",
    "print(f\"  1. Open the HTML files in your browser for interactive exploration\")\n",
    "print(f\"  2. Use PNG files for presentations or reports\")\n",
    "print(f\"  3. Review the text summary report for key insights\")\n",
    "print(f\"  4. Share the summary dashboard for a comprehensive overview\")\n",
    "\n",
    "print(f\"\\n🔗 Quick Access:\")\n",
    "print(f\"  Dashboard: {CHARTS_PATH / f'summary_dashboard_{results_timestamp}.html'}\")\n",
    "print(f\"  Report: {CHARTS_PATH / f'evaluation_report_{results_timestamp}.txt'}\")"
   ]
  }
 ],
 "metadata": {
  "kernelspec": {
   "display_name": "pythone-n5RMdNOy",
   "language": "python",
   "name": "python3"
  },
  "language_info": {
   "codemirror_mode": {
    "name": "ipython",
    "version": 3
   },
   "file_extension": ".py",
   "mimetype": "text/x-python",
   "name": "python",
   "nbconvert_exporter": "python",
   "pygments_lexer": "ipython3",
   "version": "3.12.3"
  }
 },
 "nbformat": 4,
 "nbformat_minor": 5
}
